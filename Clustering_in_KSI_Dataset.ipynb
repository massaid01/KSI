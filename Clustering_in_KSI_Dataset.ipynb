{
  "cells": [
    {
      "cell_type": "markdown",
      "source": [
        "# **Problem Statement**\n",
        "##Goal \n",
        "Clustering neighbourhood and gain insight about collisions cases \n",
        "\n",
        "##Research question \n",
        "Which area has a significant contribution to collision cases in Toronto in 2006 - 2020?"
      ],
      "metadata": {
        "id": "pWmU3LQouHvA"
      }
    },
    {
      "cell_type": "markdown",
      "source": [
        "# **Assumption and Data**\n",
        "##Assumption \n",
        "There are some areas that have a frequency of accidents more often than other areas, therefore, this study is to find out these areas.\n",
        "\n",
        "##Data\n",
        "This dataset includes all traffic collisions events where a person was either Killed or Seriously Injured (KSI) from 2006 – 2020. This study utilized data from [Toronto Police Official Website](https://data.torontopolice.on.ca/datasets/TorontoPS::ksi/explore?location=43.722757%2C-79.382143%2C11.43). "
      ],
      "metadata": {
        "id": "GQZb8GTfsx_R"
      }
    },
    {
      "cell_type": "markdown",
      "source": [
        "# **Analysis - Modeling**"
      ],
      "metadata": {
        "id": "zt5w1GpdPwOQ"
      }
    },
    {
      "cell_type": "markdown",
      "metadata": {
        "id": "rLyp7QKSr8rs"
      },
      "source": [
        "## Data Preparation"
      ]
    },
    {
      "cell_type": "code",
      "execution_count": 1,
      "metadata": {
        "id": "yNfKhuxla8Db"
      },
      "outputs": [],
      "source": [
        "# Essentials\n",
        "import numpy as np\n",
        "import pandas as pd\n",
        "\n",
        "# Plots\n",
        "import matplotlib.pyplot as plt\n",
        "from matplotlib.ticker import PercentFormatter\n",
        "import seaborn as sns\n",
        "%matplotlib inline\n",
        "\n",
        "#Model\n",
        "from sklearn.cluster import KMeans\n",
        "from sklearn.preprocessing import StandardScaler\n",
        "from sklearn.manifold import TSNE\n",
        "from sklearn.metrics import davies_bouldin_score"
      ]
    },
    {
      "cell_type": "code",
      "execution_count": 3,
      "metadata": {
        "id": "teCeGKJlbABZ",
        "colab": {
          "base_uri": "https://localhost:8080/"
        },
        "outputId": "640b9df9-1251-42de-ded2-f0259a190914"
      },
      "outputs": [
        {
          "output_type": "stream",
          "name": "stdout",
          "text": [
            "Drive already mounted at /content/drive; to attempt to forcibly remount, call drive.mount(\"/content/drive\", force_remount=True).\n"
          ]
        }
      ],
      "source": [
        "from google.colab import drive\n",
        "drive.mount('/content/drive')"
      ]
    },
    {
      "cell_type": "code",
      "execution_count": 4,
      "metadata": {
        "colab": {
          "base_uri": "https://localhost:8080/",
          "height": 530
        },
        "id": "UAAxzkI6bmV8",
        "outputId": "6f0df8a9-8809-4750-c78e-6245e6804635"
      },
      "outputs": [
        {
          "output_type": "execute_result",
          "data": {
            "text/plain": [
              "              X             Y   INDEX_  ACCNUM  YEAR                    DATE  \\\n",
              "0 -8.844611e+06  5.412414e+06  3387730  892658  2006  2006/03/11 05:00:00+00   \n",
              "1 -8.844611e+06  5.412414e+06  3387731  892658  2006  2006/03/11 05:00:00+00   \n",
              "2 -8.816480e+06  5.434843e+06  3388101  892810  2006  2006/03/11 05:00:00+00   \n",
              "3 -8.816480e+06  5.434843e+06  3388102  892810  2006  2006/03/11 05:00:00+00   \n",
              "4 -8.822759e+06  5.424516e+06  3387793  892682  2006  2006/03/12 05:00:00+00   \n",
              "\n",
              "   TIME  HOUR          STREET1           STREET2  OFFSET      ROAD_CLASS  \\\n",
              "0   852     8       BLOOR ST W       DUNDAS ST W  <Null>  Major Arterial   \n",
              "1   852     8       BLOOR ST W       DUNDAS ST W  <Null>  Major Arterial   \n",
              "2   915     9  MORNINGSIDE AVE    SHEPPARD AVE E  <Null>  Major Arterial   \n",
              "3   915     9  MORNINGSIDE AVE    SHEPPARD AVE E  <Null>  Major Arterial   \n",
              "4   240     2   EGLINTON AVE E  COMMONWEALTH AVE  <Null>  Major Arterial   \n",
              "\n",
              "                DISTRICT WARDNUM DIVISION   LATITUDE  LONGITUDE      LOCCOORD  \\\n",
              "0  Toronto and East York       4       11  43.656345 -79.452490  Intersection   \n",
              "1  Toronto and East York       4       11  43.656345 -79.452490  Intersection   \n",
              "2            Scarborough      25       42  43.801943 -79.199786  Intersection   \n",
              "3            Scarborough      25       42  43.801943 -79.199786  Intersection   \n",
              "4            Scarborough   21,20       41  43.734945 -79.256190     Mid-Block   \n",
              "\n",
              "            ACCLOC        TRAFFCTL VISIBILITY     LIGHT RDSFCOND ACCLASS  \\\n",
              "0  At Intersection  Traffic Signal      Clear  Daylight      Dry   Fatal   \n",
              "1  At Intersection  Traffic Signal      Clear  Daylight      Dry   Fatal   \n",
              "2  At Intersection  Traffic Signal      Clear  Daylight      Dry   Fatal   \n",
              "3  At Intersection  Traffic Signal      Clear  Daylight      Dry   Fatal   \n",
              "4           <Null>      No Control      Clear      Dark      Dry   Fatal   \n",
              "\n",
              "               IMPACTYPE            INVTYPE    INVAGE INJURY FATAL_NO INITDIR  \\\n",
              "0  Pedestrian Collisions             Driver   unknown   None   <Null>   South   \n",
              "1  Pedestrian Collisions         Pedestrian  65 to 69  Fatal   <Null>   North   \n",
              "2       Turning Movement  Motorcycle Driver  45 to 49  Fatal   <Null>    East   \n",
              "3       Turning Movement             Driver   unknown   None   <Null>   South   \n",
              "4  Pedestrian Collisions             Driver  25 to 29   None   <Null>    West   \n",
              "\n",
              "                     VEHTYPE      MANOEUVER                       DRIVACT  \\\n",
              "0  Automobile, Station Wagon   Turning Left  Failed to Yield Right of Way   \n",
              "1                      Other         <Null>                        <Null>   \n",
              "2                 Motorcycle  Turning Right     Disobeyed Traffic Control   \n",
              "3  Automobile, Station Wagon    Going Ahead              Driving Properly   \n",
              "4  Automobile, Station Wagon    Going Ahead                         Other   \n",
              "\n",
              "                    DRIVCOND  \\\n",
              "0                    Unknown   \n",
              "1                     <Null>   \n",
              "2                    Unknown   \n",
              "3                    Unknown   \n",
              "4  Ability Impaired, Alcohol   \n",
              "\n",
              "                                             PEDTYPE  \\\n",
              "0                                             <Null>   \n",
              "1  Vehicle turns left while ped crosses with ROW ...   \n",
              "2                                             <Null>   \n",
              "3                                             <Null>   \n",
              "4                                             <Null>   \n",
              "\n",
              "                       PEDACT  PEDCOND CYCLISTYPE  CYCACT CYCCOND PEDESTRIAN  \\\n",
              "0                      <Null>   <Null>     <Null>  <Null>  <Null>        Yes   \n",
              "1  Crossing with right of way  Unknown     <Null>  <Null>  <Null>        Yes   \n",
              "2                      <Null>   <Null>     <Null>  <Null>  <Null>     <Null>   \n",
              "3                      <Null>   <Null>     <Null>  <Null>  <Null>     <Null>   \n",
              "4                      <Null>   <Null>     <Null>  <Null>  <Null>        Yes   \n",
              "\n",
              "  CYCLIST AUTOMOBILE MOTORCYCLE   TRUCK TRSN_CITY_VEH EMERG_VEH PASSENGER  \\\n",
              "0  <Null>        Yes     <Null>  <Null>        <Null>    <Null>    <Null>   \n",
              "1  <Null>        Yes     <Null>  <Null>        <Null>    <Null>    <Null>   \n",
              "2  <Null>        Yes        Yes  <Null>        <Null>    <Null>    <Null>   \n",
              "3  <Null>        Yes        Yes  <Null>        <Null>    <Null>    <Null>   \n",
              "4  <Null>        Yes     <Null>  <Null>        <Null>    <Null>    <Null>   \n",
              "\n",
              "  SPEEDING AG_DRIV REDLIGHT ALCOHOL DISABILITY POLICE_DIVISION  HOOD_ID  \\\n",
              "0   <Null>     Yes   <Null>  <Null>     <Null>             D11       88   \n",
              "1   <Null>     Yes   <Null>  <Null>     <Null>             D11       88   \n",
              "2   <Null>     Yes      Yes  <Null>     <Null>             D42      131   \n",
              "3   <Null>     Yes      Yes  <Null>     <Null>             D42      131   \n",
              "4   <Null>  <Null>   <Null>     Yes     <Null>             D41      138   \n",
              "\n",
              "          NEIGHBOURHOOD  ObjectId  \n",
              "0  High Park North (88)         1  \n",
              "1  High Park North (88)         2  \n",
              "2           Rouge (131)         3  \n",
              "3           Rouge (131)         4  \n",
              "4   Eglinton East (138)         5  "
            ],
            "text/html": [
              "\n",
              "  <div id=\"df-65bfce62-b82b-42b2-a216-cb815e065f72\">\n",
              "    <div class=\"colab-df-container\">\n",
              "      <div>\n",
              "<style scoped>\n",
              "    .dataframe tbody tr th:only-of-type {\n",
              "        vertical-align: middle;\n",
              "    }\n",
              "\n",
              "    .dataframe tbody tr th {\n",
              "        vertical-align: top;\n",
              "    }\n",
              "\n",
              "    .dataframe thead th {\n",
              "        text-align: right;\n",
              "    }\n",
              "</style>\n",
              "<table border=\"1\" class=\"dataframe\">\n",
              "  <thead>\n",
              "    <tr style=\"text-align: right;\">\n",
              "      <th></th>\n",
              "      <th>X</th>\n",
              "      <th>Y</th>\n",
              "      <th>INDEX_</th>\n",
              "      <th>ACCNUM</th>\n",
              "      <th>YEAR</th>\n",
              "      <th>DATE</th>\n",
              "      <th>TIME</th>\n",
              "      <th>HOUR</th>\n",
              "      <th>STREET1</th>\n",
              "      <th>STREET2</th>\n",
              "      <th>OFFSET</th>\n",
              "      <th>ROAD_CLASS</th>\n",
              "      <th>DISTRICT</th>\n",
              "      <th>WARDNUM</th>\n",
              "      <th>DIVISION</th>\n",
              "      <th>LATITUDE</th>\n",
              "      <th>LONGITUDE</th>\n",
              "      <th>LOCCOORD</th>\n",
              "      <th>ACCLOC</th>\n",
              "      <th>TRAFFCTL</th>\n",
              "      <th>VISIBILITY</th>\n",
              "      <th>LIGHT</th>\n",
              "      <th>RDSFCOND</th>\n",
              "      <th>ACCLASS</th>\n",
              "      <th>IMPACTYPE</th>\n",
              "      <th>INVTYPE</th>\n",
              "      <th>INVAGE</th>\n",
              "      <th>INJURY</th>\n",
              "      <th>FATAL_NO</th>\n",
              "      <th>INITDIR</th>\n",
              "      <th>VEHTYPE</th>\n",
              "      <th>MANOEUVER</th>\n",
              "      <th>DRIVACT</th>\n",
              "      <th>DRIVCOND</th>\n",
              "      <th>PEDTYPE</th>\n",
              "      <th>PEDACT</th>\n",
              "      <th>PEDCOND</th>\n",
              "      <th>CYCLISTYPE</th>\n",
              "      <th>CYCACT</th>\n",
              "      <th>CYCCOND</th>\n",
              "      <th>PEDESTRIAN</th>\n",
              "      <th>CYCLIST</th>\n",
              "      <th>AUTOMOBILE</th>\n",
              "      <th>MOTORCYCLE</th>\n",
              "      <th>TRUCK</th>\n",
              "      <th>TRSN_CITY_VEH</th>\n",
              "      <th>EMERG_VEH</th>\n",
              "      <th>PASSENGER</th>\n",
              "      <th>SPEEDING</th>\n",
              "      <th>AG_DRIV</th>\n",
              "      <th>REDLIGHT</th>\n",
              "      <th>ALCOHOL</th>\n",
              "      <th>DISABILITY</th>\n",
              "      <th>POLICE_DIVISION</th>\n",
              "      <th>HOOD_ID</th>\n",
              "      <th>NEIGHBOURHOOD</th>\n",
              "      <th>ObjectId</th>\n",
              "    </tr>\n",
              "  </thead>\n",
              "  <tbody>\n",
              "    <tr>\n",
              "      <th>0</th>\n",
              "      <td>-8.844611e+06</td>\n",
              "      <td>5.412414e+06</td>\n",
              "      <td>3387730</td>\n",
              "      <td>892658</td>\n",
              "      <td>2006</td>\n",
              "      <td>2006/03/11 05:00:00+00</td>\n",
              "      <td>852</td>\n",
              "      <td>8</td>\n",
              "      <td>BLOOR ST W</td>\n",
              "      <td>DUNDAS ST W</td>\n",
              "      <td>&lt;Null&gt;</td>\n",
              "      <td>Major Arterial</td>\n",
              "      <td>Toronto and East York</td>\n",
              "      <td>4</td>\n",
              "      <td>11</td>\n",
              "      <td>43.656345</td>\n",
              "      <td>-79.452490</td>\n",
              "      <td>Intersection</td>\n",
              "      <td>At Intersection</td>\n",
              "      <td>Traffic Signal</td>\n",
              "      <td>Clear</td>\n",
              "      <td>Daylight</td>\n",
              "      <td>Dry</td>\n",
              "      <td>Fatal</td>\n",
              "      <td>Pedestrian Collisions</td>\n",
              "      <td>Driver</td>\n",
              "      <td>unknown</td>\n",
              "      <td>None</td>\n",
              "      <td>&lt;Null&gt;</td>\n",
              "      <td>South</td>\n",
              "      <td>Automobile, Station Wagon</td>\n",
              "      <td>Turning Left</td>\n",
              "      <td>Failed to Yield Right of Way</td>\n",
              "      <td>Unknown</td>\n",
              "      <td>&lt;Null&gt;</td>\n",
              "      <td>&lt;Null&gt;</td>\n",
              "      <td>&lt;Null&gt;</td>\n",
              "      <td>&lt;Null&gt;</td>\n",
              "      <td>&lt;Null&gt;</td>\n",
              "      <td>&lt;Null&gt;</td>\n",
              "      <td>Yes</td>\n",
              "      <td>&lt;Null&gt;</td>\n",
              "      <td>Yes</td>\n",
              "      <td>&lt;Null&gt;</td>\n",
              "      <td>&lt;Null&gt;</td>\n",
              "      <td>&lt;Null&gt;</td>\n",
              "      <td>&lt;Null&gt;</td>\n",
              "      <td>&lt;Null&gt;</td>\n",
              "      <td>&lt;Null&gt;</td>\n",
              "      <td>Yes</td>\n",
              "      <td>&lt;Null&gt;</td>\n",
              "      <td>&lt;Null&gt;</td>\n",
              "      <td>&lt;Null&gt;</td>\n",
              "      <td>D11</td>\n",
              "      <td>88</td>\n",
              "      <td>High Park North (88)</td>\n",
              "      <td>1</td>\n",
              "    </tr>\n",
              "    <tr>\n",
              "      <th>1</th>\n",
              "      <td>-8.844611e+06</td>\n",
              "      <td>5.412414e+06</td>\n",
              "      <td>3387731</td>\n",
              "      <td>892658</td>\n",
              "      <td>2006</td>\n",
              "      <td>2006/03/11 05:00:00+00</td>\n",
              "      <td>852</td>\n",
              "      <td>8</td>\n",
              "      <td>BLOOR ST W</td>\n",
              "      <td>DUNDAS ST W</td>\n",
              "      <td>&lt;Null&gt;</td>\n",
              "      <td>Major Arterial</td>\n",
              "      <td>Toronto and East York</td>\n",
              "      <td>4</td>\n",
              "      <td>11</td>\n",
              "      <td>43.656345</td>\n",
              "      <td>-79.452490</td>\n",
              "      <td>Intersection</td>\n",
              "      <td>At Intersection</td>\n",
              "      <td>Traffic Signal</td>\n",
              "      <td>Clear</td>\n",
              "      <td>Daylight</td>\n",
              "      <td>Dry</td>\n",
              "      <td>Fatal</td>\n",
              "      <td>Pedestrian Collisions</td>\n",
              "      <td>Pedestrian</td>\n",
              "      <td>65 to 69</td>\n",
              "      <td>Fatal</td>\n",
              "      <td>&lt;Null&gt;</td>\n",
              "      <td>North</td>\n",
              "      <td>Other</td>\n",
              "      <td>&lt;Null&gt;</td>\n",
              "      <td>&lt;Null&gt;</td>\n",
              "      <td>&lt;Null&gt;</td>\n",
              "      <td>Vehicle turns left while ped crosses with ROW ...</td>\n",
              "      <td>Crossing with right of way</td>\n",
              "      <td>Unknown</td>\n",
              "      <td>&lt;Null&gt;</td>\n",
              "      <td>&lt;Null&gt;</td>\n",
              "      <td>&lt;Null&gt;</td>\n",
              "      <td>Yes</td>\n",
              "      <td>&lt;Null&gt;</td>\n",
              "      <td>Yes</td>\n",
              "      <td>&lt;Null&gt;</td>\n",
              "      <td>&lt;Null&gt;</td>\n",
              "      <td>&lt;Null&gt;</td>\n",
              "      <td>&lt;Null&gt;</td>\n",
              "      <td>&lt;Null&gt;</td>\n",
              "      <td>&lt;Null&gt;</td>\n",
              "      <td>Yes</td>\n",
              "      <td>&lt;Null&gt;</td>\n",
              "      <td>&lt;Null&gt;</td>\n",
              "      <td>&lt;Null&gt;</td>\n",
              "      <td>D11</td>\n",
              "      <td>88</td>\n",
              "      <td>High Park North (88)</td>\n",
              "      <td>2</td>\n",
              "    </tr>\n",
              "    <tr>\n",
              "      <th>2</th>\n",
              "      <td>-8.816480e+06</td>\n",
              "      <td>5.434843e+06</td>\n",
              "      <td>3388101</td>\n",
              "      <td>892810</td>\n",
              "      <td>2006</td>\n",
              "      <td>2006/03/11 05:00:00+00</td>\n",
              "      <td>915</td>\n",
              "      <td>9</td>\n",
              "      <td>MORNINGSIDE AVE</td>\n",
              "      <td>SHEPPARD AVE E</td>\n",
              "      <td>&lt;Null&gt;</td>\n",
              "      <td>Major Arterial</td>\n",
              "      <td>Scarborough</td>\n",
              "      <td>25</td>\n",
              "      <td>42</td>\n",
              "      <td>43.801943</td>\n",
              "      <td>-79.199786</td>\n",
              "      <td>Intersection</td>\n",
              "      <td>At Intersection</td>\n",
              "      <td>Traffic Signal</td>\n",
              "      <td>Clear</td>\n",
              "      <td>Daylight</td>\n",
              "      <td>Dry</td>\n",
              "      <td>Fatal</td>\n",
              "      <td>Turning Movement</td>\n",
              "      <td>Motorcycle Driver</td>\n",
              "      <td>45 to 49</td>\n",
              "      <td>Fatal</td>\n",
              "      <td>&lt;Null&gt;</td>\n",
              "      <td>East</td>\n",
              "      <td>Motorcycle</td>\n",
              "      <td>Turning Right</td>\n",
              "      <td>Disobeyed Traffic Control</td>\n",
              "      <td>Unknown</td>\n",
              "      <td>&lt;Null&gt;</td>\n",
              "      <td>&lt;Null&gt;</td>\n",
              "      <td>&lt;Null&gt;</td>\n",
              "      <td>&lt;Null&gt;</td>\n",
              "      <td>&lt;Null&gt;</td>\n",
              "      <td>&lt;Null&gt;</td>\n",
              "      <td>&lt;Null&gt;</td>\n",
              "      <td>&lt;Null&gt;</td>\n",
              "      <td>Yes</td>\n",
              "      <td>Yes</td>\n",
              "      <td>&lt;Null&gt;</td>\n",
              "      <td>&lt;Null&gt;</td>\n",
              "      <td>&lt;Null&gt;</td>\n",
              "      <td>&lt;Null&gt;</td>\n",
              "      <td>&lt;Null&gt;</td>\n",
              "      <td>Yes</td>\n",
              "      <td>Yes</td>\n",
              "      <td>&lt;Null&gt;</td>\n",
              "      <td>&lt;Null&gt;</td>\n",
              "      <td>D42</td>\n",
              "      <td>131</td>\n",
              "      <td>Rouge (131)</td>\n",
              "      <td>3</td>\n",
              "    </tr>\n",
              "    <tr>\n",
              "      <th>3</th>\n",
              "      <td>-8.816480e+06</td>\n",
              "      <td>5.434843e+06</td>\n",
              "      <td>3388102</td>\n",
              "      <td>892810</td>\n",
              "      <td>2006</td>\n",
              "      <td>2006/03/11 05:00:00+00</td>\n",
              "      <td>915</td>\n",
              "      <td>9</td>\n",
              "      <td>MORNINGSIDE AVE</td>\n",
              "      <td>SHEPPARD AVE E</td>\n",
              "      <td>&lt;Null&gt;</td>\n",
              "      <td>Major Arterial</td>\n",
              "      <td>Scarborough</td>\n",
              "      <td>25</td>\n",
              "      <td>42</td>\n",
              "      <td>43.801943</td>\n",
              "      <td>-79.199786</td>\n",
              "      <td>Intersection</td>\n",
              "      <td>At Intersection</td>\n",
              "      <td>Traffic Signal</td>\n",
              "      <td>Clear</td>\n",
              "      <td>Daylight</td>\n",
              "      <td>Dry</td>\n",
              "      <td>Fatal</td>\n",
              "      <td>Turning Movement</td>\n",
              "      <td>Driver</td>\n",
              "      <td>unknown</td>\n",
              "      <td>None</td>\n",
              "      <td>&lt;Null&gt;</td>\n",
              "      <td>South</td>\n",
              "      <td>Automobile, Station Wagon</td>\n",
              "      <td>Going Ahead</td>\n",
              "      <td>Driving Properly</td>\n",
              "      <td>Unknown</td>\n",
              "      <td>&lt;Null&gt;</td>\n",
              "      <td>&lt;Null&gt;</td>\n",
              "      <td>&lt;Null&gt;</td>\n",
              "      <td>&lt;Null&gt;</td>\n",
              "      <td>&lt;Null&gt;</td>\n",
              "      <td>&lt;Null&gt;</td>\n",
              "      <td>&lt;Null&gt;</td>\n",
              "      <td>&lt;Null&gt;</td>\n",
              "      <td>Yes</td>\n",
              "      <td>Yes</td>\n",
              "      <td>&lt;Null&gt;</td>\n",
              "      <td>&lt;Null&gt;</td>\n",
              "      <td>&lt;Null&gt;</td>\n",
              "      <td>&lt;Null&gt;</td>\n",
              "      <td>&lt;Null&gt;</td>\n",
              "      <td>Yes</td>\n",
              "      <td>Yes</td>\n",
              "      <td>&lt;Null&gt;</td>\n",
              "      <td>&lt;Null&gt;</td>\n",
              "      <td>D42</td>\n",
              "      <td>131</td>\n",
              "      <td>Rouge (131)</td>\n",
              "      <td>4</td>\n",
              "    </tr>\n",
              "    <tr>\n",
              "      <th>4</th>\n",
              "      <td>-8.822759e+06</td>\n",
              "      <td>5.424516e+06</td>\n",
              "      <td>3387793</td>\n",
              "      <td>892682</td>\n",
              "      <td>2006</td>\n",
              "      <td>2006/03/12 05:00:00+00</td>\n",
              "      <td>240</td>\n",
              "      <td>2</td>\n",
              "      <td>EGLINTON AVE E</td>\n",
              "      <td>COMMONWEALTH AVE</td>\n",
              "      <td>&lt;Null&gt;</td>\n",
              "      <td>Major Arterial</td>\n",
              "      <td>Scarborough</td>\n",
              "      <td>21,20</td>\n",
              "      <td>41</td>\n",
              "      <td>43.734945</td>\n",
              "      <td>-79.256190</td>\n",
              "      <td>Mid-Block</td>\n",
              "      <td>&lt;Null&gt;</td>\n",
              "      <td>No Control</td>\n",
              "      <td>Clear</td>\n",
              "      <td>Dark</td>\n",
              "      <td>Dry</td>\n",
              "      <td>Fatal</td>\n",
              "      <td>Pedestrian Collisions</td>\n",
              "      <td>Driver</td>\n",
              "      <td>25 to 29</td>\n",
              "      <td>None</td>\n",
              "      <td>&lt;Null&gt;</td>\n",
              "      <td>West</td>\n",
              "      <td>Automobile, Station Wagon</td>\n",
              "      <td>Going Ahead</td>\n",
              "      <td>Other</td>\n",
              "      <td>Ability Impaired, Alcohol</td>\n",
              "      <td>&lt;Null&gt;</td>\n",
              "      <td>&lt;Null&gt;</td>\n",
              "      <td>&lt;Null&gt;</td>\n",
              "      <td>&lt;Null&gt;</td>\n",
              "      <td>&lt;Null&gt;</td>\n",
              "      <td>&lt;Null&gt;</td>\n",
              "      <td>Yes</td>\n",
              "      <td>&lt;Null&gt;</td>\n",
              "      <td>Yes</td>\n",
              "      <td>&lt;Null&gt;</td>\n",
              "      <td>&lt;Null&gt;</td>\n",
              "      <td>&lt;Null&gt;</td>\n",
              "      <td>&lt;Null&gt;</td>\n",
              "      <td>&lt;Null&gt;</td>\n",
              "      <td>&lt;Null&gt;</td>\n",
              "      <td>&lt;Null&gt;</td>\n",
              "      <td>&lt;Null&gt;</td>\n",
              "      <td>Yes</td>\n",
              "      <td>&lt;Null&gt;</td>\n",
              "      <td>D41</td>\n",
              "      <td>138</td>\n",
              "      <td>Eglinton East (138)</td>\n",
              "      <td>5</td>\n",
              "    </tr>\n",
              "  </tbody>\n",
              "</table>\n",
              "</div>\n",
              "      <button class=\"colab-df-convert\" onclick=\"convertToInteractive('df-65bfce62-b82b-42b2-a216-cb815e065f72')\"\n",
              "              title=\"Convert this dataframe to an interactive table.\"\n",
              "              style=\"display:none;\">\n",
              "        \n",
              "  <svg xmlns=\"http://www.w3.org/2000/svg\" height=\"24px\"viewBox=\"0 0 24 24\"\n",
              "       width=\"24px\">\n",
              "    <path d=\"M0 0h24v24H0V0z\" fill=\"none\"/>\n",
              "    <path d=\"M18.56 5.44l.94 2.06.94-2.06 2.06-.94-2.06-.94-.94-2.06-.94 2.06-2.06.94zm-11 1L8.5 8.5l.94-2.06 2.06-.94-2.06-.94L8.5 2.5l-.94 2.06-2.06.94zm10 10l.94 2.06.94-2.06 2.06-.94-2.06-.94-.94-2.06-.94 2.06-2.06.94z\"/><path d=\"M17.41 7.96l-1.37-1.37c-.4-.4-.92-.59-1.43-.59-.52 0-1.04.2-1.43.59L10.3 9.45l-7.72 7.72c-.78.78-.78 2.05 0 2.83L4 21.41c.39.39.9.59 1.41.59.51 0 1.02-.2 1.41-.59l7.78-7.78 2.81-2.81c.8-.78.8-2.07 0-2.86zM5.41 20L4 18.59l7.72-7.72 1.47 1.35L5.41 20z\"/>\n",
              "  </svg>\n",
              "      </button>\n",
              "      \n",
              "  <style>\n",
              "    .colab-df-container {\n",
              "      display:flex;\n",
              "      flex-wrap:wrap;\n",
              "      gap: 12px;\n",
              "    }\n",
              "\n",
              "    .colab-df-convert {\n",
              "      background-color: #E8F0FE;\n",
              "      border: none;\n",
              "      border-radius: 50%;\n",
              "      cursor: pointer;\n",
              "      display: none;\n",
              "      fill: #1967D2;\n",
              "      height: 32px;\n",
              "      padding: 0 0 0 0;\n",
              "      width: 32px;\n",
              "    }\n",
              "\n",
              "    .colab-df-convert:hover {\n",
              "      background-color: #E2EBFA;\n",
              "      box-shadow: 0px 1px 2px rgba(60, 64, 67, 0.3), 0px 1px 3px 1px rgba(60, 64, 67, 0.15);\n",
              "      fill: #174EA6;\n",
              "    }\n",
              "\n",
              "    [theme=dark] .colab-df-convert {\n",
              "      background-color: #3B4455;\n",
              "      fill: #D2E3FC;\n",
              "    }\n",
              "\n",
              "    [theme=dark] .colab-df-convert:hover {\n",
              "      background-color: #434B5C;\n",
              "      box-shadow: 0px 1px 3px 1px rgba(0, 0, 0, 0.15);\n",
              "      filter: drop-shadow(0px 1px 2px rgba(0, 0, 0, 0.3));\n",
              "      fill: #FFFFFF;\n",
              "    }\n",
              "  </style>\n",
              "\n",
              "      <script>\n",
              "        const buttonEl =\n",
              "          document.querySelector('#df-65bfce62-b82b-42b2-a216-cb815e065f72 button.colab-df-convert');\n",
              "        buttonEl.style.display =\n",
              "          google.colab.kernel.accessAllowed ? 'block' : 'none';\n",
              "\n",
              "        async function convertToInteractive(key) {\n",
              "          const element = document.querySelector('#df-65bfce62-b82b-42b2-a216-cb815e065f72');\n",
              "          const dataTable =\n",
              "            await google.colab.kernel.invokeFunction('convertToInteractive',\n",
              "                                                     [key], {});\n",
              "          if (!dataTable) return;\n",
              "\n",
              "          const docLinkHtml = 'Like what you see? Visit the ' +\n",
              "            '<a target=\"_blank\" href=https://colab.research.google.com/notebooks/data_table.ipynb>data table notebook</a>'\n",
              "            + ' to learn more about interactive tables.';\n",
              "          element.innerHTML = '';\n",
              "          dataTable['output_type'] = 'display_data';\n",
              "          await google.colab.output.renderOutput(dataTable, element);\n",
              "          const docLink = document.createElement('div');\n",
              "          docLink.innerHTML = docLinkHtml;\n",
              "          element.appendChild(docLink);\n",
              "        }\n",
              "      </script>\n",
              "    </div>\n",
              "  </div>\n",
              "  "
            ]
          },
          "metadata": {},
          "execution_count": 4
        }
      ],
      "source": [
        "#Import Dataset\n",
        "df = pd.read_csv('/content/drive/MyDrive/KSI.csv')\n",
        "pd.set_option(\"display.max_columns\", None)\n",
        "df.head()"
      ]
    },
    {
      "cell_type": "markdown",
      "metadata": {
        "id": "JXxE1sZ7sWHb"
      },
      "source": [
        "##Data Understanding"
      ]
    },
    {
      "cell_type": "markdown",
      "metadata": {
        "id": "cXxrkc2sngA9"
      },
      "source": [
        "![ksiglosarry.png](data:image/png;base64,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)"
      ]
    },
    {
      "cell_type": "code",
      "source": [
        "df.info()"
      ],
      "metadata": {
        "colab": {
          "base_uri": "https://localhost:8080/"
        },
        "id": "9DVgxpWoy3ka",
        "outputId": "c886b133-bbe6-4907-958a-1d156e4e381d"
      },
      "execution_count": 5,
      "outputs": [
        {
          "output_type": "stream",
          "name": "stdout",
          "text": [
            "<class 'pandas.core.frame.DataFrame'>\n",
            "RangeIndex: 16860 entries, 0 to 16859\n",
            "Data columns (total 57 columns):\n",
            " #   Column           Non-Null Count  Dtype  \n",
            "---  ------           --------------  -----  \n",
            " 0   X                16860 non-null  float64\n",
            " 1   Y                16860 non-null  float64\n",
            " 2   INDEX_           16860 non-null  int64  \n",
            " 3   ACCNUM           16860 non-null  int64  \n",
            " 4   YEAR             16860 non-null  int64  \n",
            " 5   DATE             16860 non-null  object \n",
            " 6   TIME             16860 non-null  int64  \n",
            " 7   HOUR             16860 non-null  int64  \n",
            " 8   STREET1          16860 non-null  object \n",
            " 9   STREET2          16860 non-null  object \n",
            " 10  OFFSET           16860 non-null  object \n",
            " 11  ROAD_CLASS       16860 non-null  object \n",
            " 12  DISTRICT         16860 non-null  object \n",
            " 13  WARDNUM          16860 non-null  object \n",
            " 14  DIVISION         16860 non-null  object \n",
            " 15  LATITUDE         16860 non-null  float64\n",
            " 16  LONGITUDE        16860 non-null  float64\n",
            " 17  LOCCOORD         16860 non-null  object \n",
            " 18  ACCLOC           16860 non-null  object \n",
            " 19  TRAFFCTL         16860 non-null  object \n",
            " 20  VISIBILITY       16860 non-null  object \n",
            " 21  LIGHT            16860 non-null  object \n",
            " 22  RDSFCOND         16860 non-null  object \n",
            " 23  ACCLASS          16860 non-null  object \n",
            " 24  IMPACTYPE        16860 non-null  object \n",
            " 25  INVTYPE          16860 non-null  object \n",
            " 26  INVAGE           16860 non-null  object \n",
            " 27  INJURY           16860 non-null  object \n",
            " 28  FATAL_NO         16860 non-null  object \n",
            " 29  INITDIR          16860 non-null  object \n",
            " 30  VEHTYPE          16860 non-null  object \n",
            " 31  MANOEUVER        16860 non-null  object \n",
            " 32  DRIVACT          16860 non-null  object \n",
            " 33  DRIVCOND         16860 non-null  object \n",
            " 34  PEDTYPE          16860 non-null  object \n",
            " 35  PEDACT           16860 non-null  object \n",
            " 36  PEDCOND          16860 non-null  object \n",
            " 37  CYCLISTYPE       16860 non-null  object \n",
            " 38  CYCACT           16860 non-null  object \n",
            " 39  CYCCOND          16860 non-null  object \n",
            " 40  PEDESTRIAN       16860 non-null  object \n",
            " 41  CYCLIST          16860 non-null  object \n",
            " 42  AUTOMOBILE       16860 non-null  object \n",
            " 43  MOTORCYCLE       16860 non-null  object \n",
            " 44  TRUCK            16860 non-null  object \n",
            " 45  TRSN_CITY_VEH    16860 non-null  object \n",
            " 46  EMERG_VEH        16860 non-null  object \n",
            " 47  PASSENGER        16860 non-null  object \n",
            " 48  SPEEDING         16860 non-null  object \n",
            " 49  AG_DRIV          16860 non-null  object \n",
            " 50  REDLIGHT         16860 non-null  object \n",
            " 51  ALCOHOL          16860 non-null  object \n",
            " 52  DISABILITY       16860 non-null  object \n",
            " 53  POLICE_DIVISION  16860 non-null  object \n",
            " 54  HOOD_ID          16860 non-null  int64  \n",
            " 55  NEIGHBOURHOOD    16860 non-null  object \n",
            " 56  ObjectId         16860 non-null  int64  \n",
            "dtypes: float64(4), int64(7), object(46)\n",
            "memory usage: 7.3+ MB\n"
          ]
        }
      ]
    },
    {
      "cell_type": "markdown",
      "metadata": {
        "id": "63qp_wSvsji7"
      },
      "source": [
        "##Checking Data"
      ]
    },
    {
      "cell_type": "code",
      "source": [
        "#Checking missing value\n",
        "df.isna().sum()"
      ],
      "metadata": {
        "colab": {
          "base_uri": "https://localhost:8080/"
        },
        "id": "ZgDdwBfznRc3",
        "outputId": "4229d702-7293-46fb-cdc8-750f6592ed76"
      },
      "execution_count": 6,
      "outputs": [
        {
          "output_type": "execute_result",
          "data": {
            "text/plain": [
              "X                  0\n",
              "Y                  0\n",
              "INDEX_             0\n",
              "ACCNUM             0\n",
              "YEAR               0\n",
              "DATE               0\n",
              "TIME               0\n",
              "HOUR               0\n",
              "STREET1            0\n",
              "STREET2            0\n",
              "OFFSET             0\n",
              "ROAD_CLASS         0\n",
              "DISTRICT           0\n",
              "WARDNUM            0\n",
              "DIVISION           0\n",
              "LATITUDE           0\n",
              "LONGITUDE          0\n",
              "LOCCOORD           0\n",
              "ACCLOC             0\n",
              "TRAFFCTL           0\n",
              "VISIBILITY         0\n",
              "LIGHT              0\n",
              "RDSFCOND           0\n",
              "ACCLASS            0\n",
              "IMPACTYPE          0\n",
              "INVTYPE            0\n",
              "INVAGE             0\n",
              "INJURY             0\n",
              "FATAL_NO           0\n",
              "INITDIR            0\n",
              "VEHTYPE            0\n",
              "MANOEUVER          0\n",
              "DRIVACT            0\n",
              "DRIVCOND           0\n",
              "PEDTYPE            0\n",
              "PEDACT             0\n",
              "PEDCOND            0\n",
              "CYCLISTYPE         0\n",
              "CYCACT             0\n",
              "CYCCOND            0\n",
              "PEDESTRIAN         0\n",
              "CYCLIST            0\n",
              "AUTOMOBILE         0\n",
              "MOTORCYCLE         0\n",
              "TRUCK              0\n",
              "TRSN_CITY_VEH      0\n",
              "EMERG_VEH          0\n",
              "PASSENGER          0\n",
              "SPEEDING           0\n",
              "AG_DRIV            0\n",
              "REDLIGHT           0\n",
              "ALCOHOL            0\n",
              "DISABILITY         0\n",
              "POLICE_DIVISION    0\n",
              "HOOD_ID            0\n",
              "NEIGHBOURHOOD      0\n",
              "ObjectId           0\n",
              "dtype: int64"
            ]
          },
          "metadata": {},
          "execution_count": 6
        }
      ]
    },
    {
      "cell_type": "code",
      "source": [
        "#Check duplicated data\n",
        "df.duplicated().sum()"
      ],
      "metadata": {
        "colab": {
          "base_uri": "https://localhost:8080/"
        },
        "id": "7AvoI_nJndF3",
        "outputId": "b4c6a543-481f-436b-afdc-fc3a5c8af84d"
      },
      "execution_count": 7,
      "outputs": [
        {
          "output_type": "execute_result",
          "data": {
            "text/plain": [
              "0"
            ]
          },
          "metadata": {},
          "execution_count": 7
        }
      ]
    },
    {
      "cell_type": "code",
      "source": [
        "missingdf = (df == '<Null>').values.any(axis = 1) | (df == 'Unknown').values.any(axis = 1) | (df == 'unknown').values.any(axis = 1)"
      ],
      "metadata": {
        "id": "kdHv173RnmJF"
      },
      "execution_count": 8,
      "outputs": []
    },
    {
      "cell_type": "code",
      "source": [
        "df[missingdf].head(2)"
      ],
      "metadata": {
        "colab": {
          "base_uri": "https://localhost:8080/",
          "height": 332
        },
        "id": "4WyuSzcSn5PU",
        "outputId": "a931173f-583e-471b-a152-cb4d36e57b6f"
      },
      "execution_count": 9,
      "outputs": [
        {
          "output_type": "execute_result",
          "data": {
            "text/plain": [
              "              X             Y   INDEX_  ACCNUM  YEAR                    DATE  \\\n",
              "0 -8.844611e+06  5.412414e+06  3387730  892658  2006  2006/03/11 05:00:00+00   \n",
              "1 -8.844611e+06  5.412414e+06  3387731  892658  2006  2006/03/11 05:00:00+00   \n",
              "\n",
              "   TIME  HOUR     STREET1      STREET2  OFFSET      ROAD_CLASS  \\\n",
              "0   852     8  BLOOR ST W  DUNDAS ST W  <Null>  Major Arterial   \n",
              "1   852     8  BLOOR ST W  DUNDAS ST W  <Null>  Major Arterial   \n",
              "\n",
              "                DISTRICT WARDNUM DIVISION   LATITUDE  LONGITUDE      LOCCOORD  \\\n",
              "0  Toronto and East York       4       11  43.656345  -79.45249  Intersection   \n",
              "1  Toronto and East York       4       11  43.656345  -79.45249  Intersection   \n",
              "\n",
              "            ACCLOC        TRAFFCTL VISIBILITY     LIGHT RDSFCOND ACCLASS  \\\n",
              "0  At Intersection  Traffic Signal      Clear  Daylight      Dry   Fatal   \n",
              "1  At Intersection  Traffic Signal      Clear  Daylight      Dry   Fatal   \n",
              "\n",
              "               IMPACTYPE     INVTYPE    INVAGE INJURY FATAL_NO INITDIR  \\\n",
              "0  Pedestrian Collisions      Driver   unknown   None   <Null>   South   \n",
              "1  Pedestrian Collisions  Pedestrian  65 to 69  Fatal   <Null>   North   \n",
              "\n",
              "                     VEHTYPE     MANOEUVER                       DRIVACT  \\\n",
              "0  Automobile, Station Wagon  Turning Left  Failed to Yield Right of Way   \n",
              "1                      Other        <Null>                        <Null>   \n",
              "\n",
              "  DRIVCOND                                            PEDTYPE  \\\n",
              "0  Unknown                                             <Null>   \n",
              "1   <Null>  Vehicle turns left while ped crosses with ROW ...   \n",
              "\n",
              "                       PEDACT  PEDCOND CYCLISTYPE  CYCACT CYCCOND PEDESTRIAN  \\\n",
              "0                      <Null>   <Null>     <Null>  <Null>  <Null>        Yes   \n",
              "1  Crossing with right of way  Unknown     <Null>  <Null>  <Null>        Yes   \n",
              "\n",
              "  CYCLIST AUTOMOBILE MOTORCYCLE   TRUCK TRSN_CITY_VEH EMERG_VEH PASSENGER  \\\n",
              "0  <Null>        Yes     <Null>  <Null>        <Null>    <Null>    <Null>   \n",
              "1  <Null>        Yes     <Null>  <Null>        <Null>    <Null>    <Null>   \n",
              "\n",
              "  SPEEDING AG_DRIV REDLIGHT ALCOHOL DISABILITY POLICE_DIVISION  HOOD_ID  \\\n",
              "0   <Null>     Yes   <Null>  <Null>     <Null>             D11       88   \n",
              "1   <Null>     Yes   <Null>  <Null>     <Null>             D11       88   \n",
              "\n",
              "          NEIGHBOURHOOD  ObjectId  \n",
              "0  High Park North (88)         1  \n",
              "1  High Park North (88)         2  "
            ],
            "text/html": [
              "\n",
              "  <div id=\"df-c22fe72d-2303-4918-b491-19c9f8932410\">\n",
              "    <div class=\"colab-df-container\">\n",
              "      <div>\n",
              "<style scoped>\n",
              "    .dataframe tbody tr th:only-of-type {\n",
              "        vertical-align: middle;\n",
              "    }\n",
              "\n",
              "    .dataframe tbody tr th {\n",
              "        vertical-align: top;\n",
              "    }\n",
              "\n",
              "    .dataframe thead th {\n",
              "        text-align: right;\n",
              "    }\n",
              "</style>\n",
              "<table border=\"1\" class=\"dataframe\">\n",
              "  <thead>\n",
              "    <tr style=\"text-align: right;\">\n",
              "      <th></th>\n",
              "      <th>X</th>\n",
              "      <th>Y</th>\n",
              "      <th>INDEX_</th>\n",
              "      <th>ACCNUM</th>\n",
              "      <th>YEAR</th>\n",
              "      <th>DATE</th>\n",
              "      <th>TIME</th>\n",
              "      <th>HOUR</th>\n",
              "      <th>STREET1</th>\n",
              "      <th>STREET2</th>\n",
              "      <th>OFFSET</th>\n",
              "      <th>ROAD_CLASS</th>\n",
              "      <th>DISTRICT</th>\n",
              "      <th>WARDNUM</th>\n",
              "      <th>DIVISION</th>\n",
              "      <th>LATITUDE</th>\n",
              "      <th>LONGITUDE</th>\n",
              "      <th>LOCCOORD</th>\n",
              "      <th>ACCLOC</th>\n",
              "      <th>TRAFFCTL</th>\n",
              "      <th>VISIBILITY</th>\n",
              "      <th>LIGHT</th>\n",
              "      <th>RDSFCOND</th>\n",
              "      <th>ACCLASS</th>\n",
              "      <th>IMPACTYPE</th>\n",
              "      <th>INVTYPE</th>\n",
              "      <th>INVAGE</th>\n",
              "      <th>INJURY</th>\n",
              "      <th>FATAL_NO</th>\n",
              "      <th>INITDIR</th>\n",
              "      <th>VEHTYPE</th>\n",
              "      <th>MANOEUVER</th>\n",
              "      <th>DRIVACT</th>\n",
              "      <th>DRIVCOND</th>\n",
              "      <th>PEDTYPE</th>\n",
              "      <th>PEDACT</th>\n",
              "      <th>PEDCOND</th>\n",
              "      <th>CYCLISTYPE</th>\n",
              "      <th>CYCACT</th>\n",
              "      <th>CYCCOND</th>\n",
              "      <th>PEDESTRIAN</th>\n",
              "      <th>CYCLIST</th>\n",
              "      <th>AUTOMOBILE</th>\n",
              "      <th>MOTORCYCLE</th>\n",
              "      <th>TRUCK</th>\n",
              "      <th>TRSN_CITY_VEH</th>\n",
              "      <th>EMERG_VEH</th>\n",
              "      <th>PASSENGER</th>\n",
              "      <th>SPEEDING</th>\n",
              "      <th>AG_DRIV</th>\n",
              "      <th>REDLIGHT</th>\n",
              "      <th>ALCOHOL</th>\n",
              "      <th>DISABILITY</th>\n",
              "      <th>POLICE_DIVISION</th>\n",
              "      <th>HOOD_ID</th>\n",
              "      <th>NEIGHBOURHOOD</th>\n",
              "      <th>ObjectId</th>\n",
              "    </tr>\n",
              "  </thead>\n",
              "  <tbody>\n",
              "    <tr>\n",
              "      <th>0</th>\n",
              "      <td>-8.844611e+06</td>\n",
              "      <td>5.412414e+06</td>\n",
              "      <td>3387730</td>\n",
              "      <td>892658</td>\n",
              "      <td>2006</td>\n",
              "      <td>2006/03/11 05:00:00+00</td>\n",
              "      <td>852</td>\n",
              "      <td>8</td>\n",
              "      <td>BLOOR ST W</td>\n",
              "      <td>DUNDAS ST W</td>\n",
              "      <td>&lt;Null&gt;</td>\n",
              "      <td>Major Arterial</td>\n",
              "      <td>Toronto and East York</td>\n",
              "      <td>4</td>\n",
              "      <td>11</td>\n",
              "      <td>43.656345</td>\n",
              "      <td>-79.45249</td>\n",
              "      <td>Intersection</td>\n",
              "      <td>At Intersection</td>\n",
              "      <td>Traffic Signal</td>\n",
              "      <td>Clear</td>\n",
              "      <td>Daylight</td>\n",
              "      <td>Dry</td>\n",
              "      <td>Fatal</td>\n",
              "      <td>Pedestrian Collisions</td>\n",
              "      <td>Driver</td>\n",
              "      <td>unknown</td>\n",
              "      <td>None</td>\n",
              "      <td>&lt;Null&gt;</td>\n",
              "      <td>South</td>\n",
              "      <td>Automobile, Station Wagon</td>\n",
              "      <td>Turning Left</td>\n",
              "      <td>Failed to Yield Right of Way</td>\n",
              "      <td>Unknown</td>\n",
              "      <td>&lt;Null&gt;</td>\n",
              "      <td>&lt;Null&gt;</td>\n",
              "      <td>&lt;Null&gt;</td>\n",
              "      <td>&lt;Null&gt;</td>\n",
              "      <td>&lt;Null&gt;</td>\n",
              "      <td>&lt;Null&gt;</td>\n",
              "      <td>Yes</td>\n",
              "      <td>&lt;Null&gt;</td>\n",
              "      <td>Yes</td>\n",
              "      <td>&lt;Null&gt;</td>\n",
              "      <td>&lt;Null&gt;</td>\n",
              "      <td>&lt;Null&gt;</td>\n",
              "      <td>&lt;Null&gt;</td>\n",
              "      <td>&lt;Null&gt;</td>\n",
              "      <td>&lt;Null&gt;</td>\n",
              "      <td>Yes</td>\n",
              "      <td>&lt;Null&gt;</td>\n",
              "      <td>&lt;Null&gt;</td>\n",
              "      <td>&lt;Null&gt;</td>\n",
              "      <td>D11</td>\n",
              "      <td>88</td>\n",
              "      <td>High Park North (88)</td>\n",
              "      <td>1</td>\n",
              "    </tr>\n",
              "    <tr>\n",
              "      <th>1</th>\n",
              "      <td>-8.844611e+06</td>\n",
              "      <td>5.412414e+06</td>\n",
              "      <td>3387731</td>\n",
              "      <td>892658</td>\n",
              "      <td>2006</td>\n",
              "      <td>2006/03/11 05:00:00+00</td>\n",
              "      <td>852</td>\n",
              "      <td>8</td>\n",
              "      <td>BLOOR ST W</td>\n",
              "      <td>DUNDAS ST W</td>\n",
              "      <td>&lt;Null&gt;</td>\n",
              "      <td>Major Arterial</td>\n",
              "      <td>Toronto and East York</td>\n",
              "      <td>4</td>\n",
              "      <td>11</td>\n",
              "      <td>43.656345</td>\n",
              "      <td>-79.45249</td>\n",
              "      <td>Intersection</td>\n",
              "      <td>At Intersection</td>\n",
              "      <td>Traffic Signal</td>\n",
              "      <td>Clear</td>\n",
              "      <td>Daylight</td>\n",
              "      <td>Dry</td>\n",
              "      <td>Fatal</td>\n",
              "      <td>Pedestrian Collisions</td>\n",
              "      <td>Pedestrian</td>\n",
              "      <td>65 to 69</td>\n",
              "      <td>Fatal</td>\n",
              "      <td>&lt;Null&gt;</td>\n",
              "      <td>North</td>\n",
              "      <td>Other</td>\n",
              "      <td>&lt;Null&gt;</td>\n",
              "      <td>&lt;Null&gt;</td>\n",
              "      <td>&lt;Null&gt;</td>\n",
              "      <td>Vehicle turns left while ped crosses with ROW ...</td>\n",
              "      <td>Crossing with right of way</td>\n",
              "      <td>Unknown</td>\n",
              "      <td>&lt;Null&gt;</td>\n",
              "      <td>&lt;Null&gt;</td>\n",
              "      <td>&lt;Null&gt;</td>\n",
              "      <td>Yes</td>\n",
              "      <td>&lt;Null&gt;</td>\n",
              "      <td>Yes</td>\n",
              "      <td>&lt;Null&gt;</td>\n",
              "      <td>&lt;Null&gt;</td>\n",
              "      <td>&lt;Null&gt;</td>\n",
              "      <td>&lt;Null&gt;</td>\n",
              "      <td>&lt;Null&gt;</td>\n",
              "      <td>&lt;Null&gt;</td>\n",
              "      <td>Yes</td>\n",
              "      <td>&lt;Null&gt;</td>\n",
              "      <td>&lt;Null&gt;</td>\n",
              "      <td>&lt;Null&gt;</td>\n",
              "      <td>D11</td>\n",
              "      <td>88</td>\n",
              "      <td>High Park North (88)</td>\n",
              "      <td>2</td>\n",
              "    </tr>\n",
              "  </tbody>\n",
              "</table>\n",
              "</div>\n",
              "      <button class=\"colab-df-convert\" onclick=\"convertToInteractive('df-c22fe72d-2303-4918-b491-19c9f8932410')\"\n",
              "              title=\"Convert this dataframe to an interactive table.\"\n",
              "              style=\"display:none;\">\n",
              "        \n",
              "  <svg xmlns=\"http://www.w3.org/2000/svg\" height=\"24px\"viewBox=\"0 0 24 24\"\n",
              "       width=\"24px\">\n",
              "    <path d=\"M0 0h24v24H0V0z\" fill=\"none\"/>\n",
              "    <path d=\"M18.56 5.44l.94 2.06.94-2.06 2.06-.94-2.06-.94-.94-2.06-.94 2.06-2.06.94zm-11 1L8.5 8.5l.94-2.06 2.06-.94-2.06-.94L8.5 2.5l-.94 2.06-2.06.94zm10 10l.94 2.06.94-2.06 2.06-.94-2.06-.94-.94-2.06-.94 2.06-2.06.94z\"/><path d=\"M17.41 7.96l-1.37-1.37c-.4-.4-.92-.59-1.43-.59-.52 0-1.04.2-1.43.59L10.3 9.45l-7.72 7.72c-.78.78-.78 2.05 0 2.83L4 21.41c.39.39.9.59 1.41.59.51 0 1.02-.2 1.41-.59l7.78-7.78 2.81-2.81c.8-.78.8-2.07 0-2.86zM5.41 20L4 18.59l7.72-7.72 1.47 1.35L5.41 20z\"/>\n",
              "  </svg>\n",
              "      </button>\n",
              "      \n",
              "  <style>\n",
              "    .colab-df-container {\n",
              "      display:flex;\n",
              "      flex-wrap:wrap;\n",
              "      gap: 12px;\n",
              "    }\n",
              "\n",
              "    .colab-df-convert {\n",
              "      background-color: #E8F0FE;\n",
              "      border: none;\n",
              "      border-radius: 50%;\n",
              "      cursor: pointer;\n",
              "      display: none;\n",
              "      fill: #1967D2;\n",
              "      height: 32px;\n",
              "      padding: 0 0 0 0;\n",
              "      width: 32px;\n",
              "    }\n",
              "\n",
              "    .colab-df-convert:hover {\n",
              "      background-color: #E2EBFA;\n",
              "      box-shadow: 0px 1px 2px rgba(60, 64, 67, 0.3), 0px 1px 3px 1px rgba(60, 64, 67, 0.15);\n",
              "      fill: #174EA6;\n",
              "    }\n",
              "\n",
              "    [theme=dark] .colab-df-convert {\n",
              "      background-color: #3B4455;\n",
              "      fill: #D2E3FC;\n",
              "    }\n",
              "\n",
              "    [theme=dark] .colab-df-convert:hover {\n",
              "      background-color: #434B5C;\n",
              "      box-shadow: 0px 1px 3px 1px rgba(0, 0, 0, 0.15);\n",
              "      filter: drop-shadow(0px 1px 2px rgba(0, 0, 0, 0.3));\n",
              "      fill: #FFFFFF;\n",
              "    }\n",
              "  </style>\n",
              "\n",
              "      <script>\n",
              "        const buttonEl =\n",
              "          document.querySelector('#df-c22fe72d-2303-4918-b491-19c9f8932410 button.colab-df-convert');\n",
              "        buttonEl.style.display =\n",
              "          google.colab.kernel.accessAllowed ? 'block' : 'none';\n",
              "\n",
              "        async function convertToInteractive(key) {\n",
              "          const element = document.querySelector('#df-c22fe72d-2303-4918-b491-19c9f8932410');\n",
              "          const dataTable =\n",
              "            await google.colab.kernel.invokeFunction('convertToInteractive',\n",
              "                                                     [key], {});\n",
              "          if (!dataTable) return;\n",
              "\n",
              "          const docLinkHtml = 'Like what you see? Visit the ' +\n",
              "            '<a target=\"_blank\" href=https://colab.research.google.com/notebooks/data_table.ipynb>data table notebook</a>'\n",
              "            + ' to learn more about interactive tables.';\n",
              "          element.innerHTML = '';\n",
              "          dataTable['output_type'] = 'display_data';\n",
              "          await google.colab.output.renderOutput(dataTable, element);\n",
              "          const docLink = document.createElement('div');\n",
              "          docLink.innerHTML = docLinkHtml;\n",
              "          element.appendChild(docLink);\n",
              "        }\n",
              "      </script>\n",
              "    </div>\n",
              "  </div>\n",
              "  "
            ]
          },
          "metadata": {},
          "execution_count": 9
        }
      ]
    },
    {
      "cell_type": "markdown",
      "source": [
        "It looks like all features have a `missingdf` value, so we keep the table as it is."
      ],
      "metadata": {
        "id": "mNBjvFACoL_3"
      }
    },
    {
      "cell_type": "markdown",
      "source": [
        "This analysis is to find out which areas have contributed a lot to the collision case in Toronto in 2006 - 2020. Therefore, we will only use a few related variables."
      ],
      "metadata": {
        "id": "u56rum60oZQX"
      }
    },
    {
      "cell_type": "markdown",
      "source": [
        "**The features we don't use are following below:**\n",
        "\n",
        "*   `X`, `Y`, `LATITUDE`, `LONGITUDE` : Feature that show geography location, since this analysis doesn't provide geographic analysis\n",
        "*   `INDEX_`, `ObjectId`, `WARDNUM`,`DIVISION`, `HOOD_ID`: Identifier\n",
        "*   `TIME`, `HOUR`: We prefer `DATE` for time feature in this analysis\n",
        "*   `STREET1`, `STREET2`, `LOCCOORD`, `ACCLOC`: This is detail where collisions case happens, still have much `Null` values. We prefer `DISTRIC` and `NEIGHBOURHOOD` as places features analysis\n",
        "*   Feature that dominated with `Null` values & `Unknown` values : `OFFSET`, `INVAGE`, `INJURY`, `FATAL_NO`, `VEHTYPE`, `MANOEUVER`, `DRIVACT`, `DRIVCOND`, `PEDTYPE`, `PEDACT`, `PEDCOND`, `CYCLISTYPE`, `CYCACT`, `CYCCOND`, `PEDESTRIAN`, `CYCLIST`, `AUTOMOBILE`, `MOTORCYCLE`, `TRUCK`,\t`TRSN_CITY_VEH`,\t`EMERG_VEH`,\t`PASSENGER`,`SPEEDING`,\t`AG_DRIV`,\t`REDLIGHT`,\t`ALCOHOL`,\t`DISABILITY`\n",
        "*   `POLICE_DIVISION`: Police division identifier\n",
        "*   `INITDIR`: We are not using points of the compass as feature"
      ],
      "metadata": {
        "id": "Kn56NPYVKgh_"
      }
    },
    {
      "cell_type": "markdown",
      "source": [
        "## Exploratory Data Analysis"
      ],
      "metadata": {
        "id": "J3Hbn-m1P4nB"
      }
    },
    {
      "cell_type": "code",
      "execution_count": 10,
      "metadata": {
        "id": "GNV6DxRssyUi"
      },
      "outputs": [],
      "source": [
        "df1 = df.copy() #Just to make sure I didn't do something irreversible"
      ]
    },
    {
      "cell_type": "code",
      "source": [
        "df1.VISIBILITY.value_counts()"
      ],
      "metadata": {
        "colab": {
          "base_uri": "https://localhost:8080/"
        },
        "id": "1sokEROZL5EQ",
        "outputId": "e72b75a1-9528-429d-85e5-aac6c2045a3c"
      },
      "execution_count": 11,
      "outputs": [
        {
          "output_type": "execute_result",
          "data": {
            "text/plain": [
              "Clear                     14476\n",
              "Rain                       1819\n",
              "Snow                        332\n",
              "Other                        99\n",
              "Fog, Mist, Smoke, Dust       46\n",
              "Freezing Rain                43\n",
              "Drifting Snow                19\n",
              "<Null>                       18\n",
              "Strong wind                   8\n",
              "Name: VISIBILITY, dtype: int64"
            ]
          },
          "metadata": {},
          "execution_count": 11
        }
      ]
    },
    {
      "cell_type": "code",
      "source": [
        "df1 = df1[['ACCNUM','YEAR', 'DATE', 'ROAD_CLASS', 'DISTRICT', 'TRAFFCTL', 'VISIBILITY', 'LIGHT', 'RDSFCOND', 'IMPACTYPE', 'INVTYPE', 'NEIGHBOURHOOD']]\n",
        "df1"
      ],
      "metadata": {
        "colab": {
          "base_uri": "https://localhost:8080/",
          "height": 641
        },
        "id": "DFWmCsneINTm",
        "outputId": "e3fe4c6b-77dd-4457-8147-578b59cb532e"
      },
      "execution_count": 12,
      "outputs": [
        {
          "output_type": "execute_result",
          "data": {
            "text/plain": [
              "        ACCNUM  YEAR                    DATE      ROAD_CLASS  \\\n",
              "0       892658  2006  2006/03/11 05:00:00+00  Major Arterial   \n",
              "1       892658  2006  2006/03/11 05:00:00+00  Major Arterial   \n",
              "2       892810  2006  2006/03/11 05:00:00+00  Major Arterial   \n",
              "3       892810  2006  2006/03/11 05:00:00+00  Major Arterial   \n",
              "4       892682  2006  2006/03/12 05:00:00+00  Major Arterial   \n",
              "...        ...   ...                     ...             ...   \n",
              "16855  1636966  2020  2020/08/30 04:00:00+00          <Null>   \n",
              "16856  1650701  2020  2020/09/01 04:00:00+00  Major Arterial   \n",
              "16857  1650701  2020  2020/09/01 04:00:00+00  Major Arterial   \n",
              "16858  1650701  2020  2020/09/01 04:00:00+00  Major Arterial   \n",
              "16859  1650875  2020  2020/09/01 04:00:00+00          <Null>   \n",
              "\n",
              "                    DISTRICT        TRAFFCTL VISIBILITY     LIGHT RDSFCOND  \\\n",
              "0      Toronto and East York  Traffic Signal      Clear  Daylight      Dry   \n",
              "1      Toronto and East York  Traffic Signal      Clear  Daylight      Dry   \n",
              "2                Scarborough  Traffic Signal      Clear  Daylight      Dry   \n",
              "3                Scarborough  Traffic Signal      Clear  Daylight      Dry   \n",
              "4                Scarborough      No Control      Clear      Dark      Dry   \n",
              "...                      ...             ...        ...       ...      ...   \n",
              "16855                 <Null>      No Control      Clear  Daylight      Dry   \n",
              "16856            Scarborough  Traffic Signal      Clear  Daylight      Dry   \n",
              "16857            Scarborough  Traffic Signal      Clear  Daylight      Dry   \n",
              "16858            Scarborough  Traffic Signal      Clear  Daylight      Dry   \n",
              "16859                 <Null>      No Control      Clear  Daylight      Dry   \n",
              "\n",
              "                   IMPACTYPE            INVTYPE  \\\n",
              "0      Pedestrian Collisions             Driver   \n",
              "1      Pedestrian Collisions         Pedestrian   \n",
              "2           Turning Movement  Motorcycle Driver   \n",
              "3           Turning Movement             Driver   \n",
              "4      Pedestrian Collisions             Driver   \n",
              "...                      ...                ...   \n",
              "16855     Cyclist Collisions            Cyclist   \n",
              "16856       Turning Movement             Driver   \n",
              "16857       Turning Movement             Driver   \n",
              "16858       Turning Movement          Passenger   \n",
              "16859     Cyclist Collisions             Driver   \n",
              "\n",
              "                                  NEIGHBOURHOOD  \n",
              "0                          High Park North (88)  \n",
              "1                          High Park North (88)  \n",
              "2                                   Rouge (131)  \n",
              "3                                   Rouge (131)  \n",
              "4                           Eglinton East (138)  \n",
              "...                                         ...  \n",
              "16855                          Cliffcrest (123)  \n",
              "16856                       Eglinton East (138)  \n",
              "16857                       Eglinton East (138)  \n",
              "16858                       Eglinton East (138)  \n",
              "16859  Dovercourt-Wallace Emerson-Junction (93)  \n",
              "\n",
              "[16860 rows x 12 columns]"
            ],
            "text/html": [
              "\n",
              "  <div id=\"df-26d8a69b-9f44-4848-8372-e65830dc6457\">\n",
              "    <div class=\"colab-df-container\">\n",
              "      <div>\n",
              "<style scoped>\n",
              "    .dataframe tbody tr th:only-of-type {\n",
              "        vertical-align: middle;\n",
              "    }\n",
              "\n",
              "    .dataframe tbody tr th {\n",
              "        vertical-align: top;\n",
              "    }\n",
              "\n",
              "    .dataframe thead th {\n",
              "        text-align: right;\n",
              "    }\n",
              "</style>\n",
              "<table border=\"1\" class=\"dataframe\">\n",
              "  <thead>\n",
              "    <tr style=\"text-align: right;\">\n",
              "      <th></th>\n",
              "      <th>ACCNUM</th>\n",
              "      <th>YEAR</th>\n",
              "      <th>DATE</th>\n",
              "      <th>ROAD_CLASS</th>\n",
              "      <th>DISTRICT</th>\n",
              "      <th>TRAFFCTL</th>\n",
              "      <th>VISIBILITY</th>\n",
              "      <th>LIGHT</th>\n",
              "      <th>RDSFCOND</th>\n",
              "      <th>IMPACTYPE</th>\n",
              "      <th>INVTYPE</th>\n",
              "      <th>NEIGHBOURHOOD</th>\n",
              "    </tr>\n",
              "  </thead>\n",
              "  <tbody>\n",
              "    <tr>\n",
              "      <th>0</th>\n",
              "      <td>892658</td>\n",
              "      <td>2006</td>\n",
              "      <td>2006/03/11 05:00:00+00</td>\n",
              "      <td>Major Arterial</td>\n",
              "      <td>Toronto and East York</td>\n",
              "      <td>Traffic Signal</td>\n",
              "      <td>Clear</td>\n",
              "      <td>Daylight</td>\n",
              "      <td>Dry</td>\n",
              "      <td>Pedestrian Collisions</td>\n",
              "      <td>Driver</td>\n",
              "      <td>High Park North (88)</td>\n",
              "    </tr>\n",
              "    <tr>\n",
              "      <th>1</th>\n",
              "      <td>892658</td>\n",
              "      <td>2006</td>\n",
              "      <td>2006/03/11 05:00:00+00</td>\n",
              "      <td>Major Arterial</td>\n",
              "      <td>Toronto and East York</td>\n",
              "      <td>Traffic Signal</td>\n",
              "      <td>Clear</td>\n",
              "      <td>Daylight</td>\n",
              "      <td>Dry</td>\n",
              "      <td>Pedestrian Collisions</td>\n",
              "      <td>Pedestrian</td>\n",
              "      <td>High Park North (88)</td>\n",
              "    </tr>\n",
              "    <tr>\n",
              "      <th>2</th>\n",
              "      <td>892810</td>\n",
              "      <td>2006</td>\n",
              "      <td>2006/03/11 05:00:00+00</td>\n",
              "      <td>Major Arterial</td>\n",
              "      <td>Scarborough</td>\n",
              "      <td>Traffic Signal</td>\n",
              "      <td>Clear</td>\n",
              "      <td>Daylight</td>\n",
              "      <td>Dry</td>\n",
              "      <td>Turning Movement</td>\n",
              "      <td>Motorcycle Driver</td>\n",
              "      <td>Rouge (131)</td>\n",
              "    </tr>\n",
              "    <tr>\n",
              "      <th>3</th>\n",
              "      <td>892810</td>\n",
              "      <td>2006</td>\n",
              "      <td>2006/03/11 05:00:00+00</td>\n",
              "      <td>Major Arterial</td>\n",
              "      <td>Scarborough</td>\n",
              "      <td>Traffic Signal</td>\n",
              "      <td>Clear</td>\n",
              "      <td>Daylight</td>\n",
              "      <td>Dry</td>\n",
              "      <td>Turning Movement</td>\n",
              "      <td>Driver</td>\n",
              "      <td>Rouge (131)</td>\n",
              "    </tr>\n",
              "    <tr>\n",
              "      <th>4</th>\n",
              "      <td>892682</td>\n",
              "      <td>2006</td>\n",
              "      <td>2006/03/12 05:00:00+00</td>\n",
              "      <td>Major Arterial</td>\n",
              "      <td>Scarborough</td>\n",
              "      <td>No Control</td>\n",
              "      <td>Clear</td>\n",
              "      <td>Dark</td>\n",
              "      <td>Dry</td>\n",
              "      <td>Pedestrian Collisions</td>\n",
              "      <td>Driver</td>\n",
              "      <td>Eglinton East (138)</td>\n",
              "    </tr>\n",
              "    <tr>\n",
              "      <th>...</th>\n",
              "      <td>...</td>\n",
              "      <td>...</td>\n",
              "      <td>...</td>\n",
              "      <td>...</td>\n",
              "      <td>...</td>\n",
              "      <td>...</td>\n",
              "      <td>...</td>\n",
              "      <td>...</td>\n",
              "      <td>...</td>\n",
              "      <td>...</td>\n",
              "      <td>...</td>\n",
              "      <td>...</td>\n",
              "    </tr>\n",
              "    <tr>\n",
              "      <th>16855</th>\n",
              "      <td>1636966</td>\n",
              "      <td>2020</td>\n",
              "      <td>2020/08/30 04:00:00+00</td>\n",
              "      <td>&lt;Null&gt;</td>\n",
              "      <td>&lt;Null&gt;</td>\n",
              "      <td>No Control</td>\n",
              "      <td>Clear</td>\n",
              "      <td>Daylight</td>\n",
              "      <td>Dry</td>\n",
              "      <td>Cyclist Collisions</td>\n",
              "      <td>Cyclist</td>\n",
              "      <td>Cliffcrest (123)</td>\n",
              "    </tr>\n",
              "    <tr>\n",
              "      <th>16856</th>\n",
              "      <td>1650701</td>\n",
              "      <td>2020</td>\n",
              "      <td>2020/09/01 04:00:00+00</td>\n",
              "      <td>Major Arterial</td>\n",
              "      <td>Scarborough</td>\n",
              "      <td>Traffic Signal</td>\n",
              "      <td>Clear</td>\n",
              "      <td>Daylight</td>\n",
              "      <td>Dry</td>\n",
              "      <td>Turning Movement</td>\n",
              "      <td>Driver</td>\n",
              "      <td>Eglinton East (138)</td>\n",
              "    </tr>\n",
              "    <tr>\n",
              "      <th>16857</th>\n",
              "      <td>1650701</td>\n",
              "      <td>2020</td>\n",
              "      <td>2020/09/01 04:00:00+00</td>\n",
              "      <td>Major Arterial</td>\n",
              "      <td>Scarborough</td>\n",
              "      <td>Traffic Signal</td>\n",
              "      <td>Clear</td>\n",
              "      <td>Daylight</td>\n",
              "      <td>Dry</td>\n",
              "      <td>Turning Movement</td>\n",
              "      <td>Driver</td>\n",
              "      <td>Eglinton East (138)</td>\n",
              "    </tr>\n",
              "    <tr>\n",
              "      <th>16858</th>\n",
              "      <td>1650701</td>\n",
              "      <td>2020</td>\n",
              "      <td>2020/09/01 04:00:00+00</td>\n",
              "      <td>Major Arterial</td>\n",
              "      <td>Scarborough</td>\n",
              "      <td>Traffic Signal</td>\n",
              "      <td>Clear</td>\n",
              "      <td>Daylight</td>\n",
              "      <td>Dry</td>\n",
              "      <td>Turning Movement</td>\n",
              "      <td>Passenger</td>\n",
              "      <td>Eglinton East (138)</td>\n",
              "    </tr>\n",
              "    <tr>\n",
              "      <th>16859</th>\n",
              "      <td>1650875</td>\n",
              "      <td>2020</td>\n",
              "      <td>2020/09/01 04:00:00+00</td>\n",
              "      <td>&lt;Null&gt;</td>\n",
              "      <td>&lt;Null&gt;</td>\n",
              "      <td>No Control</td>\n",
              "      <td>Clear</td>\n",
              "      <td>Daylight</td>\n",
              "      <td>Dry</td>\n",
              "      <td>Cyclist Collisions</td>\n",
              "      <td>Driver</td>\n",
              "      <td>Dovercourt-Wallace Emerson-Junction (93)</td>\n",
              "    </tr>\n",
              "  </tbody>\n",
              "</table>\n",
              "<p>16860 rows × 12 columns</p>\n",
              "</div>\n",
              "      <button class=\"colab-df-convert\" onclick=\"convertToInteractive('df-26d8a69b-9f44-4848-8372-e65830dc6457')\"\n",
              "              title=\"Convert this dataframe to an interactive table.\"\n",
              "              style=\"display:none;\">\n",
              "        \n",
              "  <svg xmlns=\"http://www.w3.org/2000/svg\" height=\"24px\"viewBox=\"0 0 24 24\"\n",
              "       width=\"24px\">\n",
              "    <path d=\"M0 0h24v24H0V0z\" fill=\"none\"/>\n",
              "    <path d=\"M18.56 5.44l.94 2.06.94-2.06 2.06-.94-2.06-.94-.94-2.06-.94 2.06-2.06.94zm-11 1L8.5 8.5l.94-2.06 2.06-.94-2.06-.94L8.5 2.5l-.94 2.06-2.06.94zm10 10l.94 2.06.94-2.06 2.06-.94-2.06-.94-.94-2.06-.94 2.06-2.06.94z\"/><path d=\"M17.41 7.96l-1.37-1.37c-.4-.4-.92-.59-1.43-.59-.52 0-1.04.2-1.43.59L10.3 9.45l-7.72 7.72c-.78.78-.78 2.05 0 2.83L4 21.41c.39.39.9.59 1.41.59.51 0 1.02-.2 1.41-.59l7.78-7.78 2.81-2.81c.8-.78.8-2.07 0-2.86zM5.41 20L4 18.59l7.72-7.72 1.47 1.35L5.41 20z\"/>\n",
              "  </svg>\n",
              "      </button>\n",
              "      \n",
              "  <style>\n",
              "    .colab-df-container {\n",
              "      display:flex;\n",
              "      flex-wrap:wrap;\n",
              "      gap: 12px;\n",
              "    }\n",
              "\n",
              "    .colab-df-convert {\n",
              "      background-color: #E8F0FE;\n",
              "      border: none;\n",
              "      border-radius: 50%;\n",
              "      cursor: pointer;\n",
              "      display: none;\n",
              "      fill: #1967D2;\n",
              "      height: 32px;\n",
              "      padding: 0 0 0 0;\n",
              "      width: 32px;\n",
              "    }\n",
              "\n",
              "    .colab-df-convert:hover {\n",
              "      background-color: #E2EBFA;\n",
              "      box-shadow: 0px 1px 2px rgba(60, 64, 67, 0.3), 0px 1px 3px 1px rgba(60, 64, 67, 0.15);\n",
              "      fill: #174EA6;\n",
              "    }\n",
              "\n",
              "    [theme=dark] .colab-df-convert {\n",
              "      background-color: #3B4455;\n",
              "      fill: #D2E3FC;\n",
              "    }\n",
              "\n",
              "    [theme=dark] .colab-df-convert:hover {\n",
              "      background-color: #434B5C;\n",
              "      box-shadow: 0px 1px 3px 1px rgba(0, 0, 0, 0.15);\n",
              "      filter: drop-shadow(0px 1px 2px rgba(0, 0, 0, 0.3));\n",
              "      fill: #FFFFFF;\n",
              "    }\n",
              "  </style>\n",
              "\n",
              "      <script>\n",
              "        const buttonEl =\n",
              "          document.querySelector('#df-26d8a69b-9f44-4848-8372-e65830dc6457 button.colab-df-convert');\n",
              "        buttonEl.style.display =\n",
              "          google.colab.kernel.accessAllowed ? 'block' : 'none';\n",
              "\n",
              "        async function convertToInteractive(key) {\n",
              "          const element = document.querySelector('#df-26d8a69b-9f44-4848-8372-e65830dc6457');\n",
              "          const dataTable =\n",
              "            await google.colab.kernel.invokeFunction('convertToInteractive',\n",
              "                                                     [key], {});\n",
              "          if (!dataTable) return;\n",
              "\n",
              "          const docLinkHtml = 'Like what you see? Visit the ' +\n",
              "            '<a target=\"_blank\" href=https://colab.research.google.com/notebooks/data_table.ipynb>data table notebook</a>'\n",
              "            + ' to learn more about interactive tables.';\n",
              "          element.innerHTML = '';\n",
              "          dataTable['output_type'] = 'display_data';\n",
              "          await google.colab.output.renderOutput(dataTable, element);\n",
              "          const docLink = document.createElement('div');\n",
              "          docLink.innerHTML = docLinkHtml;\n",
              "          element.appendChild(docLink);\n",
              "        }\n",
              "      </script>\n",
              "    </div>\n",
              "  </div>\n",
              "  "
            ]
          },
          "metadata": {},
          "execution_count": 12
        }
      ]
    },
    {
      "cell_type": "markdown",
      "source": [
        "`ACCNUM` is a registered accident number which records one collision case per number. So if there are 5 person involved in the case, the `ACCNUM` number has get duplicated by five, which will be discarded as this analysis only looks at the count per case."
      ],
      "metadata": {
        "id": "02nkuvztq3_m"
      }
    },
    {
      "cell_type": "code",
      "source": [
        "df1 = df1.drop_duplicates(subset=['ACCNUM']) # We need unique value to count collision case\n",
        "df1"
      ],
      "metadata": {
        "colab": {
          "base_uri": "https://localhost:8080/",
          "height": 641
        },
        "id": "6EReTBoHr6tK",
        "outputId": "14f42633-5200-4957-f029-731d6b4564b8"
      },
      "execution_count": 13,
      "outputs": [
        {
          "output_type": "execute_result",
          "data": {
            "text/plain": [
              "        ACCNUM  YEAR                    DATE      ROAD_CLASS  \\\n",
              "0       892658  2006  2006/03/11 05:00:00+00  Major Arterial   \n",
              "2       892810  2006  2006/03/11 05:00:00+00  Major Arterial   \n",
              "4       892682  2006  2006/03/12 05:00:00+00  Major Arterial   \n",
              "7       892913  2006  2006/03/12 05:00:00+00  Major Arterial   \n",
              "9       893251  2006  2006/03/15 05:00:00+00  Major Arterial   \n",
              "...        ...   ...                     ...             ...   \n",
              "16848  1603307  2020  2020/08/25 04:00:00+00          <Null>   \n",
              "16850  1604895  2020  2020/08/25 04:00:00+00          <Null>   \n",
              "16852  1630486  2020  2020/08/29 04:00:00+00  Major Arterial   \n",
              "16854  1636966  2020  2020/08/30 04:00:00+00          <Null>   \n",
              "16856  1650701  2020  2020/09/01 04:00:00+00  Major Arterial   \n",
              "\n",
              "                    DISTRICT        TRAFFCTL VISIBILITY             LIGHT  \\\n",
              "0      Toronto and East York  Traffic Signal      Clear          Daylight   \n",
              "2                Scarborough  Traffic Signal      Clear          Daylight   \n",
              "4                Scarborough      No Control      Clear              Dark   \n",
              "7      Toronto and East York  Traffic Signal      Clear              Dark   \n",
              "9             Etobicoke York  Traffic Signal      Clear          Daylight   \n",
              "...                      ...             ...        ...               ...   \n",
              "16848                 <Null>      No Control      Clear          Daylight   \n",
              "16850                 <Null>      No Control      Clear  Dark, artificial   \n",
              "16852             North York  Traffic Signal      Clear          Daylight   \n",
              "16854                 <Null>      No Control      Clear          Daylight   \n",
              "16856            Scarborough  Traffic Signal      Clear          Daylight   \n",
              "\n",
              "      RDSFCOND              IMPACTYPE            INVTYPE  \\\n",
              "0          Dry  Pedestrian Collisions             Driver   \n",
              "2          Dry       Turning Movement  Motorcycle Driver   \n",
              "4          Dry  Pedestrian Collisions             Driver   \n",
              "7          Dry  Pedestrian Collisions             Driver   \n",
              "9          Dry  Pedestrian Collisions             Driver   \n",
              "...        ...                    ...                ...   \n",
              "16848      Dry     Cyclist Collisions            Cyclist   \n",
              "16850      Dry               Rear End  Motorcycle Driver   \n",
              "16852      Dry       Turning Movement             Driver   \n",
              "16854      Dry     Cyclist Collisions             Driver   \n",
              "16856      Dry       Turning Movement             Driver   \n",
              "\n",
              "                           NEIGHBOURHOOD  \n",
              "0                   High Park North (88)  \n",
              "2                            Rouge (131)  \n",
              "4                    Eglinton East (138)  \n",
              "7                 Trinity-Bellwoods (81)  \n",
              "9      Kingsview Village-The Westway (6)  \n",
              "...                                  ...  \n",
              "16848           North St.James Town (74)  \n",
              "16850               South Riverdale (70)  \n",
              "16852               Willowdale East (51)  \n",
              "16854                   Cliffcrest (123)  \n",
              "16856                Eglinton East (138)  \n",
              "\n",
              "[6002 rows x 12 columns]"
            ],
            "text/html": [
              "\n",
              "  <div id=\"df-8f6c202a-67fc-41f4-89de-18728e32bde8\">\n",
              "    <div class=\"colab-df-container\">\n",
              "      <div>\n",
              "<style scoped>\n",
              "    .dataframe tbody tr th:only-of-type {\n",
              "        vertical-align: middle;\n",
              "    }\n",
              "\n",
              "    .dataframe tbody tr th {\n",
              "        vertical-align: top;\n",
              "    }\n",
              "\n",
              "    .dataframe thead th {\n",
              "        text-align: right;\n",
              "    }\n",
              "</style>\n",
              "<table border=\"1\" class=\"dataframe\">\n",
              "  <thead>\n",
              "    <tr style=\"text-align: right;\">\n",
              "      <th></th>\n",
              "      <th>ACCNUM</th>\n",
              "      <th>YEAR</th>\n",
              "      <th>DATE</th>\n",
              "      <th>ROAD_CLASS</th>\n",
              "      <th>DISTRICT</th>\n",
              "      <th>TRAFFCTL</th>\n",
              "      <th>VISIBILITY</th>\n",
              "      <th>LIGHT</th>\n",
              "      <th>RDSFCOND</th>\n",
              "      <th>IMPACTYPE</th>\n",
              "      <th>INVTYPE</th>\n",
              "      <th>NEIGHBOURHOOD</th>\n",
              "    </tr>\n",
              "  </thead>\n",
              "  <tbody>\n",
              "    <tr>\n",
              "      <th>0</th>\n",
              "      <td>892658</td>\n",
              "      <td>2006</td>\n",
              "      <td>2006/03/11 05:00:00+00</td>\n",
              "      <td>Major Arterial</td>\n",
              "      <td>Toronto and East York</td>\n",
              "      <td>Traffic Signal</td>\n",
              "      <td>Clear</td>\n",
              "      <td>Daylight</td>\n",
              "      <td>Dry</td>\n",
              "      <td>Pedestrian Collisions</td>\n",
              "      <td>Driver</td>\n",
              "      <td>High Park North (88)</td>\n",
              "    </tr>\n",
              "    <tr>\n",
              "      <th>2</th>\n",
              "      <td>892810</td>\n",
              "      <td>2006</td>\n",
              "      <td>2006/03/11 05:00:00+00</td>\n",
              "      <td>Major Arterial</td>\n",
              "      <td>Scarborough</td>\n",
              "      <td>Traffic Signal</td>\n",
              "      <td>Clear</td>\n",
              "      <td>Daylight</td>\n",
              "      <td>Dry</td>\n",
              "      <td>Turning Movement</td>\n",
              "      <td>Motorcycle Driver</td>\n",
              "      <td>Rouge (131)</td>\n",
              "    </tr>\n",
              "    <tr>\n",
              "      <th>4</th>\n",
              "      <td>892682</td>\n",
              "      <td>2006</td>\n",
              "      <td>2006/03/12 05:00:00+00</td>\n",
              "      <td>Major Arterial</td>\n",
              "      <td>Scarborough</td>\n",
              "      <td>No Control</td>\n",
              "      <td>Clear</td>\n",
              "      <td>Dark</td>\n",
              "      <td>Dry</td>\n",
              "      <td>Pedestrian Collisions</td>\n",
              "      <td>Driver</td>\n",
              "      <td>Eglinton East (138)</td>\n",
              "    </tr>\n",
              "    <tr>\n",
              "      <th>7</th>\n",
              "      <td>892913</td>\n",
              "      <td>2006</td>\n",
              "      <td>2006/03/12 05:00:00+00</td>\n",
              "      <td>Major Arterial</td>\n",
              "      <td>Toronto and East York</td>\n",
              "      <td>Traffic Signal</td>\n",
              "      <td>Clear</td>\n",
              "      <td>Dark</td>\n",
              "      <td>Dry</td>\n",
              "      <td>Pedestrian Collisions</td>\n",
              "      <td>Driver</td>\n",
              "      <td>Trinity-Bellwoods (81)</td>\n",
              "    </tr>\n",
              "    <tr>\n",
              "      <th>9</th>\n",
              "      <td>893251</td>\n",
              "      <td>2006</td>\n",
              "      <td>2006/03/15 05:00:00+00</td>\n",
              "      <td>Major Arterial</td>\n",
              "      <td>Etobicoke York</td>\n",
              "      <td>Traffic Signal</td>\n",
              "      <td>Clear</td>\n",
              "      <td>Daylight</td>\n",
              "      <td>Dry</td>\n",
              "      <td>Pedestrian Collisions</td>\n",
              "      <td>Driver</td>\n",
              "      <td>Kingsview Village-The Westway (6)</td>\n",
              "    </tr>\n",
              "    <tr>\n",
              "      <th>...</th>\n",
              "      <td>...</td>\n",
              "      <td>...</td>\n",
              "      <td>...</td>\n",
              "      <td>...</td>\n",
              "      <td>...</td>\n",
              "      <td>...</td>\n",
              "      <td>...</td>\n",
              "      <td>...</td>\n",
              "      <td>...</td>\n",
              "      <td>...</td>\n",
              "      <td>...</td>\n",
              "      <td>...</td>\n",
              "    </tr>\n",
              "    <tr>\n",
              "      <th>16848</th>\n",
              "      <td>1603307</td>\n",
              "      <td>2020</td>\n",
              "      <td>2020/08/25 04:00:00+00</td>\n",
              "      <td>&lt;Null&gt;</td>\n",
              "      <td>&lt;Null&gt;</td>\n",
              "      <td>No Control</td>\n",
              "      <td>Clear</td>\n",
              "      <td>Daylight</td>\n",
              "      <td>Dry</td>\n",
              "      <td>Cyclist Collisions</td>\n",
              "      <td>Cyclist</td>\n",
              "      <td>North St.James Town (74)</td>\n",
              "    </tr>\n",
              "    <tr>\n",
              "      <th>16850</th>\n",
              "      <td>1604895</td>\n",
              "      <td>2020</td>\n",
              "      <td>2020/08/25 04:00:00+00</td>\n",
              "      <td>&lt;Null&gt;</td>\n",
              "      <td>&lt;Null&gt;</td>\n",
              "      <td>No Control</td>\n",
              "      <td>Clear</td>\n",
              "      <td>Dark, artificial</td>\n",
              "      <td>Dry</td>\n",
              "      <td>Rear End</td>\n",
              "      <td>Motorcycle Driver</td>\n",
              "      <td>South Riverdale (70)</td>\n",
              "    </tr>\n",
              "    <tr>\n",
              "      <th>16852</th>\n",
              "      <td>1630486</td>\n",
              "      <td>2020</td>\n",
              "      <td>2020/08/29 04:00:00+00</td>\n",
              "      <td>Major Arterial</td>\n",
              "      <td>North York</td>\n",
              "      <td>Traffic Signal</td>\n",
              "      <td>Clear</td>\n",
              "      <td>Daylight</td>\n",
              "      <td>Dry</td>\n",
              "      <td>Turning Movement</td>\n",
              "      <td>Driver</td>\n",
              "      <td>Willowdale East (51)</td>\n",
              "    </tr>\n",
              "    <tr>\n",
              "      <th>16854</th>\n",
              "      <td>1636966</td>\n",
              "      <td>2020</td>\n",
              "      <td>2020/08/30 04:00:00+00</td>\n",
              "      <td>&lt;Null&gt;</td>\n",
              "      <td>&lt;Null&gt;</td>\n",
              "      <td>No Control</td>\n",
              "      <td>Clear</td>\n",
              "      <td>Daylight</td>\n",
              "      <td>Dry</td>\n",
              "      <td>Cyclist Collisions</td>\n",
              "      <td>Driver</td>\n",
              "      <td>Cliffcrest (123)</td>\n",
              "    </tr>\n",
              "    <tr>\n",
              "      <th>16856</th>\n",
              "      <td>1650701</td>\n",
              "      <td>2020</td>\n",
              "      <td>2020/09/01 04:00:00+00</td>\n",
              "      <td>Major Arterial</td>\n",
              "      <td>Scarborough</td>\n",
              "      <td>Traffic Signal</td>\n",
              "      <td>Clear</td>\n",
              "      <td>Daylight</td>\n",
              "      <td>Dry</td>\n",
              "      <td>Turning Movement</td>\n",
              "      <td>Driver</td>\n",
              "      <td>Eglinton East (138)</td>\n",
              "    </tr>\n",
              "  </tbody>\n",
              "</table>\n",
              "<p>6002 rows × 12 columns</p>\n",
              "</div>\n",
              "      <button class=\"colab-df-convert\" onclick=\"convertToInteractive('df-8f6c202a-67fc-41f4-89de-18728e32bde8')\"\n",
              "              title=\"Convert this dataframe to an interactive table.\"\n",
              "              style=\"display:none;\">\n",
              "        \n",
              "  <svg xmlns=\"http://www.w3.org/2000/svg\" height=\"24px\"viewBox=\"0 0 24 24\"\n",
              "       width=\"24px\">\n",
              "    <path d=\"M0 0h24v24H0V0z\" fill=\"none\"/>\n",
              "    <path d=\"M18.56 5.44l.94 2.06.94-2.06 2.06-.94-2.06-.94-.94-2.06-.94 2.06-2.06.94zm-11 1L8.5 8.5l.94-2.06 2.06-.94-2.06-.94L8.5 2.5l-.94 2.06-2.06.94zm10 10l.94 2.06.94-2.06 2.06-.94-2.06-.94-.94-2.06-.94 2.06-2.06.94z\"/><path d=\"M17.41 7.96l-1.37-1.37c-.4-.4-.92-.59-1.43-.59-.52 0-1.04.2-1.43.59L10.3 9.45l-7.72 7.72c-.78.78-.78 2.05 0 2.83L4 21.41c.39.39.9.59 1.41.59.51 0 1.02-.2 1.41-.59l7.78-7.78 2.81-2.81c.8-.78.8-2.07 0-2.86zM5.41 20L4 18.59l7.72-7.72 1.47 1.35L5.41 20z\"/>\n",
              "  </svg>\n",
              "      </button>\n",
              "      \n",
              "  <style>\n",
              "    .colab-df-container {\n",
              "      display:flex;\n",
              "      flex-wrap:wrap;\n",
              "      gap: 12px;\n",
              "    }\n",
              "\n",
              "    .colab-df-convert {\n",
              "      background-color: #E8F0FE;\n",
              "      border: none;\n",
              "      border-radius: 50%;\n",
              "      cursor: pointer;\n",
              "      display: none;\n",
              "      fill: #1967D2;\n",
              "      height: 32px;\n",
              "      padding: 0 0 0 0;\n",
              "      width: 32px;\n",
              "    }\n",
              "\n",
              "    .colab-df-convert:hover {\n",
              "      background-color: #E2EBFA;\n",
              "      box-shadow: 0px 1px 2px rgba(60, 64, 67, 0.3), 0px 1px 3px 1px rgba(60, 64, 67, 0.15);\n",
              "      fill: #174EA6;\n",
              "    }\n",
              "\n",
              "    [theme=dark] .colab-df-convert {\n",
              "      background-color: #3B4455;\n",
              "      fill: #D2E3FC;\n",
              "    }\n",
              "\n",
              "    [theme=dark] .colab-df-convert:hover {\n",
              "      background-color: #434B5C;\n",
              "      box-shadow: 0px 1px 3px 1px rgba(0, 0, 0, 0.15);\n",
              "      filter: drop-shadow(0px 1px 2px rgba(0, 0, 0, 0.3));\n",
              "      fill: #FFFFFF;\n",
              "    }\n",
              "  </style>\n",
              "\n",
              "      <script>\n",
              "        const buttonEl =\n",
              "          document.querySelector('#df-8f6c202a-67fc-41f4-89de-18728e32bde8 button.colab-df-convert');\n",
              "        buttonEl.style.display =\n",
              "          google.colab.kernel.accessAllowed ? 'block' : 'none';\n",
              "\n",
              "        async function convertToInteractive(key) {\n",
              "          const element = document.querySelector('#df-8f6c202a-67fc-41f4-89de-18728e32bde8');\n",
              "          const dataTable =\n",
              "            await google.colab.kernel.invokeFunction('convertToInteractive',\n",
              "                                                     [key], {});\n",
              "          if (!dataTable) return;\n",
              "\n",
              "          const docLinkHtml = 'Like what you see? Visit the ' +\n",
              "            '<a target=\"_blank\" href=https://colab.research.google.com/notebooks/data_table.ipynb>data table notebook</a>'\n",
              "            + ' to learn more about interactive tables.';\n",
              "          element.innerHTML = '';\n",
              "          dataTable['output_type'] = 'display_data';\n",
              "          await google.colab.output.renderOutput(dataTable, element);\n",
              "          const docLink = document.createElement('div');\n",
              "          docLink.innerHTML = docLinkHtml;\n",
              "          element.appendChild(docLink);\n",
              "        }\n",
              "      </script>\n",
              "    </div>\n",
              "  </div>\n",
              "  "
            ]
          },
          "metadata": {},
          "execution_count": 13
        }
      ]
    },
    {
      "cell_type": "markdown",
      "source": [
        "Only 6002 unique collisions case numbers which recorded between 2006 - 2020 in Toronto"
      ],
      "metadata": {
        "id": "a6ZwjmJ3sMWb"
      }
    },
    {
      "cell_type": "markdown",
      "source": [
        "###Exploring Cases by YEAR"
      ],
      "metadata": {
        "id": "0WYT6I7-rikk"
      }
    },
    {
      "cell_type": "code",
      "source": [
        "year = df1.groupby(['YEAR'])['ACCNUM'].count().to_frame().reset_index()\n",
        "year"
      ],
      "metadata": {
        "colab": {
          "base_uri": "https://localhost:8080/",
          "height": 519
        },
        "id": "Ui-KQe0Ctexu",
        "outputId": "efd74b93-063e-4e46-b9c0-74d4cf2e61f8"
      },
      "execution_count": 14,
      "outputs": [
        {
          "output_type": "execute_result",
          "data": {
            "text/plain": [
              "    YEAR  ACCNUM\n",
              "0   2006     481\n",
              "1   2007     453\n",
              "2   2008     417\n",
              "3   2009     438\n",
              "4   2010     400\n",
              "5   2011     399\n",
              "6   2012     453\n",
              "7   2013     431\n",
              "8   2014     350\n",
              "9   2015     350\n",
              "10  2016     386\n",
              "11  2017     392\n",
              "12  2018     422\n",
              "13  2019     365\n",
              "14  2020     265"
            ],
            "text/html": [
              "\n",
              "  <div id=\"df-f0e7b373-865d-49d0-9b39-32c2b362fef0\">\n",
              "    <div class=\"colab-df-container\">\n",
              "      <div>\n",
              "<style scoped>\n",
              "    .dataframe tbody tr th:only-of-type {\n",
              "        vertical-align: middle;\n",
              "    }\n",
              "\n",
              "    .dataframe tbody tr th {\n",
              "        vertical-align: top;\n",
              "    }\n",
              "\n",
              "    .dataframe thead th {\n",
              "        text-align: right;\n",
              "    }\n",
              "</style>\n",
              "<table border=\"1\" class=\"dataframe\">\n",
              "  <thead>\n",
              "    <tr style=\"text-align: right;\">\n",
              "      <th></th>\n",
              "      <th>YEAR</th>\n",
              "      <th>ACCNUM</th>\n",
              "    </tr>\n",
              "  </thead>\n",
              "  <tbody>\n",
              "    <tr>\n",
              "      <th>0</th>\n",
              "      <td>2006</td>\n",
              "      <td>481</td>\n",
              "    </tr>\n",
              "    <tr>\n",
              "      <th>1</th>\n",
              "      <td>2007</td>\n",
              "      <td>453</td>\n",
              "    </tr>\n",
              "    <tr>\n",
              "      <th>2</th>\n",
              "      <td>2008</td>\n",
              "      <td>417</td>\n",
              "    </tr>\n",
              "    <tr>\n",
              "      <th>3</th>\n",
              "      <td>2009</td>\n",
              "      <td>438</td>\n",
              "    </tr>\n",
              "    <tr>\n",
              "      <th>4</th>\n",
              "      <td>2010</td>\n",
              "      <td>400</td>\n",
              "    </tr>\n",
              "    <tr>\n",
              "      <th>5</th>\n",
              "      <td>2011</td>\n",
              "      <td>399</td>\n",
              "    </tr>\n",
              "    <tr>\n",
              "      <th>6</th>\n",
              "      <td>2012</td>\n",
              "      <td>453</td>\n",
              "    </tr>\n",
              "    <tr>\n",
              "      <th>7</th>\n",
              "      <td>2013</td>\n",
              "      <td>431</td>\n",
              "    </tr>\n",
              "    <tr>\n",
              "      <th>8</th>\n",
              "      <td>2014</td>\n",
              "      <td>350</td>\n",
              "    </tr>\n",
              "    <tr>\n",
              "      <th>9</th>\n",
              "      <td>2015</td>\n",
              "      <td>350</td>\n",
              "    </tr>\n",
              "    <tr>\n",
              "      <th>10</th>\n",
              "      <td>2016</td>\n",
              "      <td>386</td>\n",
              "    </tr>\n",
              "    <tr>\n",
              "      <th>11</th>\n",
              "      <td>2017</td>\n",
              "      <td>392</td>\n",
              "    </tr>\n",
              "    <tr>\n",
              "      <th>12</th>\n",
              "      <td>2018</td>\n",
              "      <td>422</td>\n",
              "    </tr>\n",
              "    <tr>\n",
              "      <th>13</th>\n",
              "      <td>2019</td>\n",
              "      <td>365</td>\n",
              "    </tr>\n",
              "    <tr>\n",
              "      <th>14</th>\n",
              "      <td>2020</td>\n",
              "      <td>265</td>\n",
              "    </tr>\n",
              "  </tbody>\n",
              "</table>\n",
              "</div>\n",
              "      <button class=\"colab-df-convert\" onclick=\"convertToInteractive('df-f0e7b373-865d-49d0-9b39-32c2b362fef0')\"\n",
              "              title=\"Convert this dataframe to an interactive table.\"\n",
              "              style=\"display:none;\">\n",
              "        \n",
              "  <svg xmlns=\"http://www.w3.org/2000/svg\" height=\"24px\"viewBox=\"0 0 24 24\"\n",
              "       width=\"24px\">\n",
              "    <path d=\"M0 0h24v24H0V0z\" fill=\"none\"/>\n",
              "    <path d=\"M18.56 5.44l.94 2.06.94-2.06 2.06-.94-2.06-.94-.94-2.06-.94 2.06-2.06.94zm-11 1L8.5 8.5l.94-2.06 2.06-.94-2.06-.94L8.5 2.5l-.94 2.06-2.06.94zm10 10l.94 2.06.94-2.06 2.06-.94-2.06-.94-.94-2.06-.94 2.06-2.06.94z\"/><path d=\"M17.41 7.96l-1.37-1.37c-.4-.4-.92-.59-1.43-.59-.52 0-1.04.2-1.43.59L10.3 9.45l-7.72 7.72c-.78.78-.78 2.05 0 2.83L4 21.41c.39.39.9.59 1.41.59.51 0 1.02-.2 1.41-.59l7.78-7.78 2.81-2.81c.8-.78.8-2.07 0-2.86zM5.41 20L4 18.59l7.72-7.72 1.47 1.35L5.41 20z\"/>\n",
              "  </svg>\n",
              "      </button>\n",
              "      \n",
              "  <style>\n",
              "    .colab-df-container {\n",
              "      display:flex;\n",
              "      flex-wrap:wrap;\n",
              "      gap: 12px;\n",
              "    }\n",
              "\n",
              "    .colab-df-convert {\n",
              "      background-color: #E8F0FE;\n",
              "      border: none;\n",
              "      border-radius: 50%;\n",
              "      cursor: pointer;\n",
              "      display: none;\n",
              "      fill: #1967D2;\n",
              "      height: 32px;\n",
              "      padding: 0 0 0 0;\n",
              "      width: 32px;\n",
              "    }\n",
              "\n",
              "    .colab-df-convert:hover {\n",
              "      background-color: #E2EBFA;\n",
              "      box-shadow: 0px 1px 2px rgba(60, 64, 67, 0.3), 0px 1px 3px 1px rgba(60, 64, 67, 0.15);\n",
              "      fill: #174EA6;\n",
              "    }\n",
              "\n",
              "    [theme=dark] .colab-df-convert {\n",
              "      background-color: #3B4455;\n",
              "      fill: #D2E3FC;\n",
              "    }\n",
              "\n",
              "    [theme=dark] .colab-df-convert:hover {\n",
              "      background-color: #434B5C;\n",
              "      box-shadow: 0px 1px 3px 1px rgba(0, 0, 0, 0.15);\n",
              "      filter: drop-shadow(0px 1px 2px rgba(0, 0, 0, 0.3));\n",
              "      fill: #FFFFFF;\n",
              "    }\n",
              "  </style>\n",
              "\n",
              "      <script>\n",
              "        const buttonEl =\n",
              "          document.querySelector('#df-f0e7b373-865d-49d0-9b39-32c2b362fef0 button.colab-df-convert');\n",
              "        buttonEl.style.display =\n",
              "          google.colab.kernel.accessAllowed ? 'block' : 'none';\n",
              "\n",
              "        async function convertToInteractive(key) {\n",
              "          const element = document.querySelector('#df-f0e7b373-865d-49d0-9b39-32c2b362fef0');\n",
              "          const dataTable =\n",
              "            await google.colab.kernel.invokeFunction('convertToInteractive',\n",
              "                                                     [key], {});\n",
              "          if (!dataTable) return;\n",
              "\n",
              "          const docLinkHtml = 'Like what you see? Visit the ' +\n",
              "            '<a target=\"_blank\" href=https://colab.research.google.com/notebooks/data_table.ipynb>data table notebook</a>'\n",
              "            + ' to learn more about interactive tables.';\n",
              "          element.innerHTML = '';\n",
              "          dataTable['output_type'] = 'display_data';\n",
              "          await google.colab.output.renderOutput(dataTable, element);\n",
              "          const docLink = document.createElement('div');\n",
              "          docLink.innerHTML = docLinkHtml;\n",
              "          element.appendChild(docLink);\n",
              "        }\n",
              "      </script>\n",
              "    </div>\n",
              "  </div>\n",
              "  "
            ]
          },
          "metadata": {},
          "execution_count": 14
        }
      ]
    },
    {
      "cell_type": "code",
      "source": [
        "fig, ax = plt.subplots(figsize=(15,7))\n",
        "\n",
        "sns.lineplot(data=year, x='YEAR', y='ACCNUM', marker='o')\n",
        "ax.set_title('Collisions Cases Trend by Year', fontsize=20, fontweight='bold')\n",
        "ax.set_ylabel('Collision Cases')\n",
        "ax.set_xlabel('Year')\n",
        "ax.grid(True)"
      ],
      "metadata": {
        "colab": {
          "base_uri": "https://localhost:8080/",
          "height": 463
        },
        "id": "KOHIsb5lsB1j",
        "outputId": "22955bed-90cb-424d-c595-a241a6b7c6a0"
      },
      "execution_count": 15,
      "outputs": [
        {
          "output_type": "display_data",
          "data": {
            "text/plain": [
              "<Figure size 1080x504 with 1 Axes>"
            ],
            "image/png": "[encoded data removed]"
          },
          "metadata": {
            "needs_background": "light"
          }
        }
      ]
    },
    {
      "cell_type": "markdown",
      "source": [
        "This is a good trend when viewed from the last 3 years the number of collision cases in Toronto has decreased significantly. It is also possible that this downward trend has something to do with the covid case which was at its peak at that time."
      ],
      "metadata": {
        "id": "L4zLAQ-JX5AC"
      }
    },
    {
      "cell_type": "markdown",
      "source": [
        "###Exploring Cases by MONTH"
      ],
      "metadata": {
        "id": "2hoZdqUQyP1i"
      }
    },
    {
      "cell_type": "code",
      "source": [
        "df1['DATE'] = pd.to_datetime(df1['DATE'])"
      ],
      "metadata": {
        "id": "MWm_n6VKrzRs",
        "colab": {
          "base_uri": "https://localhost:8080/"
        },
        "outputId": "14f324ff-544c-49b1-96d9-fe2cbb46369b"
      },
      "execution_count": 16,
      "outputs": [
        {
          "output_type": "stream",
          "name": "stderr",
          "text": [
            "/usr/local/lib/python3.7/dist-packages/ipykernel_launcher.py:1: SettingWithCopyWarning: \n",
            "A value is trying to be set on a copy of a slice from a DataFrame.\n",
            "Try using .loc[row_indexer,col_indexer] = value instead\n",
            "\n",
            "See the caveats in the documentation: https://pandas.pydata.org/pandas-docs/stable/user_guide/indexing.html#returning-a-view-versus-a-copy\n",
            "  \"\"\"Entry point for launching an IPython kernel.\n"
          ]
        }
      ]
    },
    {
      "cell_type": "code",
      "source": [
        "df1['MONTH'] = df1.DATE.dt.month"
      ],
      "metadata": {
        "id": "to2Z8FlBzWDk",
        "colab": {
          "base_uri": "https://localhost:8080/"
        },
        "outputId": "cfa05a02-679b-4a46-bd26-45ef303ad6c4"
      },
      "execution_count": 17,
      "outputs": [
        {
          "output_type": "stream",
          "name": "stderr",
          "text": [
            "/usr/local/lib/python3.7/dist-packages/ipykernel_launcher.py:1: SettingWithCopyWarning: \n",
            "A value is trying to be set on a copy of a slice from a DataFrame.\n",
            "Try using .loc[row_indexer,col_indexer] = value instead\n",
            "\n",
            "See the caveats in the documentation: https://pandas.pydata.org/pandas-docs/stable/user_guide/indexing.html#returning-a-view-versus-a-copy\n",
            "  \"\"\"Entry point for launching an IPython kernel.\n"
          ]
        }
      ]
    },
    {
      "cell_type": "code",
      "source": [
        "import calendar\n",
        "df1['MONTH'] = df1['MONTH'].apply(lambda x: calendar.month_abbr[x])"
      ],
      "metadata": {
        "id": "qDNb8YV91Rpi",
        "colab": {
          "base_uri": "https://localhost:8080/"
        },
        "outputId": "228a157b-a0be-4d97-95a8-ba8286b19e38"
      },
      "execution_count": 18,
      "outputs": [
        {
          "output_type": "stream",
          "name": "stderr",
          "text": [
            "/usr/local/lib/python3.7/dist-packages/ipykernel_launcher.py:2: SettingWithCopyWarning: \n",
            "A value is trying to be set on a copy of a slice from a DataFrame.\n",
            "Try using .loc[row_indexer,col_indexer] = value instead\n",
            "\n",
            "See the caveats in the documentation: https://pandas.pydata.org/pandas-docs/stable/user_guide/indexing.html#returning-a-view-versus-a-copy\n",
            "  \n"
          ]
        }
      ]
    },
    {
      "cell_type": "code",
      "source": [
        "month_dict = {'Jan':1,'Feb':2,'Mar':3, 'Apr':4, 'May':5, 'Jun':6, 'Jul':7, 'Aug':8, 'Sep':9, 'Oct':10, 'Nov':11, 'Dec':12}"
      ],
      "metadata": {
        "id": "JCwpvu7F3rrB"
      },
      "execution_count": 19,
      "outputs": []
    },
    {
      "cell_type": "code",
      "source": [
        "accnum = df1.drop_duplicates(subset=['ACCNUM']) # We need unique value to count collision case\n",
        "month = accnum.groupby(['MONTH'])['ACCNUM'].count().to_frame().sort_values('MONTH', key = lambda x : x.apply(lambda x : month_dict[x])).reset_index()\n",
        "month "
      ],
      "metadata": {
        "colab": {
          "base_uri": "https://localhost:8080/",
          "height": 425
        },
        "id": "cQf2Sr-XVC98",
        "outputId": "79ee02fa-da5e-4cfa-ae20-4dd3bc09b3d3"
      },
      "execution_count": 20,
      "outputs": [
        {
          "output_type": "execute_result",
          "data": {
            "text/plain": [
              "   MONTH  ACCNUM\n",
              "0    Jan     429\n",
              "1    Feb     363\n",
              "2    Mar     409\n",
              "3    Apr     403\n",
              "4    May     488\n",
              "5    Jun     597\n",
              "6    Jul     533\n",
              "7    Aug     587\n",
              "8    Sep     610\n",
              "9    Oct     585\n",
              "10   Nov     530\n",
              "11   Dec     468"
            ],
            "text/html": [
              "\n",
              "  <div id=\"df-8dcf3079-a525-4ed0-a720-9c61be9f87a7\">\n",
              "    <div class=\"colab-df-container\">\n",
              "      <div>\n",
              "<style scoped>\n",
              "    .dataframe tbody tr th:only-of-type {\n",
              "        vertical-align: middle;\n",
              "    }\n",
              "\n",
              "    .dataframe tbody tr th {\n",
              "        vertical-align: top;\n",
              "    }\n",
              "\n",
              "    .dataframe thead th {\n",
              "        text-align: right;\n",
              "    }\n",
              "</style>\n",
              "<table border=\"1\" class=\"dataframe\">\n",
              "  <thead>\n",
              "    <tr style=\"text-align: right;\">\n",
              "      <th></th>\n",
              "      <th>MONTH</th>\n",
              "      <th>ACCNUM</th>\n",
              "    </tr>\n",
              "  </thead>\n",
              "  <tbody>\n",
              "    <tr>\n",
              "      <th>0</th>\n",
              "      <td>Jan</td>\n",
              "      <td>429</td>\n",
              "    </tr>\n",
              "    <tr>\n",
              "      <th>1</th>\n",
              "      <td>Feb</td>\n",
              "      <td>363</td>\n",
              "    </tr>\n",
              "    <tr>\n",
              "      <th>2</th>\n",
              "      <td>Mar</td>\n",
              "      <td>409</td>\n",
              "    </tr>\n",
              "    <tr>\n",
              "      <th>3</th>\n",
              "      <td>Apr</td>\n",
              "      <td>403</td>\n",
              "    </tr>\n",
              "    <tr>\n",
              "      <th>4</th>\n",
              "      <td>May</td>\n",
              "      <td>488</td>\n",
              "    </tr>\n",
              "    <tr>\n",
              "      <th>5</th>\n",
              "      <td>Jun</td>\n",
              "      <td>597</td>\n",
              "    </tr>\n",
              "    <tr>\n",
              "      <th>6</th>\n",
              "      <td>Jul</td>\n",
              "      <td>533</td>\n",
              "    </tr>\n",
              "    <tr>\n",
              "      <th>7</th>\n",
              "      <td>Aug</td>\n",
              "      <td>587</td>\n",
              "    </tr>\n",
              "    <tr>\n",
              "      <th>8</th>\n",
              "      <td>Sep</td>\n",
              "      <td>610</td>\n",
              "    </tr>\n",
              "    <tr>\n",
              "      <th>9</th>\n",
              "      <td>Oct</td>\n",
              "      <td>585</td>\n",
              "    </tr>\n",
              "    <tr>\n",
              "      <th>10</th>\n",
              "      <td>Nov</td>\n",
              "      <td>530</td>\n",
              "    </tr>\n",
              "    <tr>\n",
              "      <th>11</th>\n",
              "      <td>Dec</td>\n",
              "      <td>468</td>\n",
              "    </tr>\n",
              "  </tbody>\n",
              "</table>\n",
              "</div>\n",
              "      <button class=\"colab-df-convert\" onclick=\"convertToInteractive('df-8dcf3079-a525-4ed0-a720-9c61be9f87a7')\"\n",
              "              title=\"Convert this dataframe to an interactive table.\"\n",
              "              style=\"display:none;\">\n",
              "        \n",
              "  <svg xmlns=\"http://www.w3.org/2000/svg\" height=\"24px\"viewBox=\"0 0 24 24\"\n",
              "       width=\"24px\">\n",
              "    <path d=\"M0 0h24v24H0V0z\" fill=\"none\"/>\n",
              "    <path d=\"M18.56 5.44l.94 2.06.94-2.06 2.06-.94-2.06-.94-.94-2.06-.94 2.06-2.06.94zm-11 1L8.5 8.5l.94-2.06 2.06-.94-2.06-.94L8.5 2.5l-.94 2.06-2.06.94zm10 10l.94 2.06.94-2.06 2.06-.94-2.06-.94-.94-2.06-.94 2.06-2.06.94z\"/><path d=\"M17.41 7.96l-1.37-1.37c-.4-.4-.92-.59-1.43-.59-.52 0-1.04.2-1.43.59L10.3 9.45l-7.72 7.72c-.78.78-.78 2.05 0 2.83L4 21.41c.39.39.9.59 1.41.59.51 0 1.02-.2 1.41-.59l7.78-7.78 2.81-2.81c.8-.78.8-2.07 0-2.86zM5.41 20L4 18.59l7.72-7.72 1.47 1.35L5.41 20z\"/>\n",
              "  </svg>\n",
              "      </button>\n",
              "      \n",
              "  <style>\n",
              "    .colab-df-container {\n",
              "      display:flex;\n",
              "      flex-wrap:wrap;\n",
              "      gap: 12px;\n",
              "    }\n",
              "\n",
              "    .colab-df-convert {\n",
              "      background-color: #E8F0FE;\n",
              "      border: none;\n",
              "      border-radius: 50%;\n",
              "      cursor: pointer;\n",
              "      display: none;\n",
              "      fill: #1967D2;\n",
              "      height: 32px;\n",
              "      padding: 0 0 0 0;\n",
              "      width: 32px;\n",
              "    }\n",
              "\n",
              "    .colab-df-convert:hover {\n",
              "      background-color: #E2EBFA;\n",
              "      box-shadow: 0px 1px 2px rgba(60, 64, 67, 0.3), 0px 1px 3px 1px rgba(60, 64, 67, 0.15);\n",
              "      fill: #174EA6;\n",
              "    }\n",
              "\n",
              "    [theme=dark] .colab-df-convert {\n",
              "      background-color: #3B4455;\n",
              "      fill: #D2E3FC;\n",
              "    }\n",
              "\n",
              "    [theme=dark] .colab-df-convert:hover {\n",
              "      background-color: #434B5C;\n",
              "      box-shadow: 0px 1px 3px 1px rgba(0, 0, 0, 0.15);\n",
              "      filter: drop-shadow(0px 1px 2px rgba(0, 0, 0, 0.3));\n",
              "      fill: #FFFFFF;\n",
              "    }\n",
              "  </style>\n",
              "\n",
              "      <script>\n",
              "        const buttonEl =\n",
              "          document.querySelector('#df-8dcf3079-a525-4ed0-a720-9c61be9f87a7 button.colab-df-convert');\n",
              "        buttonEl.style.display =\n",
              "          google.colab.kernel.accessAllowed ? 'block' : 'none';\n",
              "\n",
              "        async function convertToInteractive(key) {\n",
              "          const element = document.querySelector('#df-8dcf3079-a525-4ed0-a720-9c61be9f87a7');\n",
              "          const dataTable =\n",
              "            await google.colab.kernel.invokeFunction('convertToInteractive',\n",
              "                                                     [key], {});\n",
              "          if (!dataTable) return;\n",
              "\n",
              "          const docLinkHtml = 'Like what you see? Visit the ' +\n",
              "            '<a target=\"_blank\" href=https://colab.research.google.com/notebooks/data_table.ipynb>data table notebook</a>'\n",
              "            + ' to learn more about interactive tables.';\n",
              "          element.innerHTML = '';\n",
              "          dataTable['output_type'] = 'display_data';\n",
              "          await google.colab.output.renderOutput(dataTable, element);\n",
              "          const docLink = document.createElement('div');\n",
              "          docLink.innerHTML = docLinkHtml;\n",
              "          element.appendChild(docLink);\n",
              "        }\n",
              "      </script>\n",
              "    </div>\n",
              "  </div>\n",
              "  "
            ]
          },
          "metadata": {},
          "execution_count": 20
        }
      ]
    },
    {
      "cell_type": "code",
      "source": [
        "fig, ax = plt.subplots(figsize=(15,7))\n",
        "\n",
        "sns.lineplot(data=month, x='MONTH', y='ACCNUM', marker = 'o')\n",
        "ax.set_title('Collisions Cases Trend by Month', fontsize=20, fontweight='bold')\n",
        "ax.set_ylabel('Collision Cases')\n",
        "ax.set_xlabel('Months')\n",
        "ax.grid(True)"
      ],
      "metadata": {
        "colab": {
          "base_uri": "https://localhost:8080/",
          "height": 463
        },
        "id": "iqa0rw8S0ZmG",
        "outputId": "0dcda55e-32d0-46e1-a9e2-dbed3e92ef0a"
      },
      "execution_count": 21,
      "outputs": [
        {
          "output_type": "display_data",
          "data": {
            "text/plain": [
              "<Figure size 1080x504 with 1 Axes>"
            ],
            "image/png": "[encoded data removed]"
          },
          "metadata": {
            "needs_background": "light"
          }
        }
      ]
    },
    {
      "cell_type": "markdown",
      "source": [
        "`Jan - Apr` collision cases tend to be low, then `Apr - Sep` the trend starts to increase even though in `July` it had decreased. From `Sep - Dec` the trend started down again. This is a bit difficult to understand without understanding the traffic conditions that exist in Toronto."
      ],
      "metadata": {
        "id": "jLCsRtEnY088"
      }
    },
    {
      "cell_type": "markdown",
      "source": [
        "###Exploring Cases by ROAD_CLASS"
      ],
      "metadata": {
        "id": "fgT4F5A8fqYP"
      }
    },
    {
      "cell_type": "code",
      "source": [
        "df1.ROAD_CLASS.value_counts()"
      ],
      "metadata": {
        "colab": {
          "base_uri": "https://localhost:8080/"
        },
        "id": "l_OaHQ2mfs5G",
        "outputId": "cca64bf1-5c6b-444b-9e1c-7a4d6489e055"
      },
      "execution_count": 22,
      "outputs": [
        {
          "output_type": "execute_result",
          "data": {
            "text/plain": [
              "Major Arterial         4142\n",
              "Minor Arterial          982\n",
              "Collector               369\n",
              "Local                   307\n",
              "<Null>                  164\n",
              "Expressway               19\n",
              "Other                     9\n",
              "Laneway                   4\n",
              "Pending                   3\n",
              "Expressway Ramp           2\n",
              "Major Arterial Ramp       1\n",
              "Name: ROAD_CLASS, dtype: int64"
            ]
          },
          "metadata": {},
          "execution_count": 22
        }
      ]
    },
    {
      "cell_type": "markdown",
      "source": [
        "For facilitate of analysis, `Null` values ​​will be replaced with `Major Arterial` while `Laneway`, `Pending`, `Expressway Ramp` and `Major Arterial Ramp` features will be combined with `Other` features."
      ],
      "metadata": {
        "id": "NhTz-6-Jj3Vs"
      }
    },
    {
      "cell_type": "code",
      "source": [
        "df1['ROAD_CLASS'] = df1['ROAD_CLASS'].replace('<Null>', 'Major Arterial')"
      ],
      "metadata": {
        "id": "Bb2jkAvXk0m1",
        "colab": {
          "base_uri": "https://localhost:8080/"
        },
        "outputId": "51590fb5-d089-4a47-9fbc-c753e743e183"
      },
      "execution_count": 23,
      "outputs": [
        {
          "output_type": "stream",
          "name": "stderr",
          "text": [
            "/usr/local/lib/python3.7/dist-packages/ipykernel_launcher.py:1: SettingWithCopyWarning: \n",
            "A value is trying to be set on a copy of a slice from a DataFrame.\n",
            "Try using .loc[row_indexer,col_indexer] = value instead\n",
            "\n",
            "See the caveats in the documentation: https://pandas.pydata.org/pandas-docs/stable/user_guide/indexing.html#returning-a-view-versus-a-copy\n",
            "  \"\"\"Entry point for launching an IPython kernel.\n"
          ]
        }
      ]
    },
    {
      "cell_type": "code",
      "source": [
        "road_col = ['Laneway', 'Pending', 'Expressway', 'Expressway Ramp', 'Major Arterial Ramp']\n",
        "df1['ROAD_CLASS'] = df1['ROAD_CLASS'].replace(road_col, 'Other')"
      ],
      "metadata": {
        "id": "pRmqH3HslheV",
        "colab": {
          "base_uri": "https://localhost:8080/"
        },
        "outputId": "b4a24c19-e34e-47ff-fc49-84009585f32a"
      },
      "execution_count": 24,
      "outputs": [
        {
          "output_type": "stream",
          "name": "stderr",
          "text": [
            "/usr/local/lib/python3.7/dist-packages/ipykernel_launcher.py:2: SettingWithCopyWarning: \n",
            "A value is trying to be set on a copy of a slice from a DataFrame.\n",
            "Try using .loc[row_indexer,col_indexer] = value instead\n",
            "\n",
            "See the caveats in the documentation: https://pandas.pydata.org/pandas-docs/stable/user_guide/indexing.html#returning-a-view-versus-a-copy\n",
            "  \n"
          ]
        }
      ]
    },
    {
      "cell_type": "code",
      "source": [
        "df1.ROAD_CLASS.value_counts()"
      ],
      "metadata": {
        "colab": {
          "base_uri": "https://localhost:8080/"
        },
        "id": "__86XGiDlDAf",
        "outputId": "22c20c2c-3a2e-46f8-e087-9f89ac69e111"
      },
      "execution_count": 25,
      "outputs": [
        {
          "output_type": "execute_result",
          "data": {
            "text/plain": [
              "Major Arterial    4306\n",
              "Minor Arterial     982\n",
              "Collector          369\n",
              "Local              307\n",
              "Other               38\n",
              "Name: ROAD_CLASS, dtype: int64"
            ]
          },
          "metadata": {},
          "execution_count": 25
        }
      ]
    },
    {
      "cell_type": "code",
      "source": [
        "road = df1.groupby(['ROAD_CLASS'])['ACCNUM'].count().to_frame()\n",
        "road = road.sort_values('ACCNUM', ascending=False).reset_index()\n",
        "road"
      ],
      "metadata": {
        "colab": {
          "base_uri": "https://localhost:8080/",
          "height": 206
        },
        "id": "odFPAvE5R13Q",
        "outputId": "93f02164-68a0-4578-8e8a-0b02a51f57a6"
      },
      "execution_count": 26,
      "outputs": [
        {
          "output_type": "execute_result",
          "data": {
            "text/plain": [
              "       ROAD_CLASS  ACCNUM\n",
              "0  Major Arterial    4306\n",
              "1  Minor Arterial     982\n",
              "2       Collector     369\n",
              "3           Local     307\n",
              "4           Other      38"
            ],
            "text/html": [
              "\n",
              "  <div id=\"df-703229da-c2af-4178-a1c2-318c1a03774c\">\n",
              "    <div class=\"colab-df-container\">\n",
              "      <div>\n",
              "<style scoped>\n",
              "    .dataframe tbody tr th:only-of-type {\n",
              "        vertical-align: middle;\n",
              "    }\n",
              "\n",
              "    .dataframe tbody tr th {\n",
              "        vertical-align: top;\n",
              "    }\n",
              "\n",
              "    .dataframe thead th {\n",
              "        text-align: right;\n",
              "    }\n",
              "</style>\n",
              "<table border=\"1\" class=\"dataframe\">\n",
              "  <thead>\n",
              "    <tr style=\"text-align: right;\">\n",
              "      <th></th>\n",
              "      <th>ROAD_CLASS</th>\n",
              "      <th>ACCNUM</th>\n",
              "    </tr>\n",
              "  </thead>\n",
              "  <tbody>\n",
              "    <tr>\n",
              "      <th>0</th>\n",
              "      <td>Major Arterial</td>\n",
              "      <td>4306</td>\n",
              "    </tr>\n",
              "    <tr>\n",
              "      <th>1</th>\n",
              "      <td>Minor Arterial</td>\n",
              "      <td>982</td>\n",
              "    </tr>\n",
              "    <tr>\n",
              "      <th>2</th>\n",
              "      <td>Collector</td>\n",
              "      <td>369</td>\n",
              "    </tr>\n",
              "    <tr>\n",
              "      <th>3</th>\n",
              "      <td>Local</td>\n",
              "      <td>307</td>\n",
              "    </tr>\n",
              "    <tr>\n",
              "      <th>4</th>\n",
              "      <td>Other</td>\n",
              "      <td>38</td>\n",
              "    </tr>\n",
              "  </tbody>\n",
              "</table>\n",
              "</div>\n",
              "      <button class=\"colab-df-convert\" onclick=\"convertToInteractive('df-703229da-c2af-4178-a1c2-318c1a03774c')\"\n",
              "              title=\"Convert this dataframe to an interactive table.\"\n",
              "              style=\"display:none;\">\n",
              "        \n",
              "  <svg xmlns=\"http://www.w3.org/2000/svg\" height=\"24px\"viewBox=\"0 0 24 24\"\n",
              "       width=\"24px\">\n",
              "    <path d=\"M0 0h24v24H0V0z\" fill=\"none\"/>\n",
              "    <path d=\"M18.56 5.44l.94 2.06.94-2.06 2.06-.94-2.06-.94-.94-2.06-.94 2.06-2.06.94zm-11 1L8.5 8.5l.94-2.06 2.06-.94-2.06-.94L8.5 2.5l-.94 2.06-2.06.94zm10 10l.94 2.06.94-2.06 2.06-.94-2.06-.94-.94-2.06-.94 2.06-2.06.94z\"/><path d=\"M17.41 7.96l-1.37-1.37c-.4-.4-.92-.59-1.43-.59-.52 0-1.04.2-1.43.59L10.3 9.45l-7.72 7.72c-.78.78-.78 2.05 0 2.83L4 21.41c.39.39.9.59 1.41.59.51 0 1.02-.2 1.41-.59l7.78-7.78 2.81-2.81c.8-.78.8-2.07 0-2.86zM5.41 20L4 18.59l7.72-7.72 1.47 1.35L5.41 20z\"/>\n",
              "  </svg>\n",
              "      </button>\n",
              "      \n",
              "  <style>\n",
              "    .colab-df-container {\n",
              "      display:flex;\n",
              "      flex-wrap:wrap;\n",
              "      gap: 12px;\n",
              "    }\n",
              "\n",
              "    .colab-df-convert {\n",
              "      background-color: #E8F0FE;\n",
              "      border: none;\n",
              "      border-radius: 50%;\n",
              "      cursor: pointer;\n",
              "      display: none;\n",
              "      fill: #1967D2;\n",
              "      height: 32px;\n",
              "      padding: 0 0 0 0;\n",
              "      width: 32px;\n",
              "    }\n",
              "\n",
              "    .colab-df-convert:hover {\n",
              "      background-color: #E2EBFA;\n",
              "      box-shadow: 0px 1px 2px rgba(60, 64, 67, 0.3), 0px 1px 3px 1px rgba(60, 64, 67, 0.15);\n",
              "      fill: #174EA6;\n",
              "    }\n",
              "\n",
              "    [theme=dark] .colab-df-convert {\n",
              "      background-color: #3B4455;\n",
              "      fill: #D2E3FC;\n",
              "    }\n",
              "\n",
              "    [theme=dark] .colab-df-convert:hover {\n",
              "      background-color: #434B5C;\n",
              "      box-shadow: 0px 1px 3px 1px rgba(0, 0, 0, 0.15);\n",
              "      filter: drop-shadow(0px 1px 2px rgba(0, 0, 0, 0.3));\n",
              "      fill: #FFFFFF;\n",
              "    }\n",
              "  </style>\n",
              "\n",
              "      <script>\n",
              "        const buttonEl =\n",
              "          document.querySelector('#df-703229da-c2af-4178-a1c2-318c1a03774c button.colab-df-convert');\n",
              "        buttonEl.style.display =\n",
              "          google.colab.kernel.accessAllowed ? 'block' : 'none';\n",
              "\n",
              "        async function convertToInteractive(key) {\n",
              "          const element = document.querySelector('#df-703229da-c2af-4178-a1c2-318c1a03774c');\n",
              "          const dataTable =\n",
              "            await google.colab.kernel.invokeFunction('convertToInteractive',\n",
              "                                                     [key], {});\n",
              "          if (!dataTable) return;\n",
              "\n",
              "          const docLinkHtml = 'Like what you see? Visit the ' +\n",
              "            '<a target=\"_blank\" href=https://colab.research.google.com/notebooks/data_table.ipynb>data table notebook</a>'\n",
              "            + ' to learn more about interactive tables.';\n",
              "          element.innerHTML = '';\n",
              "          dataTable['output_type'] = 'display_data';\n",
              "          await google.colab.output.renderOutput(dataTable, element);\n",
              "          const docLink = document.createElement('div');\n",
              "          docLink.innerHTML = docLinkHtml;\n",
              "          element.appendChild(docLink);\n",
              "        }\n",
              "      </script>\n",
              "    </div>\n",
              "  </div>\n",
              "  "
            ]
          },
          "metadata": {},
          "execution_count": 26
        }
      ]
    },
    {
      "cell_type": "code",
      "source": [
        "fig, ax = plt.subplots(figsize=(12,8))\n",
        "\n",
        "sns.barplot(data=road, x='ROAD_CLASS', y='ACCNUM', palette=sns.color_palette(\"Blues_r\",9))\n",
        "ax.set_title('Collisions Cases Numbers by Class Road in Toronto', fontsize=20, fontweight='bold')\n",
        "ax.set_xlabel('Road Type in Toronto')\n",
        "ax.set_ylabel('Count)')\n",
        "sns.set_style(\"whitegrid\")\n",
        "\n",
        "x = np.arange(len(road['ROAD_CLASS']))\n",
        "y = road['ACCNUM']\n",
        "\n",
        "for i, v in enumerate(y):\n",
        "    ax.text(x[i]- 0.1, v+20, str(v), fontsize = 14)\n",
        "\n",
        "plt.tight_layout(pad=3.0)"
      ],
      "metadata": {
        "colab": {
          "base_uri": "https://localhost:8080/",
          "height": 547
        },
        "id": "WNcXzbo8mJKc",
        "outputId": "a8eb2eac-76e6-4f6f-c0f8-0ef9434feaa5"
      },
      "execution_count": 27,
      "outputs": [
        {
          "output_type": "display_data",
          "data": {
            "text/plain": [
              "<Figure size 864x576 with 1 Axes>"
            ],
            "image/png": "[encoded data removed]"
          },
          "metadata": {
            "needs_background": "light"
          }
        }
      ]
    },
    {
      "cell_type": "markdown",
      "source": [
        "Most collisions cases happens in Mahor Arterial as the main road in Toronto. An explanation of each class of road can be found at [official site Toronto](https://www.toronto.ca/services-payments/streets-parking-transportation/traffic-management/road-classification-system/about-the-road-classification-system/)"
      ],
      "metadata": {
        "id": "jpSVYlg1mQZ9"
      }
    },
    {
      "cell_type": "markdown",
      "source": [
        "### Exploring Cases  by DISTRICT"
      ],
      "metadata": {
        "id": "DbHQCDi1YxHo"
      }
    },
    {
      "cell_type": "code",
      "source": [
        "df1.DISTRICT.value_counts()"
      ],
      "metadata": {
        "colab": {
          "base_uri": "https://localhost:8080/"
        },
        "id": "NZAYvCfL2i41",
        "outputId": "b39ad7d9-5a52-4658-8334-06b90aa11b30"
      },
      "execution_count": 28,
      "outputs": [
        {
          "output_type": "execute_result",
          "data": {
            "text/plain": [
              "Toronto and East York    2032\n",
              "Etobicoke York           1373\n",
              "Scarborough              1317\n",
              "North York               1185\n",
              "<Null>                     62\n",
              "Toronto East York          33\n",
              "Name: DISTRICT, dtype: int64"
            ]
          },
          "metadata": {},
          "execution_count": 28
        }
      ]
    },
    {
      "cell_type": "code",
      "source": [
        "df1['DISTRICT'] = df1['DISTRICT'].replace('Toronto East York', 'Toronto and East York')\n",
        "df1['DISTRICT'] = df1['DISTRICT'].replace('<Null>', 'Toronto and East York')"
      ],
      "metadata": {
        "id": "d35N2Mqc2x9N",
        "colab": {
          "base_uri": "https://localhost:8080/"
        },
        "outputId": "af0653b8-2565-421a-d24d-48cf1583a5b7"
      },
      "execution_count": 29,
      "outputs": [
        {
          "output_type": "stream",
          "name": "stderr",
          "text": [
            "/usr/local/lib/python3.7/dist-packages/ipykernel_launcher.py:1: SettingWithCopyWarning: \n",
            "A value is trying to be set on a copy of a slice from a DataFrame.\n",
            "Try using .loc[row_indexer,col_indexer] = value instead\n",
            "\n",
            "See the caveats in the documentation: https://pandas.pydata.org/pandas-docs/stable/user_guide/indexing.html#returning-a-view-versus-a-copy\n",
            "  \"\"\"Entry point for launching an IPython kernel.\n",
            "/usr/local/lib/python3.7/dist-packages/ipykernel_launcher.py:2: SettingWithCopyWarning: \n",
            "A value is trying to be set on a copy of a slice from a DataFrame.\n",
            "Try using .loc[row_indexer,col_indexer] = value instead\n",
            "\n",
            "See the caveats in the documentation: https://pandas.pydata.org/pandas-docs/stable/user_guide/indexing.html#returning-a-view-versus-a-copy\n",
            "  \n"
          ]
        }
      ]
    },
    {
      "cell_type": "code",
      "source": [
        "df1.DISTRICT.value_counts()"
      ],
      "metadata": {
        "colab": {
          "base_uri": "https://localhost:8080/"
        },
        "id": "4p_knf6F25iU",
        "outputId": "eae6d9f7-791f-4051-afbb-a7972c078b13"
      },
      "execution_count": 30,
      "outputs": [
        {
          "output_type": "execute_result",
          "data": {
            "text/plain": [
              "Toronto and East York    2127\n",
              "Etobicoke York           1373\n",
              "Scarborough              1317\n",
              "North York               1185\n",
              "Name: DISTRICT, dtype: int64"
            ]
          },
          "metadata": {},
          "execution_count": 30
        }
      ]
    },
    {
      "cell_type": "code",
      "source": [
        "dis = df1.groupby(['DISTRICT'])['ACCNUM'].count().to_frame()\n",
        "dis = dis.sort_values('ACCNUM', ascending=False).reset_index()\n",
        "dis"
      ],
      "metadata": {
        "colab": {
          "base_uri": "https://localhost:8080/",
          "height": 175
        },
        "id": "1rdvr6LMYqKS",
        "outputId": "9a009f19-ce78-4688-94e3-18adca838b61"
      },
      "execution_count": 31,
      "outputs": [
        {
          "output_type": "execute_result",
          "data": {
            "text/plain": [
              "                DISTRICT  ACCNUM\n",
              "0  Toronto and East York    2127\n",
              "1         Etobicoke York    1373\n",
              "2            Scarborough    1317\n",
              "3             North York    1185"
            ],
            "text/html": [
              "\n",
              "  <div id=\"df-6b9e58f2-9827-426b-8ecd-26d53888ae32\">\n",
              "    <div class=\"colab-df-container\">\n",
              "      <div>\n",
              "<style scoped>\n",
              "    .dataframe tbody tr th:only-of-type {\n",
              "        vertical-align: middle;\n",
              "    }\n",
              "\n",
              "    .dataframe tbody tr th {\n",
              "        vertical-align: top;\n",
              "    }\n",
              "\n",
              "    .dataframe thead th {\n",
              "        text-align: right;\n",
              "    }\n",
              "</style>\n",
              "<table border=\"1\" class=\"dataframe\">\n",
              "  <thead>\n",
              "    <tr style=\"text-align: right;\">\n",
              "      <th></th>\n",
              "      <th>DISTRICT</th>\n",
              "      <th>ACCNUM</th>\n",
              "    </tr>\n",
              "  </thead>\n",
              "  <tbody>\n",
              "    <tr>\n",
              "      <th>0</th>\n",
              "      <td>Toronto and East York</td>\n",
              "      <td>2127</td>\n",
              "    </tr>\n",
              "    <tr>\n",
              "      <th>1</th>\n",
              "      <td>Etobicoke York</td>\n",
              "      <td>1373</td>\n",
              "    </tr>\n",
              "    <tr>\n",
              "      <th>2</th>\n",
              "      <td>Scarborough</td>\n",
              "      <td>1317</td>\n",
              "    </tr>\n",
              "    <tr>\n",
              "      <th>3</th>\n",
              "      <td>North York</td>\n",
              "      <td>1185</td>\n",
              "    </tr>\n",
              "  </tbody>\n",
              "</table>\n",
              "</div>\n",
              "      <button class=\"colab-df-convert\" onclick=\"convertToInteractive('df-6b9e58f2-9827-426b-8ecd-26d53888ae32')\"\n",
              "              title=\"Convert this dataframe to an interactive table.\"\n",
              "              style=\"display:none;\">\n",
              "        \n",
              "  <svg xmlns=\"http://www.w3.org/2000/svg\" height=\"24px\"viewBox=\"0 0 24 24\"\n",
              "       width=\"24px\">\n",
              "    <path d=\"M0 0h24v24H0V0z\" fill=\"none\"/>\n",
              "    <path d=\"M18.56 5.44l.94 2.06.94-2.06 2.06-.94-2.06-.94-.94-2.06-.94 2.06-2.06.94zm-11 1L8.5 8.5l.94-2.06 2.06-.94-2.06-.94L8.5 2.5l-.94 2.06-2.06.94zm10 10l.94 2.06.94-2.06 2.06-.94-2.06-.94-.94-2.06-.94 2.06-2.06.94z\"/><path d=\"M17.41 7.96l-1.37-1.37c-.4-.4-.92-.59-1.43-.59-.52 0-1.04.2-1.43.59L10.3 9.45l-7.72 7.72c-.78.78-.78 2.05 0 2.83L4 21.41c.39.39.9.59 1.41.59.51 0 1.02-.2 1.41-.59l7.78-7.78 2.81-2.81c.8-.78.8-2.07 0-2.86zM5.41 20L4 18.59l7.72-7.72 1.47 1.35L5.41 20z\"/>\n",
              "  </svg>\n",
              "      </button>\n",
              "      \n",
              "  <style>\n",
              "    .colab-df-container {\n",
              "      display:flex;\n",
              "      flex-wrap:wrap;\n",
              "      gap: 12px;\n",
              "    }\n",
              "\n",
              "    .colab-df-convert {\n",
              "      background-color: #E8F0FE;\n",
              "      border: none;\n",
              "      border-radius: 50%;\n",
              "      cursor: pointer;\n",
              "      display: none;\n",
              "      fill: #1967D2;\n",
              "      height: 32px;\n",
              "      padding: 0 0 0 0;\n",
              "      width: 32px;\n",
              "    }\n",
              "\n",
              "    .colab-df-convert:hover {\n",
              "      background-color: #E2EBFA;\n",
              "      box-shadow: 0px 1px 2px rgba(60, 64, 67, 0.3), 0px 1px 3px 1px rgba(60, 64, 67, 0.15);\n",
              "      fill: #174EA6;\n",
              "    }\n",
              "\n",
              "    [theme=dark] .colab-df-convert {\n",
              "      background-color: #3B4455;\n",
              "      fill: #D2E3FC;\n",
              "    }\n",
              "\n",
              "    [theme=dark] .colab-df-convert:hover {\n",
              "      background-color: #434B5C;\n",
              "      box-shadow: 0px 1px 3px 1px rgba(0, 0, 0, 0.15);\n",
              "      filter: drop-shadow(0px 1px 2px rgba(0, 0, 0, 0.3));\n",
              "      fill: #FFFFFF;\n",
              "    }\n",
              "  </style>\n",
              "\n",
              "      <script>\n",
              "        const buttonEl =\n",
              "          document.querySelector('#df-6b9e58f2-9827-426b-8ecd-26d53888ae32 button.colab-df-convert');\n",
              "        buttonEl.style.display =\n",
              "          google.colab.kernel.accessAllowed ? 'block' : 'none';\n",
              "\n",
              "        async function convertToInteractive(key) {\n",
              "          const element = document.querySelector('#df-6b9e58f2-9827-426b-8ecd-26d53888ae32');\n",
              "          const dataTable =\n",
              "            await google.colab.kernel.invokeFunction('convertToInteractive',\n",
              "                                                     [key], {});\n",
              "          if (!dataTable) return;\n",
              "\n",
              "          const docLinkHtml = 'Like what you see? Visit the ' +\n",
              "            '<a target=\"_blank\" href=https://colab.research.google.com/notebooks/data_table.ipynb>data table notebook</a>'\n",
              "            + ' to learn more about interactive tables.';\n",
              "          element.innerHTML = '';\n",
              "          dataTable['output_type'] = 'display_data';\n",
              "          await google.colab.output.renderOutput(dataTable, element);\n",
              "          const docLink = document.createElement('div');\n",
              "          docLink.innerHTML = docLinkHtml;\n",
              "          element.appendChild(docLink);\n",
              "        }\n",
              "      </script>\n",
              "    </div>\n",
              "  </div>\n",
              "  "
            ]
          },
          "metadata": {},
          "execution_count": 31
        }
      ]
    },
    {
      "cell_type": "code",
      "source": [
        "fig, ax = plt.subplots(figsize=(12,6))\n",
        "\n",
        "sns.barplot(data=dis, x='DISTRICT', y='ACCNUM', palette=sns.color_palette(\"Blues_r\",6), order = dis['DISTRICT'].value_counts().index)\n",
        "ax.set_title('Collisions Cases Numbers by District in Toronto', fontsize=20, fontweight='bold')\n",
        "ax.set_xlabel('Districts in Toronto')\n",
        "ax.set_ylabel('Count)')\n",
        "sns.set_style(\"whitegrid\")\n",
        "\n",
        "x = np.arange(len(dis['DISTRICT']))\n",
        "y = dis['ACCNUM']\n",
        "\n",
        "for i, v in enumerate(y):\n",
        "    ax.text(x[i]- 0.1, v+20, str(v), fontsize = 14)\n",
        "\n",
        "plt.tight_layout(pad=3.0)"
      ],
      "metadata": {
        "colab": {
          "base_uri": "https://localhost:8080/",
          "height": 403
        },
        "id": "K8bJWt8AaQ3R",
        "outputId": "1e2a8e7e-3342-404b-aad9-e2c16a63b1d0"
      },
      "execution_count": 32,
      "outputs": [
        {
          "output_type": "display_data",
          "data": {
            "text/plain": [
              "<Figure size 864x432 with 1 Axes>"
            ],
            "image/png": "[encoded data removed]"
          },
          "metadata": {}
        }
      ]
    },
    {
      "cell_type": "markdown",
      "source": [
        "###Exploring Cases by TRAFFCTL"
      ],
      "metadata": {
        "id": "bd0fXnK1Gql3"
      }
    },
    {
      "cell_type": "code",
      "source": [
        "fig, ax=plt.subplots(figsize=(9,9))\n",
        "\n",
        "sns.countplot(df1.TRAFFCTL, palette=sns.color_palette(\"Blues_r\",15), order = df1['TRAFFCTL'].value_counts().index)\n",
        "ax.set_title('Collisions Cases by Traffic Sign', fontsize=15, fontweight='bold')\n",
        "ax.set_xlabel('Traffic Sign')\n",
        "ax.set_ylabel('Count)')\n",
        "sns.set_style(\"whitegrid\")\n",
        "plt.xticks(rotation = 90)"
      ],
      "metadata": {
        "colab": {
          "base_uri": "https://localhost:8080/",
          "height": 759
        },
        "id": "KeKAQm0IGwiG",
        "outputId": "37daee6c-8748-47e7-9aa0-2da67fabd994"
      },
      "execution_count": 33,
      "outputs": [
        {
          "output_type": "stream",
          "name": "stderr",
          "text": [
            "/usr/local/lib/python3.7/dist-packages/seaborn/_decorators.py:43: FutureWarning: Pass the following variable as a keyword arg: x. From version 0.12, the only valid positional argument will be `data`, and passing other arguments without an explicit keyword will result in an error or misinterpretation.\n",
            "  FutureWarning\n"
          ]
        },
        {
          "output_type": "execute_result",
          "data": {
            "text/plain": [
              "(array([ 0,  1,  2,  3,  4,  5,  6,  7,  8,  9, 10]),\n",
              " <a list of 11 Text major ticklabel objects>)"
            ]
          },
          "metadata": {},
          "execution_count": 33
        },
        {
          "output_type": "display_data",
          "data": {
            "text/plain": [
              "<Figure size 648x648 with 1 Axes>"
            ],
            "image/png": "[encoded data removed]"
          },
          "metadata": {}
        }
      ]
    },
    {
      "cell_type": "markdown",
      "source": [
        "Most collisions cases happens when there is no traffic control nor there are traffic signal such traffic lamp. "
      ],
      "metadata": {
        "id": "4Jx9pqWKLUSe"
      }
    },
    {
      "cell_type": "markdown",
      "source": [
        "###Exploring Cases by VISIBILITY"
      ],
      "metadata": {
        "id": "5v7CGzGcLPiX"
      }
    },
    {
      "cell_type": "code",
      "source": [
        "fig, ax=plt.subplots(figsize=(9,9))\n",
        "\n",
        "sns.countplot(df1.VISIBILITY, palette=sns.color_palette(\"Blues_r\",15), order = df1['VISIBILITY'].value_counts().index)\n",
        "ax.set_title('Collisions Cases by Environment Condition', fontsize=15, fontweight='bold')\n",
        "plt.xticks(rotation = 90)\n",
        "ax.set_xlabel('Environment Condition')\n",
        "ax.set_ylabel('Count)')\n",
        "sns.set_style(\"whitegrid\")"
      ],
      "metadata": {
        "colab": {
          "base_uri": "https://localhost:8080/",
          "height": 730
        },
        "id": "NcfSTMJDLwCO",
        "outputId": "085e7447-d886-4fe2-cce0-0e75101df852"
      },
      "execution_count": 34,
      "outputs": [
        {
          "output_type": "stream",
          "name": "stderr",
          "text": [
            "/usr/local/lib/python3.7/dist-packages/seaborn/_decorators.py:43: FutureWarning: Pass the following variable as a keyword arg: x. From version 0.12, the only valid positional argument will be `data`, and passing other arguments without an explicit keyword will result in an error or misinterpretation.\n",
            "  FutureWarning\n"
          ]
        },
        {
          "output_type": "display_data",
          "data": {
            "text/plain": [
              "<Figure size 648x648 with 1 Axes>"
            ],
            "image/png": "[encoded data removed]"
          },
          "metadata": {}
        }
      ]
    },
    {
      "cell_type": "markdown",
      "source": [
        "Surprisingly, clear conditions are the most common environmental conditions in collision cases. It can be concluded that environmental conditions are not a major factor in collision cases."
      ],
      "metadata": {
        "id": "71kh9x0q7pe5"
      }
    },
    {
      "cell_type": "markdown",
      "source": [
        "###Exploring Cases by LIGHT"
      ],
      "metadata": {
        "id": "wfLrpkhVMFQG"
      }
    },
    {
      "cell_type": "code",
      "source": [
        "fig, ax=plt.subplots(figsize=(9,9))\n",
        "\n",
        "sns.countplot(df1.LIGHT, palette=sns.color_palette(\"Blues_r\",15), order = df1['LIGHT'].value_counts().index)\n",
        "ax.set_title('Collisions Cases by Light Condition', fontsize=15, fontweight='bold')\n",
        "plt.xticks(rotation = 45)\n",
        "ax.set_xlabel('Light Condition')\n",
        "ax.set_ylabel('Count)')\n",
        "sns.set_style(\"whitegrid\")"
      ],
      "metadata": {
        "colab": {
          "base_uri": "https://localhost:8080/",
          "height": 686
        },
        "id": "RW3XUHPBMKB_",
        "outputId": "3562f992-45cc-4c15-b808-178260011655"
      },
      "execution_count": 35,
      "outputs": [
        {
          "output_type": "stream",
          "name": "stderr",
          "text": [
            "/usr/local/lib/python3.7/dist-packages/seaborn/_decorators.py:43: FutureWarning: Pass the following variable as a keyword arg: x. From version 0.12, the only valid positional argument will be `data`, and passing other arguments without an explicit keyword will result in an error or misinterpretation.\n",
            "  FutureWarning\n"
          ]
        },
        {
          "output_type": "display_data",
          "data": {
            "text/plain": [
              "<Figure size 648x648 with 1 Axes>"
            ],
            "image/png": "[encoded data removed]"
          },
          "metadata": {}
        }
      ]
    },
    {
      "cell_type": "markdown",
      "source": [
        "Similar to environmental conditions, light conditions are not a significant factor in the case of collisions as we see during the day it is a condition where many accidents occur."
      ],
      "metadata": {
        "id": "d0l9NoQ_8eOM"
      }
    },
    {
      "cell_type": "markdown",
      "source": [
        "###Exploring Cases by RDSFCOND"
      ],
      "metadata": {
        "id": "2BHrpM1jMSXu"
      }
    },
    {
      "cell_type": "code",
      "source": [
        "fig, ax=plt.subplots(figsize=(9,9))\n",
        "\n",
        "sns.countplot(df1.RDSFCOND, palette=sns.color_palette(\"Blues_r\",15), order = df1['RDSFCOND'].value_counts().index)\n",
        "ax.set_title('Collisions Cases by Road Surface Condition', fontsize=15, fontweight='bold')\n",
        "ax.set_xlabel('Road Surface Condition')\n",
        "ax.set_ylabel('Count)')\n",
        "sns.set_style(\"whitegrid\")\n",
        "plt.xticks(rotation = 45)"
      ],
      "metadata": {
        "colab": {
          "base_uri": "https://localhost:8080/",
          "height": 735
        },
        "id": "80MUu_k0MWqc",
        "outputId": "395aad6d-f7c3-4f3a-92b6-3793bcd0719f"
      },
      "execution_count": 36,
      "outputs": [
        {
          "output_type": "stream",
          "name": "stderr",
          "text": [
            "/usr/local/lib/python3.7/dist-packages/seaborn/_decorators.py:43: FutureWarning: Pass the following variable as a keyword arg: x. From version 0.12, the only valid positional argument will be `data`, and passing other arguments without an explicit keyword will result in an error or misinterpretation.\n",
            "  FutureWarning\n"
          ]
        },
        {
          "output_type": "execute_result",
          "data": {
            "text/plain": [
              "(array([0, 1, 2, 3, 4, 5, 6, 7, 8, 9]),\n",
              " <a list of 10 Text major ticklabel objects>)"
            ]
          },
          "metadata": {},
          "execution_count": 36
        },
        {
          "output_type": "display_data",
          "data": {
            "text/plain": [
              "<Figure size 648x648 with 1 Axes>"
            ],
            "image/png": "[encoded data removed]"
          },
          "metadata": {}
        }
      ]
    },
    {
      "cell_type": "markdown",
      "source": [
        "Road surfaces in dry conditions make up the majority of accidents that occur. It can be concluded that the environment when the collision case is fine."
      ],
      "metadata": {
        "id": "pGyO_Lgj91ys"
      }
    },
    {
      "cell_type": "markdown",
      "source": [
        "###Exploring Cases by IMPACTYPE"
      ],
      "metadata": {
        "id": "7PR2yhhfMh1G"
      }
    },
    {
      "cell_type": "code",
      "source": [
        "fig, ax=plt.subplots(figsize=(9,9))\n",
        "\n",
        "sns.countplot(df1.IMPACTYPE, palette=sns.color_palette(\"Blues_r\",15), order = df1['IMPACTYPE'].value_counts().index)\n",
        "ax.set_title('Collisions Cases by Initial Impact', fontsize=15, fontweight='bold')\n",
        "ax.set_xlabel('Initial Impact')\n",
        "ax.set_ylabel('Count)')\n",
        "sns.set_style(\"whitegrid\")\n",
        "plt.xticks(rotation = 90)"
      ],
      "metadata": {
        "colab": {
          "base_uri": "https://localhost:8080/",
          "height": 776
        },
        "id": "mdU07JAOMlHM",
        "outputId": "9cf2516d-0112-4d3e-8893-09ea006f7ef7"
      },
      "execution_count": 37,
      "outputs": [
        {
          "output_type": "stream",
          "name": "stderr",
          "text": [
            "/usr/local/lib/python3.7/dist-packages/seaborn/_decorators.py:43: FutureWarning: Pass the following variable as a keyword arg: x. From version 0.12, the only valid positional argument will be `data`, and passing other arguments without an explicit keyword will result in an error or misinterpretation.\n",
            "  FutureWarning\n"
          ]
        },
        {
          "output_type": "execute_result",
          "data": {
            "text/plain": [
              "(array([ 0,  1,  2,  3,  4,  5,  6,  7,  8,  9, 10]),\n",
              " <a list of 11 Text major ticklabel objects>)"
            ]
          },
          "metadata": {},
          "execution_count": 37
        },
        {
          "output_type": "display_data",
          "data": {
            "text/plain": [
              "<Figure size 648x648 with 1 Axes>"
            ],
            "image/png": "[encoded data removed]"
          },
          "metadata": {}
        }
      ]
    },
    {
      "cell_type": "markdown",
      "source": [
        "Pedistrian being number one who affected in collisions cases."
      ],
      "metadata": {
        "id": "AiGD4iKX-dUG"
      }
    },
    {
      "cell_type": "markdown",
      "source": [
        "###Exploring Cases by INVTYPE"
      ],
      "metadata": {
        "id": "3N4lqBavMusX"
      }
    },
    {
      "cell_type": "code",
      "source": [
        "fig, ax=plt.subplots(figsize=(9,9))\n",
        "\n",
        "sns.countplot(df1.INVTYPE, palette=sns.color_palette(\"Blues_r\",15), order = df1['INVTYPE'].value_counts().index)\n",
        "ax.set_title('Collisions Cases by Involvement Type', fontsize=15, fontweight='bold')\n",
        "plt.xticks(rotation = 90)\n",
        "ax.set_xlabel('Involvement Type')\n",
        "ax.set_ylabel('Count)')\n",
        "sns.set_style(\"whitegrid\")"
      ],
      "metadata": {
        "colab": {
          "base_uri": "https://localhost:8080/",
          "height": 725
        },
        "id": "nbHG-A3cMxwN",
        "outputId": "2828cd5f-fb7d-41e9-8f0e-f992c3117012"
      },
      "execution_count": 38,
      "outputs": [
        {
          "output_type": "stream",
          "name": "stderr",
          "text": [
            "/usr/local/lib/python3.7/dist-packages/seaborn/_decorators.py:43: FutureWarning: Pass the following variable as a keyword arg: x. From version 0.12, the only valid positional argument will be `data`, and passing other arguments without an explicit keyword will result in an error or misinterpretation.\n",
            "  FutureWarning\n"
          ]
        },
        {
          "output_type": "display_data",
          "data": {
            "text/plain": [
              "<Figure size 648x648 with 1 Axes>"
            ],
            "image/png": "[encoded data removed]"
          },
          "metadata": {}
        }
      ]
    },
    {
      "cell_type": "markdown",
      "source": [
        "Driver are the most type person who involve in collision cases "
      ],
      "metadata": {
        "id": "vmEllmAB_CRF"
      }
    },
    {
      "cell_type": "markdown",
      "source": [
        "### Exploring Cases by NEIGHBOURHOOD"
      ],
      "metadata": {
        "id": "lYQuyk2DePOt"
      }
    },
    {
      "cell_type": "code",
      "source": [
        "#Function for facilitate visualization process\n",
        "def grouping(item, df=df1):\n",
        "  new_df = df.groupby(by=item)['ACCNUM'].agg(['count'])\n",
        "  new_df['Percentage'] = new_df['count']*100/df[df.columns[0]].count()\n",
        "  new_df = new_df.rename(columns={'count':'Case'})\n",
        "  new_df = new_df.sort_values('Case', ascending=False).reset_index()\n",
        "  new_df['Cum_Percent'] = (new_df['Case'].cumsum() / new_df['Case'].sum()) * 100\n",
        "  return new_df"
      ],
      "metadata": {
        "id": "U9ZBYck14bGL"
      },
      "execution_count": 39,
      "outputs": []
    },
    {
      "cell_type": "code",
      "source": [
        "hood1 = grouping('NEIGHBOURHOOD', df=df1)"
      ],
      "metadata": {
        "id": "9lrB6wAf4uEL"
      },
      "execution_count": 40,
      "outputs": []
    },
    {
      "cell_type": "code",
      "source": [
        "hood1"
      ],
      "metadata": {
        "colab": {
          "base_uri": "https://localhost:8080/",
          "height": 423
        },
        "id": "G2MjzCCQxbMG",
        "outputId": "f4742310-5152-4f7d-c95c-5feb85e268d2"
      },
      "execution_count": 41,
      "outputs": [
        {
          "output_type": "execute_result",
          "data": {
            "text/plain": [
              "                              NEIGHBOURHOOD  Case  Percentage  Cum_Percent\n",
              "0    Waterfront Communities-The Island (77)   222    3.698767     3.698767\n",
              "1                West Humber-Clairville (1)   170    2.832389     6.531156\n",
              "2                  Bay Street Corridor (76)   141    2.349217     8.880373\n",
              "3                               Rouge (131)   132    2.199267    11.079640\n",
              "4                              Woburn (137)   120    1.999334    13.078974\n",
              "..                                      ...   ...         ...          ...\n",
              "135                         Guildwood (140)    10    0.166611    99.483505\n",
              "136               Lawrence Park North (105)    10    0.166611    99.650117\n",
              "137           Playter Estates-Danforth (67)    10    0.166611    99.816728\n",
              "138                         Maple Leaf (29)     7    0.116628    99.933356\n",
              "139                Lambton Baby Point (114)     4    0.066644   100.000000\n",
              "\n",
              "[140 rows x 4 columns]"
            ],
            "text/html": [
              "\n",
              "  <div id=\"df-17e573a1-4af6-45fd-b196-63e06be8f28e\">\n",
              "    <div class=\"colab-df-container\">\n",
              "      <div>\n",
              "<style scoped>\n",
              "    .dataframe tbody tr th:only-of-type {\n",
              "        vertical-align: middle;\n",
              "    }\n",
              "\n",
              "    .dataframe tbody tr th {\n",
              "        vertical-align: top;\n",
              "    }\n",
              "\n",
              "    .dataframe thead th {\n",
              "        text-align: right;\n",
              "    }\n",
              "</style>\n",
              "<table border=\"1\" class=\"dataframe\">\n",
              "  <thead>\n",
              "    <tr style=\"text-align: right;\">\n",
              "      <th></th>\n",
              "      <th>NEIGHBOURHOOD</th>\n",
              "      <th>Case</th>\n",
              "      <th>Percentage</th>\n",
              "      <th>Cum_Percent</th>\n",
              "    </tr>\n",
              "  </thead>\n",
              "  <tbody>\n",
              "    <tr>\n",
              "      <th>0</th>\n",
              "      <td>Waterfront Communities-The Island (77)</td>\n",
              "      <td>222</td>\n",
              "      <td>3.698767</td>\n",
              "      <td>3.698767</td>\n",
              "    </tr>\n",
              "    <tr>\n",
              "      <th>1</th>\n",
              "      <td>West Humber-Clairville (1)</td>\n",
              "      <td>170</td>\n",
              "      <td>2.832389</td>\n",
              "      <td>6.531156</td>\n",
              "    </tr>\n",
              "    <tr>\n",
              "      <th>2</th>\n",
              "      <td>Bay Street Corridor (76)</td>\n",
              "      <td>141</td>\n",
              "      <td>2.349217</td>\n",
              "      <td>8.880373</td>\n",
              "    </tr>\n",
              "    <tr>\n",
              "      <th>3</th>\n",
              "      <td>Rouge (131)</td>\n",
              "      <td>132</td>\n",
              "      <td>2.199267</td>\n",
              "      <td>11.079640</td>\n",
              "    </tr>\n",
              "    <tr>\n",
              "      <th>4</th>\n",
              "      <td>Woburn (137)</td>\n",
              "      <td>120</td>\n",
              "      <td>1.999334</td>\n",
              "      <td>13.078974</td>\n",
              "    </tr>\n",
              "    <tr>\n",
              "      <th>...</th>\n",
              "      <td>...</td>\n",
              "      <td>...</td>\n",
              "      <td>...</td>\n",
              "      <td>...</td>\n",
              "    </tr>\n",
              "    <tr>\n",
              "      <th>135</th>\n",
              "      <td>Guildwood (140)</td>\n",
              "      <td>10</td>\n",
              "      <td>0.166611</td>\n",
              "      <td>99.483505</td>\n",
              "    </tr>\n",
              "    <tr>\n",
              "      <th>136</th>\n",
              "      <td>Lawrence Park North (105)</td>\n",
              "      <td>10</td>\n",
              "      <td>0.166611</td>\n",
              "      <td>99.650117</td>\n",
              "    </tr>\n",
              "    <tr>\n",
              "      <th>137</th>\n",
              "      <td>Playter Estates-Danforth (67)</td>\n",
              "      <td>10</td>\n",
              "      <td>0.166611</td>\n",
              "      <td>99.816728</td>\n",
              "    </tr>\n",
              "    <tr>\n",
              "      <th>138</th>\n",
              "      <td>Maple Leaf (29)</td>\n",
              "      <td>7</td>\n",
              "      <td>0.116628</td>\n",
              "      <td>99.933356</td>\n",
              "    </tr>\n",
              "    <tr>\n",
              "      <th>139</th>\n",
              "      <td>Lambton Baby Point (114)</td>\n",
              "      <td>4</td>\n",
              "      <td>0.066644</td>\n",
              "      <td>100.000000</td>\n",
              "    </tr>\n",
              "  </tbody>\n",
              "</table>\n",
              "<p>140 rows × 4 columns</p>\n",
              "</div>\n",
              "      <button class=\"colab-df-convert\" onclick=\"convertToInteractive('df-17e573a1-4af6-45fd-b196-63e06be8f28e')\"\n",
              "              title=\"Convert this dataframe to an interactive table.\"\n",
              "              style=\"display:none;\">\n",
              "        \n",
              "  <svg xmlns=\"http://www.w3.org/2000/svg\" height=\"24px\"viewBox=\"0 0 24 24\"\n",
              "       width=\"24px\">\n",
              "    <path d=\"M0 0h24v24H0V0z\" fill=\"none\"/>\n",
              "    <path d=\"M18.56 5.44l.94 2.06.94-2.06 2.06-.94-2.06-.94-.94-2.06-.94 2.06-2.06.94zm-11 1L8.5 8.5l.94-2.06 2.06-.94-2.06-.94L8.5 2.5l-.94 2.06-2.06.94zm10 10l.94 2.06.94-2.06 2.06-.94-2.06-.94-.94-2.06-.94 2.06-2.06.94z\"/><path d=\"M17.41 7.96l-1.37-1.37c-.4-.4-.92-.59-1.43-.59-.52 0-1.04.2-1.43.59L10.3 9.45l-7.72 7.72c-.78.78-.78 2.05 0 2.83L4 21.41c.39.39.9.59 1.41.59.51 0 1.02-.2 1.41-.59l7.78-7.78 2.81-2.81c.8-.78.8-2.07 0-2.86zM5.41 20L4 18.59l7.72-7.72 1.47 1.35L5.41 20z\"/>\n",
              "  </svg>\n",
              "      </button>\n",
              "      \n",
              "  <style>\n",
              "    .colab-df-container {\n",
              "      display:flex;\n",
              "      flex-wrap:wrap;\n",
              "      gap: 12px;\n",
              "    }\n",
              "\n",
              "    .colab-df-convert {\n",
              "      background-color: #E8F0FE;\n",
              "      border: none;\n",
              "      border-radius: 50%;\n",
              "      cursor: pointer;\n",
              "      display: none;\n",
              "      fill: #1967D2;\n",
              "      height: 32px;\n",
              "      padding: 0 0 0 0;\n",
              "      width: 32px;\n",
              "    }\n",
              "\n",
              "    .colab-df-convert:hover {\n",
              "      background-color: #E2EBFA;\n",
              "      box-shadow: 0px 1px 2px rgba(60, 64, 67, 0.3), 0px 1px 3px 1px rgba(60, 64, 67, 0.15);\n",
              "      fill: #174EA6;\n",
              "    }\n",
              "\n",
              "    [theme=dark] .colab-df-convert {\n",
              "      background-color: #3B4455;\n",
              "      fill: #D2E3FC;\n",
              "    }\n",
              "\n",
              "    [theme=dark] .colab-df-convert:hover {\n",
              "      background-color: #434B5C;\n",
              "      box-shadow: 0px 1px 3px 1px rgba(0, 0, 0, 0.15);\n",
              "      filter: drop-shadow(0px 1px 2px rgba(0, 0, 0, 0.3));\n",
              "      fill: #FFFFFF;\n",
              "    }\n",
              "  </style>\n",
              "\n",
              "      <script>\n",
              "        const buttonEl =\n",
              "          document.querySelector('#df-17e573a1-4af6-45fd-b196-63e06be8f28e button.colab-df-convert');\n",
              "        buttonEl.style.display =\n",
              "          google.colab.kernel.accessAllowed ? 'block' : 'none';\n",
              "\n",
              "        async function convertToInteractive(key) {\n",
              "          const element = document.querySelector('#df-17e573a1-4af6-45fd-b196-63e06be8f28e');\n",
              "          const dataTable =\n",
              "            await google.colab.kernel.invokeFunction('convertToInteractive',\n",
              "                                                     [key], {});\n",
              "          if (!dataTable) return;\n",
              "\n",
              "          const docLinkHtml = 'Like what you see? Visit the ' +\n",
              "            '<a target=\"_blank\" href=https://colab.research.google.com/notebooks/data_table.ipynb>data table notebook</a>'\n",
              "            + ' to learn more about interactive tables.';\n",
              "          element.innerHTML = '';\n",
              "          dataTable['output_type'] = 'display_data';\n",
              "          await google.colab.output.renderOutput(dataTable, element);\n",
              "          const docLink = document.createElement('div');\n",
              "          docLink.innerHTML = docLinkHtml;\n",
              "          element.appendChild(docLink);\n",
              "        }\n",
              "      </script>\n",
              "    </div>\n",
              "  </div>\n",
              "  "
            ]
          },
          "metadata": {},
          "execution_count": 41
        }
      ]
    },
    {
      "cell_type": "code",
      "source": [
        "hood1[hood1['Cum_Percent'] < 80]"
      ],
      "metadata": {
        "colab": {
          "base_uri": "https://localhost:8080/",
          "height": 423
        },
        "id": "oVJbC1ReYThA",
        "outputId": "afed7a53-25f8-4324-fee5-109bcdb151ce"
      },
      "execution_count": 42,
      "outputs": [
        {
          "output_type": "execute_result",
          "data": {
            "text/plain": [
              "                             NEIGHBOURHOOD  Case  Percentage  Cum_Percent\n",
              "0   Waterfront Communities-The Island (77)   222    3.698767     3.698767\n",
              "1               West Humber-Clairville (1)   170    2.832389     6.531156\n",
              "2                 Bay Street Corridor (76)   141    2.349217     8.880373\n",
              "3                              Rouge (131)   132    2.199267    11.079640\n",
              "4                             Woburn (137)   120    1.999334    13.078974\n",
              "..                                     ...   ...         ...          ...\n",
              "73       Kingsview Village-The Westway (6)    31    0.516495    77.724092\n",
              "74                        Black Creek (24)    31    0.516495    78.240586\n",
              "75            Humber Heights-Westmount (8)    30    0.499833    78.740420\n",
              "76                  Hillcrest Village (48)    30    0.499833    79.240253\n",
              "77        Thistletown-Beaumond Heights (3)    30    0.499833    79.740087\n",
              "\n",
              "[78 rows x 4 columns]"
            ],
            "text/html": [
              "\n",
              "  <div id=\"df-9a4ed285-6df3-47b9-8c56-ffc781718d5b\">\n",
              "    <div class=\"colab-df-container\">\n",
              "      <div>\n",
              "<style scoped>\n",
              "    .dataframe tbody tr th:only-of-type {\n",
              "        vertical-align: middle;\n",
              "    }\n",
              "\n",
              "    .dataframe tbody tr th {\n",
              "        vertical-align: top;\n",
              "    }\n",
              "\n",
              "    .dataframe thead th {\n",
              "        text-align: right;\n",
              "    }\n",
              "</style>\n",
              "<table border=\"1\" class=\"dataframe\">\n",
              "  <thead>\n",
              "    <tr style=\"text-align: right;\">\n",
              "      <th></th>\n",
              "      <th>NEIGHBOURHOOD</th>\n",
              "      <th>Case</th>\n",
              "      <th>Percentage</th>\n",
              "      <th>Cum_Percent</th>\n",
              "    </tr>\n",
              "  </thead>\n",
              "  <tbody>\n",
              "    <tr>\n",
              "      <th>0</th>\n",
              "      <td>Waterfront Communities-The Island (77)</td>\n",
              "      <td>222</td>\n",
              "      <td>3.698767</td>\n",
              "      <td>3.698767</td>\n",
              "    </tr>\n",
              "    <tr>\n",
              "      <th>1</th>\n",
              "      <td>West Humber-Clairville (1)</td>\n",
              "      <td>170</td>\n",
              "      <td>2.832389</td>\n",
              "      <td>6.531156</td>\n",
              "    </tr>\n",
              "    <tr>\n",
              "      <th>2</th>\n",
              "      <td>Bay Street Corridor (76)</td>\n",
              "      <td>141</td>\n",
              "      <td>2.349217</td>\n",
              "      <td>8.880373</td>\n",
              "    </tr>\n",
              "    <tr>\n",
              "      <th>3</th>\n",
              "      <td>Rouge (131)</td>\n",
              "      <td>132</td>\n",
              "      <td>2.199267</td>\n",
              "      <td>11.079640</td>\n",
              "    </tr>\n",
              "    <tr>\n",
              "      <th>4</th>\n",
              "      <td>Woburn (137)</td>\n",
              "      <td>120</td>\n",
              "      <td>1.999334</td>\n",
              "      <td>13.078974</td>\n",
              "    </tr>\n",
              "    <tr>\n",
              "      <th>...</th>\n",
              "      <td>...</td>\n",
              "      <td>...</td>\n",
              "      <td>...</td>\n",
              "      <td>...</td>\n",
              "    </tr>\n",
              "    <tr>\n",
              "      <th>73</th>\n",
              "      <td>Kingsview Village-The Westway (6)</td>\n",
              "      <td>31</td>\n",
              "      <td>0.516495</td>\n",
              "      <td>77.724092</td>\n",
              "    </tr>\n",
              "    <tr>\n",
              "      <th>74</th>\n",
              "      <td>Black Creek (24)</td>\n",
              "      <td>31</td>\n",
              "      <td>0.516495</td>\n",
              "      <td>78.240586</td>\n",
              "    </tr>\n",
              "    <tr>\n",
              "      <th>75</th>\n",
              "      <td>Humber Heights-Westmount (8)</td>\n",
              "      <td>30</td>\n",
              "      <td>0.499833</td>\n",
              "      <td>78.740420</td>\n",
              "    </tr>\n",
              "    <tr>\n",
              "      <th>76</th>\n",
              "      <td>Hillcrest Village (48)</td>\n",
              "      <td>30</td>\n",
              "      <td>0.499833</td>\n",
              "      <td>79.240253</td>\n",
              "    </tr>\n",
              "    <tr>\n",
              "      <th>77</th>\n",
              "      <td>Thistletown-Beaumond Heights (3)</td>\n",
              "      <td>30</td>\n",
              "      <td>0.499833</td>\n",
              "      <td>79.740087</td>\n",
              "    </tr>\n",
              "  </tbody>\n",
              "</table>\n",
              "<p>78 rows × 4 columns</p>\n",
              "</div>\n",
              "      <button class=\"colab-df-convert\" onclick=\"convertToInteractive('df-9a4ed285-6df3-47b9-8c56-ffc781718d5b')\"\n",
              "              title=\"Convert this dataframe to an interactive table.\"\n",
              "              style=\"display:none;\">\n",
              "        \n",
              "  <svg xmlns=\"http://www.w3.org/2000/svg\" height=\"24px\"viewBox=\"0 0 24 24\"\n",
              "       width=\"24px\">\n",
              "    <path d=\"M0 0h24v24H0V0z\" fill=\"none\"/>\n",
              "    <path d=\"M18.56 5.44l.94 2.06.94-2.06 2.06-.94-2.06-.94-.94-2.06-.94 2.06-2.06.94zm-11 1L8.5 8.5l.94-2.06 2.06-.94-2.06-.94L8.5 2.5l-.94 2.06-2.06.94zm10 10l.94 2.06.94-2.06 2.06-.94-2.06-.94-.94-2.06-.94 2.06-2.06.94z\"/><path d=\"M17.41 7.96l-1.37-1.37c-.4-.4-.92-.59-1.43-.59-.52 0-1.04.2-1.43.59L10.3 9.45l-7.72 7.72c-.78.78-.78 2.05 0 2.83L4 21.41c.39.39.9.59 1.41.59.51 0 1.02-.2 1.41-.59l7.78-7.78 2.81-2.81c.8-.78.8-2.07 0-2.86zM5.41 20L4 18.59l7.72-7.72 1.47 1.35L5.41 20z\"/>\n",
              "  </svg>\n",
              "      </button>\n",
              "      \n",
              "  <style>\n",
              "    .colab-df-container {\n",
              "      display:flex;\n",
              "      flex-wrap:wrap;\n",
              "      gap: 12px;\n",
              "    }\n",
              "\n",
              "    .colab-df-convert {\n",
              "      background-color: #E8F0FE;\n",
              "      border: none;\n",
              "      border-radius: 50%;\n",
              "      cursor: pointer;\n",
              "      display: none;\n",
              "      fill: #1967D2;\n",
              "      height: 32px;\n",
              "      padding: 0 0 0 0;\n",
              "      width: 32px;\n",
              "    }\n",
              "\n",
              "    .colab-df-convert:hover {\n",
              "      background-color: #E2EBFA;\n",
              "      box-shadow: 0px 1px 2px rgba(60, 64, 67, 0.3), 0px 1px 3px 1px rgba(60, 64, 67, 0.15);\n",
              "      fill: #174EA6;\n",
              "    }\n",
              "\n",
              "    [theme=dark] .colab-df-convert {\n",
              "      background-color: #3B4455;\n",
              "      fill: #D2E3FC;\n",
              "    }\n",
              "\n",
              "    [theme=dark] .colab-df-convert:hover {\n",
              "      background-color: #434B5C;\n",
              "      box-shadow: 0px 1px 3px 1px rgba(0, 0, 0, 0.15);\n",
              "      filter: drop-shadow(0px 1px 2px rgba(0, 0, 0, 0.3));\n",
              "      fill: #FFFFFF;\n",
              "    }\n",
              "  </style>\n",
              "\n",
              "      <script>\n",
              "        const buttonEl =\n",
              "          document.querySelector('#df-9a4ed285-6df3-47b9-8c56-ffc781718d5b button.colab-df-convert');\n",
              "        buttonEl.style.display =\n",
              "          google.colab.kernel.accessAllowed ? 'block' : 'none';\n",
              "\n",
              "        async function convertToInteractive(key) {\n",
              "          const element = document.querySelector('#df-9a4ed285-6df3-47b9-8c56-ffc781718d5b');\n",
              "          const dataTable =\n",
              "            await google.colab.kernel.invokeFunction('convertToInteractive',\n",
              "                                                     [key], {});\n",
              "          if (!dataTable) return;\n",
              "\n",
              "          const docLinkHtml = 'Like what you see? Visit the ' +\n",
              "            '<a target=\"_blank\" href=https://colab.research.google.com/notebooks/data_table.ipynb>data table notebook</a>'\n",
              "            + ' to learn more about interactive tables.';\n",
              "          element.innerHTML = '';\n",
              "          dataTable['output_type'] = 'display_data';\n",
              "          await google.colab.output.renderOutput(dataTable, element);\n",
              "          const docLink = document.createElement('div');\n",
              "          docLink.innerHTML = docLinkHtml;\n",
              "          element.appendChild(docLink);\n",
              "        }\n",
              "      </script>\n",
              "    </div>\n",
              "  </div>\n",
              "  "
            ]
          },
          "metadata": {},
          "execution_count": 42
        }
      ]
    },
    {
      "cell_type": "markdown",
      "source": [
        "Founded that 78 neighborhood have 80% collicion case from 140 total neighbourhood."
      ],
      "metadata": {
        "id": "FCJ-nab1Z-z4"
      }
    },
    {
      "cell_type": "markdown",
      "source": [
        "**Which neighborhoods are classified as “Top 10”?**"
      ],
      "metadata": {
        "id": "SFy4nc-bb5Ck"
      }
    },
    {
      "cell_type": "code",
      "source": [
        "top10hood = hood1.head(10)\n",
        "\n",
        "fig, ax = plt.subplots(figsize=(10, 6))\n",
        "sns.barplot(data=top10hood, y='NEIGHBOURHOOD', x='Case', color='steelblue')\n",
        "ax.set_title('Top 10 Neighbourhood by Collisions Cases', fontsize=15, fontweight='bold')\n",
        "sns.set_style(\"whitegrid\")\n",
        "ax.set_xlabel('Collisions Cases')\n",
        "ax.set_ylabel('Count)')"
      ],
      "metadata": {
        "id": "N-O6QFAIbJwt",
        "colab": {
          "base_uri": "https://localhost:8080/",
          "height": 424
        },
        "outputId": "6907d2f7-58e5-41cb-942f-4f1aa2dd59ba"
      },
      "execution_count": 43,
      "outputs": [
        {
          "output_type": "execute_result",
          "data": {
            "text/plain": [
              "Text(0, 0.5, 'Count)')"
            ]
          },
          "metadata": {},
          "execution_count": 43
        },
        {
          "output_type": "display_data",
          "data": {
            "text/plain": [
              "<Figure size 720x432 with 1 Axes>"
            ],
            "image/png": "[encoded data removed]"
          },
          "metadata": {}
        }
      ]
    },
    {
      "cell_type": "markdown",
      "source": [
        "## K- Means Clustering"
      ],
      "metadata": {
        "id": "jRaByM-9ubsb"
      }
    },
    {
      "cell_type": "markdown",
      "source": [
        "We only consider `NEIGHBORHOOD` feature and `ROAD_CLASS` feature to determine k cluster"
      ],
      "metadata": {
        "id": "IoIYGRliufuy"
      }
    },
    {
      "cell_type": "code",
      "source": [
        "cluster = pd.pivot_table(data=df1, index='NEIGHBOURHOOD', columns=['ROAD_CLASS'], aggfunc={'ROAD_CLASS' : 'count'}, fill_value=0 )\n",
        "cluster.columns = ['Collector', 'Local', 'Major Arterial', 'Minor Arterial', 'Other']\n",
        "cluster['Case'] = cluster.sum(axis=1)\n",
        "cluster = cluster.reset_index()\n",
        "cluster.head()"
      ],
      "metadata": {
        "colab": {
          "base_uri": "https://localhost:8080/",
          "height": 206
        },
        "id": "bPbkHM0VufTu",
        "outputId": "c24ba14e-5731-4f9a-b268-4d4661fd1f6c"
      },
      "execution_count": 44,
      "outputs": [
        {
          "output_type": "execute_result",
          "data": {
            "text/plain": [
              "                        NEIGHBOURHOOD  Collector  Local  Major Arterial  \\\n",
              "0               Agincourt North (129)          8      2              53   \n",
              "1  Agincourt South-Malvern West (128)          2      4              48   \n",
              "2                      Alderwood (20)          0      3              15   \n",
              "3                          Annex (95)          2      1              64   \n",
              "4              Banbury-Don Mills (42)          3      0              46   \n",
              "\n",
              "   Minor Arterial  Other  Case  \n",
              "0               1      0    64  \n",
              "1               6      0    60  \n",
              "2               4      1    23  \n",
              "3              11      1    79  \n",
              "4               4      2    55  "
            ],
            "text/html": [
              "\n",
              "  <div id=\"df-d6629572-6c05-4451-9b72-d2e969b0faaa\">\n",
              "    <div class=\"colab-df-container\">\n",
              "      <div>\n",
              "<style scoped>\n",
              "    .dataframe tbody tr th:only-of-type {\n",
              "        vertical-align: middle;\n",
              "    }\n",
              "\n",
              "    .dataframe tbody tr th {\n",
              "        vertical-align: top;\n",
              "    }\n",
              "\n",
              "    .dataframe thead th {\n",
              "        text-align: right;\n",
              "    }\n",
              "</style>\n",
              "<table border=\"1\" class=\"dataframe\">\n",
              "  <thead>\n",
              "    <tr style=\"text-align: right;\">\n",
              "      <th></th>\n",
              "      <th>NEIGHBOURHOOD</th>\n",
              "      <th>Collector</th>\n",
              "      <th>Local</th>\n",
              "      <th>Major Arterial</th>\n",
              "      <th>Minor Arterial</th>\n",
              "      <th>Other</th>\n",
              "      <th>Case</th>\n",
              "    </tr>\n",
              "  </thead>\n",
              "  <tbody>\n",
              "    <tr>\n",
              "      <th>0</th>\n",
              "      <td>Agincourt North (129)</td>\n",
              "      <td>8</td>\n",
              "      <td>2</td>\n",
              "      <td>53</td>\n",
              "      <td>1</td>\n",
              "      <td>0</td>\n",
              "      <td>64</td>\n",
              "    </tr>\n",
              "    <tr>\n",
              "      <th>1</th>\n",
              "      <td>Agincourt South-Malvern West (128)</td>\n",
              "      <td>2</td>\n",
              "      <td>4</td>\n",
              "      <td>48</td>\n",
              "      <td>6</td>\n",
              "      <td>0</td>\n",
              "      <td>60</td>\n",
              "    </tr>\n",
              "    <tr>\n",
              "      <th>2</th>\n",
              "      <td>Alderwood (20)</td>\n",
              "      <td>0</td>\n",
              "      <td>3</td>\n",
              "      <td>15</td>\n",
              "      <td>4</td>\n",
              "      <td>1</td>\n",
              "      <td>23</td>\n",
              "    </tr>\n",
              "    <tr>\n",
              "      <th>3</th>\n",
              "      <td>Annex (95)</td>\n",
              "      <td>2</td>\n",
              "      <td>1</td>\n",
              "      <td>64</td>\n",
              "      <td>11</td>\n",
              "      <td>1</td>\n",
              "      <td>79</td>\n",
              "    </tr>\n",
              "    <tr>\n",
              "      <th>4</th>\n",
              "      <td>Banbury-Don Mills (42)</td>\n",
              "      <td>3</td>\n",
              "      <td>0</td>\n",
              "      <td>46</td>\n",
              "      <td>4</td>\n",
              "      <td>2</td>\n",
              "      <td>55</td>\n",
              "    </tr>\n",
              "  </tbody>\n",
              "</table>\n",
              "</div>\n",
              "      <button class=\"colab-df-convert\" onclick=\"convertToInteractive('df-d6629572-6c05-4451-9b72-d2e969b0faaa')\"\n",
              "              title=\"Convert this dataframe to an interactive table.\"\n",
              "              style=\"display:none;\">\n",
              "        \n",
              "  <svg xmlns=\"http://www.w3.org/2000/svg\" height=\"24px\"viewBox=\"0 0 24 24\"\n",
              "       width=\"24px\">\n",
              "    <path d=\"M0 0h24v24H0V0z\" fill=\"none\"/>\n",
              "    <path d=\"M18.56 5.44l.94 2.06.94-2.06 2.06-.94-2.06-.94-.94-2.06-.94 2.06-2.06.94zm-11 1L8.5 8.5l.94-2.06 2.06-.94-2.06-.94L8.5 2.5l-.94 2.06-2.06.94zm10 10l.94 2.06.94-2.06 2.06-.94-2.06-.94-.94-2.06-.94 2.06-2.06.94z\"/><path d=\"M17.41 7.96l-1.37-1.37c-.4-.4-.92-.59-1.43-.59-.52 0-1.04.2-1.43.59L10.3 9.45l-7.72 7.72c-.78.78-.78 2.05 0 2.83L4 21.41c.39.39.9.59 1.41.59.51 0 1.02-.2 1.41-.59l7.78-7.78 2.81-2.81c.8-.78.8-2.07 0-2.86zM5.41 20L4 18.59l7.72-7.72 1.47 1.35L5.41 20z\"/>\n",
              "  </svg>\n",
              "      </button>\n",
              "      \n",
              "  <style>\n",
              "    .colab-df-container {\n",
              "      display:flex;\n",
              "      flex-wrap:wrap;\n",
              "      gap: 12px;\n",
              "    }\n",
              "\n",
              "    .colab-df-convert {\n",
              "      background-color: #E8F0FE;\n",
              "      border: none;\n",
              "      border-radius: 50%;\n",
              "      cursor: pointer;\n",
              "      display: none;\n",
              "      fill: #1967D2;\n",
              "      height: 32px;\n",
              "      padding: 0 0 0 0;\n",
              "      width: 32px;\n",
              "    }\n",
              "\n",
              "    .colab-df-convert:hover {\n",
              "      background-color: #E2EBFA;\n",
              "      box-shadow: 0px 1px 2px rgba(60, 64, 67, 0.3), 0px 1px 3px 1px rgba(60, 64, 67, 0.15);\n",
              "      fill: #174EA6;\n",
              "    }\n",
              "\n",
              "    [theme=dark] .colab-df-convert {\n",
              "      background-color: #3B4455;\n",
              "      fill: #D2E3FC;\n",
              "    }\n",
              "\n",
              "    [theme=dark] .colab-df-convert:hover {\n",
              "      background-color: #434B5C;\n",
              "      box-shadow: 0px 1px 3px 1px rgba(0, 0, 0, 0.15);\n",
              "      filter: drop-shadow(0px 1px 2px rgba(0, 0, 0, 0.3));\n",
              "      fill: #FFFFFF;\n",
              "    }\n",
              "  </style>\n",
              "\n",
              "      <script>\n",
              "        const buttonEl =\n",
              "          document.querySelector('#df-d6629572-6c05-4451-9b72-d2e969b0faaa button.colab-df-convert');\n",
              "        buttonEl.style.display =\n",
              "          google.colab.kernel.accessAllowed ? 'block' : 'none';\n",
              "\n",
              "        async function convertToInteractive(key) {\n",
              "          const element = document.querySelector('#df-d6629572-6c05-4451-9b72-d2e969b0faaa');\n",
              "          const dataTable =\n",
              "            await google.colab.kernel.invokeFunction('convertToInteractive',\n",
              "                                                     [key], {});\n",
              "          if (!dataTable) return;\n",
              "\n",
              "          const docLinkHtml = 'Like what you see? Visit the ' +\n",
              "            '<a target=\"_blank\" href=https://colab.research.google.com/notebooks/data_table.ipynb>data table notebook</a>'\n",
              "            + ' to learn more about interactive tables.';\n",
              "          element.innerHTML = '';\n",
              "          dataTable['output_type'] = 'display_data';\n",
              "          await google.colab.output.renderOutput(dataTable, element);\n",
              "          const docLink = document.createElement('div');\n",
              "          docLink.innerHTML = docLinkHtml;\n",
              "          element.appendChild(docLink);\n",
              "        }\n",
              "      </script>\n",
              "    </div>\n",
              "  </div>\n",
              "  "
            ]
          },
          "metadata": {},
          "execution_count": 44
        }
      ]
    },
    {
      "cell_type": "code",
      "source": [
        "cluster.info()"
      ],
      "metadata": {
        "colab": {
          "base_uri": "https://localhost:8080/"
        },
        "id": "MndWLmi4JmXs",
        "outputId": "e329f0d4-4804-43d7-cdf8-955b230b41b3"
      },
      "execution_count": 45,
      "outputs": [
        {
          "output_type": "stream",
          "name": "stdout",
          "text": [
            "<class 'pandas.core.frame.DataFrame'>\n",
            "RangeIndex: 140 entries, 0 to 139\n",
            "Data columns (total 7 columns):\n",
            " #   Column          Non-Null Count  Dtype \n",
            "---  ------          --------------  ----- \n",
            " 0   NEIGHBOURHOOD   140 non-null    object\n",
            " 1   Collector       140 non-null    int64 \n",
            " 2   Local           140 non-null    int64 \n",
            " 3   Major Arterial  140 non-null    int64 \n",
            " 4   Minor Arterial  140 non-null    int64 \n",
            " 5   Other           140 non-null    int64 \n",
            " 6   Case            140 non-null    int64 \n",
            "dtypes: int64(6), object(1)\n",
            "memory usage: 7.8+ KB\n"
          ]
        }
      ]
    },
    {
      "cell_type": "markdown",
      "source": [
        "### Standardization"
      ],
      "metadata": {
        "id": "IZ8v8Z50j-OI"
      }
    },
    {
      "cell_type": "code",
      "source": [
        "scaler = StandardScaler()\n",
        "scaler.fit(cluster[['Collector']])\n",
        "\n",
        "cluster['Standardized_Collector'] = scaler.transform(cluster[['Collector']])"
      ],
      "metadata": {
        "id": "jtkUoBMzkRRE"
      },
      "execution_count": 46,
      "outputs": []
    },
    {
      "cell_type": "code",
      "source": [
        "scaler = StandardScaler()\n",
        "scaler.fit(cluster[['Local']])\n",
        "\n",
        "cluster['Standardized_Local'] = scaler.transform(cluster[['Local']])"
      ],
      "metadata": {
        "id": "Pu4-PFx6kgx0"
      },
      "execution_count": 47,
      "outputs": []
    },
    {
      "cell_type": "code",
      "source": [
        "scaler = StandardScaler()\n",
        "scaler.fit(cluster[['Major Arterial']])\n",
        "\n",
        "cluster['Standardized_Major_Arterial'] = scaler.transform(cluster[['Major Arterial']])"
      ],
      "metadata": {
        "id": "WfiGLS1MknRD"
      },
      "execution_count": 48,
      "outputs": []
    },
    {
      "cell_type": "code",
      "source": [
        "scaler = StandardScaler()\n",
        "scaler.fit(cluster[['Minor Arterial']])\n",
        "\n",
        "cluster['Standardized_Minor_Arterial'] = scaler.transform(cluster[['Minor Arterial']])"
      ],
      "metadata": {
        "id": "bpbWbCNkks9L"
      },
      "execution_count": 49,
      "outputs": []
    },
    {
      "cell_type": "code",
      "source": [
        "scaler = StandardScaler()\n",
        "scaler.fit(cluster[['Other']])\n",
        "\n",
        "cluster['Standardized_Other'] = scaler.transform(cluster[['Other']])"
      ],
      "metadata": {
        "id": "GdqD7vJok0Fd"
      },
      "execution_count": 50,
      "outputs": []
    },
    {
      "cell_type": "code",
      "source": [
        "cluster.head()"
      ],
      "metadata": {
        "colab": {
          "base_uri": "https://localhost:8080/",
          "height": 357
        },
        "id": "ZbgBJG9ak6Xk",
        "outputId": "41f5414d-17b4-4a10-cbde-1b048d02a201"
      },
      "execution_count": 51,
      "outputs": [
        {
          "output_type": "execute_result",
          "data": {
            "text/plain": [
              "                        NEIGHBOURHOOD  Collector  Local  Major Arterial  \\\n",
              "0               Agincourt North (129)          8      2              53   \n",
              "1  Agincourt South-Malvern West (128)          2      4              48   \n",
              "2                      Alderwood (20)          0      3              15   \n",
              "3                          Annex (95)          2      1              64   \n",
              "4              Banbury-Don Mills (42)          3      0              46   \n",
              "\n",
              "   Minor Arterial  Other  Case  Standardized_Collector  Standardized_Local  \\\n",
              "0               1      0    64                1.734920           -0.094768   \n",
              "1               6      0    60               -0.205603            0.888015   \n",
              "2               4      1    23               -0.852444            0.396623   \n",
              "3              11      1    79               -0.205603           -0.586160   \n",
              "4               4      2    55                0.117817           -1.077551   \n",
              "\n",
              "   Standardized_Major_Arterial  Standardized_Minor_Arterial  \\\n",
              "0                     0.878062                    -0.653606   \n",
              "1                     0.680681                    -0.110228   \n",
              "2                    -0.622031                    -0.327579   \n",
              "3                     1.312299                     0.433150   \n",
              "4                     0.601729                    -0.327579   \n",
              "\n",
              "   Standardized_Other  \n",
              "0           -0.324941  \n",
              "1           -0.324941  \n",
              "2            0.872209  \n",
              "3            0.872209  \n",
              "4            2.069359  "
            ],
            "text/html": [
              "\n",
              "  <div id=\"df-ac7f2cca-7096-4b5b-8ae4-0ba5db6f13f0\">\n",
              "    <div class=\"colab-df-container\">\n",
              "      <div>\n",
              "<style scoped>\n",
              "    .dataframe tbody tr th:only-of-type {\n",
              "        vertical-align: middle;\n",
              "    }\n",
              "\n",
              "    .dataframe tbody tr th {\n",
              "        vertical-align: top;\n",
              "    }\n",
              "\n",
              "    .dataframe thead th {\n",
              "        text-align: right;\n",
              "    }\n",
              "</style>\n",
              "<table border=\"1\" class=\"dataframe\">\n",
              "  <thead>\n",
              "    <tr style=\"text-align: right;\">\n",
              "      <th></th>\n",
              "      <th>NEIGHBOURHOOD</th>\n",
              "      <th>Collector</th>\n",
              "      <th>Local</th>\n",
              "      <th>Major Arterial</th>\n",
              "      <th>Minor Arterial</th>\n",
              "      <th>Other</th>\n",
              "      <th>Case</th>\n",
              "      <th>Standardized_Collector</th>\n",
              "      <th>Standardized_Local</th>\n",
              "      <th>Standardized_Major_Arterial</th>\n",
              "      <th>Standardized_Minor_Arterial</th>\n",
              "      <th>Standardized_Other</th>\n",
              "    </tr>\n",
              "  </thead>\n",
              "  <tbody>\n",
              "    <tr>\n",
              "      <th>0</th>\n",
              "      <td>Agincourt North (129)</td>\n",
              "      <td>8</td>\n",
              "      <td>2</td>\n",
              "      <td>53</td>\n",
              "      <td>1</td>\n",
              "      <td>0</td>\n",
              "      <td>64</td>\n",
              "      <td>1.734920</td>\n",
              "      <td>-0.094768</td>\n",
              "      <td>0.878062</td>\n",
              "      <td>-0.653606</td>\n",
              "      <td>-0.324941</td>\n",
              "    </tr>\n",
              "    <tr>\n",
              "      <th>1</th>\n",
              "      <td>Agincourt South-Malvern West (128)</td>\n",
              "      <td>2</td>\n",
              "      <td>4</td>\n",
              "      <td>48</td>\n",
              "      <td>6</td>\n",
              "      <td>0</td>\n",
              "      <td>60</td>\n",
              "      <td>-0.205603</td>\n",
              "      <td>0.888015</td>\n",
              "      <td>0.680681</td>\n",
              "      <td>-0.110228</td>\n",
              "      <td>-0.324941</td>\n",
              "    </tr>\n",
              "    <tr>\n",
              "      <th>2</th>\n",
              "      <td>Alderwood (20)</td>\n",
              "      <td>0</td>\n",
              "      <td>3</td>\n",
              "      <td>15</td>\n",
              "      <td>4</td>\n",
              "      <td>1</td>\n",
              "      <td>23</td>\n",
              "      <td>-0.852444</td>\n",
              "      <td>0.396623</td>\n",
              "      <td>-0.622031</td>\n",
              "      <td>-0.327579</td>\n",
              "      <td>0.872209</td>\n",
              "    </tr>\n",
              "    <tr>\n",
              "      <th>3</th>\n",
              "      <td>Annex (95)</td>\n",
              "      <td>2</td>\n",
              "      <td>1</td>\n",
              "      <td>64</td>\n",
              "      <td>11</td>\n",
              "      <td>1</td>\n",
              "      <td>79</td>\n",
              "      <td>-0.205603</td>\n",
              "      <td>-0.586160</td>\n",
              "      <td>1.312299</td>\n",
              "      <td>0.433150</td>\n",
              "      <td>0.872209</td>\n",
              "    </tr>\n",
              "    <tr>\n",
              "      <th>4</th>\n",
              "      <td>Banbury-Don Mills (42)</td>\n",
              "      <td>3</td>\n",
              "      <td>0</td>\n",
              "      <td>46</td>\n",
              "      <td>4</td>\n",
              "      <td>2</td>\n",
              "      <td>55</td>\n",
              "      <td>0.117817</td>\n",
              "      <td>-1.077551</td>\n",
              "      <td>0.601729</td>\n",
              "      <td>-0.327579</td>\n",
              "      <td>2.069359</td>\n",
              "    </tr>\n",
              "  </tbody>\n",
              "</table>\n",
              "</div>\n",
              "      <button class=\"colab-df-convert\" onclick=\"convertToInteractive('df-ac7f2cca-7096-4b5b-8ae4-0ba5db6f13f0')\"\n",
              "              title=\"Convert this dataframe to an interactive table.\"\n",
              "              style=\"display:none;\">\n",
              "        \n",
              "  <svg xmlns=\"http://www.w3.org/2000/svg\" height=\"24px\"viewBox=\"0 0 24 24\"\n",
              "       width=\"24px\">\n",
              "    <path d=\"M0 0h24v24H0V0z\" fill=\"none\"/>\n",
              "    <path d=\"M18.56 5.44l.94 2.06.94-2.06 2.06-.94-2.06-.94-.94-2.06-.94 2.06-2.06.94zm-11 1L8.5 8.5l.94-2.06 2.06-.94-2.06-.94L8.5 2.5l-.94 2.06-2.06.94zm10 10l.94 2.06.94-2.06 2.06-.94-2.06-.94-.94-2.06-.94 2.06-2.06.94z\"/><path d=\"M17.41 7.96l-1.37-1.37c-.4-.4-.92-.59-1.43-.59-.52 0-1.04.2-1.43.59L10.3 9.45l-7.72 7.72c-.78.78-.78 2.05 0 2.83L4 21.41c.39.39.9.59 1.41.59.51 0 1.02-.2 1.41-.59l7.78-7.78 2.81-2.81c.8-.78.8-2.07 0-2.86zM5.41 20L4 18.59l7.72-7.72 1.47 1.35L5.41 20z\"/>\n",
              "  </svg>\n",
              "      </button>\n",
              "      \n",
              "  <style>\n",
              "    .colab-df-container {\n",
              "      display:flex;\n",
              "      flex-wrap:wrap;\n",
              "      gap: 12px;\n",
              "    }\n",
              "\n",
              "    .colab-df-convert {\n",
              "      background-color: #E8F0FE;\n",
              "      border: none;\n",
              "      border-radius: 50%;\n",
              "      cursor: pointer;\n",
              "      display: none;\n",
              "      fill: #1967D2;\n",
              "      height: 32px;\n",
              "      padding: 0 0 0 0;\n",
              "      width: 32px;\n",
              "    }\n",
              "\n",
              "    .colab-df-convert:hover {\n",
              "      background-color: #E2EBFA;\n",
              "      box-shadow: 0px 1px 2px rgba(60, 64, 67, 0.3), 0px 1px 3px 1px rgba(60, 64, 67, 0.15);\n",
              "      fill: #174EA6;\n",
              "    }\n",
              "\n",
              "    [theme=dark] .colab-df-convert {\n",
              "      background-color: #3B4455;\n",
              "      fill: #D2E3FC;\n",
              "    }\n",
              "\n",
              "    [theme=dark] .colab-df-convert:hover {\n",
              "      background-color: #434B5C;\n",
              "      box-shadow: 0px 1px 3px 1px rgba(0, 0, 0, 0.15);\n",
              "      filter: drop-shadow(0px 1px 2px rgba(0, 0, 0, 0.3));\n",
              "      fill: #FFFFFF;\n",
              "    }\n",
              "  </style>\n",
              "\n",
              "      <script>\n",
              "        const buttonEl =\n",
              "          document.querySelector('#df-ac7f2cca-7096-4b5b-8ae4-0ba5db6f13f0 button.colab-df-convert');\n",
              "        buttonEl.style.display =\n",
              "          google.colab.kernel.accessAllowed ? 'block' : 'none';\n",
              "\n",
              "        async function convertToInteractive(key) {\n",
              "          const element = document.querySelector('#df-ac7f2cca-7096-4b5b-8ae4-0ba5db6f13f0');\n",
              "          const dataTable =\n",
              "            await google.colab.kernel.invokeFunction('convertToInteractive',\n",
              "                                                     [key], {});\n",
              "          if (!dataTable) return;\n",
              "\n",
              "          const docLinkHtml = 'Like what you see? Visit the ' +\n",
              "            '<a target=\"_blank\" href=https://colab.research.google.com/notebooks/data_table.ipynb>data table notebook</a>'\n",
              "            + ' to learn more about interactive tables.';\n",
              "          element.innerHTML = '';\n",
              "          dataTable['output_type'] = 'display_data';\n",
              "          await google.colab.output.renderOutput(dataTable, element);\n",
              "          const docLink = document.createElement('div');\n",
              "          docLink.innerHTML = docLinkHtml;\n",
              "          element.appendChild(docLink);\n",
              "        }\n",
              "      </script>\n",
              "    </div>\n",
              "  </div>\n",
              "  "
            ]
          },
          "metadata": {},
          "execution_count": 51
        }
      ]
    },
    {
      "cell_type": "code",
      "source": [
        "X = cluster[['Standardized_Collector', 'Standardized_Local', 'Standardized_Major_Arterial', 'Standardized_Minor_Arterial', 'Standardized_Other']]"
      ],
      "metadata": {
        "id": "58bs7YNwJZDc"
      },
      "execution_count": 52,
      "outputs": []
    },
    {
      "cell_type": "code",
      "source": [
        "inertia = []\n",
        "\n",
        "for k in range(1, 10):\n",
        "    kmeans = KMeans(n_clusters=k, random_state=45)\n",
        "    kmeans.fit(X)\n",
        "    inertia.append(kmeans.inertia_)"
      ],
      "metadata": {
        "id": "OsJ6Hc0Bwdt7"
      },
      "execution_count": 53,
      "outputs": []
    },
    {
      "cell_type": "code",
      "source": [
        "plt.plot(inertia, 'bx-')\n",
        "plt.xlabel('k')\n",
        "plt.ylabel('Sum of squared distance')\n",
        "plt.title('Elbow Method for finding optimal k')\n",
        "plt.show()"
      ],
      "metadata": {
        "colab": {
          "base_uri": "https://localhost:8080/",
          "height": 295
        },
        "id": "ym4Ueh8fwfaT",
        "outputId": "dfcec9e3-c082-40b1-aa4d-5fc999cd94c4"
      },
      "execution_count": 54,
      "outputs": [
        {
          "output_type": "display_data",
          "data": {
            "text/plain": [
              "<Figure size 432x288 with 1 Axes>"
            ],
            "image/png": "[encoded data removed]"
          },
          "metadata": {}
        }
      ]
    },
    {
      "cell_type": "code",
      "source": [
        "kmeans = KMeans(n_clusters=4, random_state=45)\n",
        "kmeans.fit(X)"
      ],
      "metadata": {
        "colab": {
          "base_uri": "https://localhost:8080/"
        },
        "id": "RiuWHpo8J83s",
        "outputId": "413d463e-2d33-4314-bafc-0f8ae830ecf1"
      },
      "execution_count": 69,
      "outputs": [
        {
          "output_type": "execute_result",
          "data": {
            "text/plain": [
              "KMeans(n_clusters=4, random_state=45)"
            ]
          },
          "metadata": {},
          "execution_count": 69
        }
      ]
    },
    {
      "cell_type": "code",
      "source": [
        "kmeans.labels_"
      ],
      "metadata": {
        "id": "4vdgV8ebNOl1",
        "colab": {
          "base_uri": "https://localhost:8080/"
        },
        "outputId": "51067e32-1593-4bd9-80c5-23755efb67cb"
      },
      "execution_count": 70,
      "outputs": [
        {
          "output_type": "execute_result",
          "data": {
            "text/plain": [
              "array([1, 1, 3, 1, 3, 1, 0, 1, 3, 1, 3, 3, 1, 1, 3, 3, 3, 3, 3, 3, 3, 3,\n",
              "       3, 0, 1, 3, 3, 3, 3, 3, 3, 3, 1, 1, 3, 3, 3, 3, 3, 3, 3, 3, 3, 3,\n",
              "       3, 1, 3, 3, 3, 3, 3, 3, 3, 3, 1, 3, 3, 3, 0, 3, 1, 3, 1, 1, 3, 1,\n",
              "       3, 3, 3, 3, 3, 3, 3, 0, 3, 3, 1, 1, 3, 1, 3, 1, 3, 3, 1, 1, 1, 1,\n",
              "       3, 3, 3, 3, 1, 3, 3, 1, 3, 3, 3, 3, 3, 1, 1, 3, 1, 0, 3, 3, 3, 1,\n",
              "       0, 3, 3, 1, 1, 3, 3, 3, 3, 1, 3, 3, 2, 1, 0, 3, 1, 1, 1, 3, 3, 1,\n",
              "       0, 3, 3, 3, 3, 3, 1, 3], dtype=int32)"
            ]
          },
          "metadata": {},
          "execution_count": 70
        }
      ]
    },
    {
      "cell_type": "code",
      "source": [
        "cluster['Cluster'] = kmeans.labels_"
      ],
      "metadata": {
        "id": "JBPtagHQNTPk"
      },
      "execution_count": 71,
      "outputs": []
    },
    {
      "cell_type": "code",
      "source": [
        "df_cluster = cluster[['NEIGHBOURHOOD', 'Collector', 'Local', 'Major Arterial', 'Minor Arterial', 'Other', 'Case', 'Cluster']]\n",
        "df_cluster.head()"
      ],
      "metadata": {
        "colab": {
          "base_uri": "https://localhost:8080/",
          "height": 206
        },
        "id": "sfOgJCm5NhFj",
        "outputId": "9ba47b1e-876e-4311-cfa5-9e49443c48f0"
      },
      "execution_count": 72,
      "outputs": [
        {
          "output_type": "execute_result",
          "data": {
            "text/plain": [
              "                        NEIGHBOURHOOD  Collector  Local  Major Arterial  \\\n",
              "0               Agincourt North (129)          8      2              53   \n",
              "1  Agincourt South-Malvern West (128)          2      4              48   \n",
              "2                      Alderwood (20)          0      3              15   \n",
              "3                          Annex (95)          2      1              64   \n",
              "4              Banbury-Don Mills (42)          3      0              46   \n",
              "\n",
              "   Minor Arterial  Other  Case  Cluster  \n",
              "0               1      0    64        1  \n",
              "1               6      0    60        1  \n",
              "2               4      1    23        3  \n",
              "3              11      1    79        1  \n",
              "4               4      2    55        3  "
            ],
            "text/html": [
              "\n",
              "  <div id=\"df-7b531375-1abc-4309-b3a1-236dda7b10b7\">\n",
              "    <div class=\"colab-df-container\">\n",
              "      <div>\n",
              "<style scoped>\n",
              "    .dataframe tbody tr th:only-of-type {\n",
              "        vertical-align: middle;\n",
              "    }\n",
              "\n",
              "    .dataframe tbody tr th {\n",
              "        vertical-align: top;\n",
              "    }\n",
              "\n",
              "    .dataframe thead th {\n",
              "        text-align: right;\n",
              "    }\n",
              "</style>\n",
              "<table border=\"1\" class=\"dataframe\">\n",
              "  <thead>\n",
              "    <tr style=\"text-align: right;\">\n",
              "      <th></th>\n",
              "      <th>NEIGHBOURHOOD</th>\n",
              "      <th>Collector</th>\n",
              "      <th>Local</th>\n",
              "      <th>Major Arterial</th>\n",
              "      <th>Minor Arterial</th>\n",
              "      <th>Other</th>\n",
              "      <th>Case</th>\n",
              "      <th>Cluster</th>\n",
              "    </tr>\n",
              "  </thead>\n",
              "  <tbody>\n",
              "    <tr>\n",
              "      <th>0</th>\n",
              "      <td>Agincourt North (129)</td>\n",
              "      <td>8</td>\n",
              "      <td>2</td>\n",
              "      <td>53</td>\n",
              "      <td>1</td>\n",
              "      <td>0</td>\n",
              "      <td>64</td>\n",
              "      <td>1</td>\n",
              "    </tr>\n",
              "    <tr>\n",
              "      <th>1</th>\n",
              "      <td>Agincourt South-Malvern West (128)</td>\n",
              "      <td>2</td>\n",
              "      <td>4</td>\n",
              "      <td>48</td>\n",
              "      <td>6</td>\n",
              "      <td>0</td>\n",
              "      <td>60</td>\n",
              "      <td>1</td>\n",
              "    </tr>\n",
              "    <tr>\n",
              "      <th>2</th>\n",
              "      <td>Alderwood (20)</td>\n",
              "      <td>0</td>\n",
              "      <td>3</td>\n",
              "      <td>15</td>\n",
              "      <td>4</td>\n",
              "      <td>1</td>\n",
              "      <td>23</td>\n",
              "      <td>3</td>\n",
              "    </tr>\n",
              "    <tr>\n",
              "      <th>3</th>\n",
              "      <td>Annex (95)</td>\n",
              "      <td>2</td>\n",
              "      <td>1</td>\n",
              "      <td>64</td>\n",
              "      <td>11</td>\n",
              "      <td>1</td>\n",
              "      <td>79</td>\n",
              "      <td>1</td>\n",
              "    </tr>\n",
              "    <tr>\n",
              "      <th>4</th>\n",
              "      <td>Banbury-Don Mills (42)</td>\n",
              "      <td>3</td>\n",
              "      <td>0</td>\n",
              "      <td>46</td>\n",
              "      <td>4</td>\n",
              "      <td>2</td>\n",
              "      <td>55</td>\n",
              "      <td>3</td>\n",
              "    </tr>\n",
              "  </tbody>\n",
              "</table>\n",
              "</div>\n",
              "      <button class=\"colab-df-convert\" onclick=\"convertToInteractive('df-7b531375-1abc-4309-b3a1-236dda7b10b7')\"\n",
              "              title=\"Convert this dataframe to an interactive table.\"\n",
              "              style=\"display:none;\">\n",
              "        \n",
              "  <svg xmlns=\"http://www.w3.org/2000/svg\" height=\"24px\"viewBox=\"0 0 24 24\"\n",
              "       width=\"24px\">\n",
              "    <path d=\"M0 0h24v24H0V0z\" fill=\"none\"/>\n",
              "    <path d=\"M18.56 5.44l.94 2.06.94-2.06 2.06-.94-2.06-.94-.94-2.06-.94 2.06-2.06.94zm-11 1L8.5 8.5l.94-2.06 2.06-.94-2.06-.94L8.5 2.5l-.94 2.06-2.06.94zm10 10l.94 2.06.94-2.06 2.06-.94-2.06-.94-.94-2.06-.94 2.06-2.06.94z\"/><path d=\"M17.41 7.96l-1.37-1.37c-.4-.4-.92-.59-1.43-.59-.52 0-1.04.2-1.43.59L10.3 9.45l-7.72 7.72c-.78.78-.78 2.05 0 2.83L4 21.41c.39.39.9.59 1.41.59.51 0 1.02-.2 1.41-.59l7.78-7.78 2.81-2.81c.8-.78.8-2.07 0-2.86zM5.41 20L4 18.59l7.72-7.72 1.47 1.35L5.41 20z\"/>\n",
              "  </svg>\n",
              "      </button>\n",
              "      \n",
              "  <style>\n",
              "    .colab-df-container {\n",
              "      display:flex;\n",
              "      flex-wrap:wrap;\n",
              "      gap: 12px;\n",
              "    }\n",
              "\n",
              "    .colab-df-convert {\n",
              "      background-color: #E8F0FE;\n",
              "      border: none;\n",
              "      border-radius: 50%;\n",
              "      cursor: pointer;\n",
              "      display: none;\n",
              "      fill: #1967D2;\n",
              "      height: 32px;\n",
              "      padding: 0 0 0 0;\n",
              "      width: 32px;\n",
              "    }\n",
              "\n",
              "    .colab-df-convert:hover {\n",
              "      background-color: #E2EBFA;\n",
              "      box-shadow: 0px 1px 2px rgba(60, 64, 67, 0.3), 0px 1px 3px 1px rgba(60, 64, 67, 0.15);\n",
              "      fill: #174EA6;\n",
              "    }\n",
              "\n",
              "    [theme=dark] .colab-df-convert {\n",
              "      background-color: #3B4455;\n",
              "      fill: #D2E3FC;\n",
              "    }\n",
              "\n",
              "    [theme=dark] .colab-df-convert:hover {\n",
              "      background-color: #434B5C;\n",
              "      box-shadow: 0px 1px 3px 1px rgba(0, 0, 0, 0.15);\n",
              "      filter: drop-shadow(0px 1px 2px rgba(0, 0, 0, 0.3));\n",
              "      fill: #FFFFFF;\n",
              "    }\n",
              "  </style>\n",
              "\n",
              "      <script>\n",
              "        const buttonEl =\n",
              "          document.querySelector('#df-7b531375-1abc-4309-b3a1-236dda7b10b7 button.colab-df-convert');\n",
              "        buttonEl.style.display =\n",
              "          google.colab.kernel.accessAllowed ? 'block' : 'none';\n",
              "\n",
              "        async function convertToInteractive(key) {\n",
              "          const element = document.querySelector('#df-7b531375-1abc-4309-b3a1-236dda7b10b7');\n",
              "          const dataTable =\n",
              "            await google.colab.kernel.invokeFunction('convertToInteractive',\n",
              "                                                     [key], {});\n",
              "          if (!dataTable) return;\n",
              "\n",
              "          const docLinkHtml = 'Like what you see? Visit the ' +\n",
              "            '<a target=\"_blank\" href=https://colab.research.google.com/notebooks/data_table.ipynb>data table notebook</a>'\n",
              "            + ' to learn more about interactive tables.';\n",
              "          element.innerHTML = '';\n",
              "          dataTable['output_type'] = 'display_data';\n",
              "          await google.colab.output.renderOutput(dataTable, element);\n",
              "          const docLink = document.createElement('div');\n",
              "          docLink.innerHTML = docLinkHtml;\n",
              "          element.appendChild(docLink);\n",
              "        }\n",
              "      </script>\n",
              "    </div>\n",
              "  </div>\n",
              "  "
            ]
          },
          "metadata": {},
          "execution_count": 72
        }
      ]
    },
    {
      "cell_type": "markdown",
      "source": [
        "Check clustering by total case"
      ],
      "metadata": {
        "id": "GYlKI7Mk-ZXv"
      }
    },
    {
      "cell_type": "code",
      "source": [
        "fig, ax = plt.subplots(figsize=(25, 15))\n",
        "sns.barplot(data=cluster, x='NEIGHBOURHOOD', y='Case', hue='Cluster')\n",
        "ax.set_xticklabels(ax.get_xticklabels(),rotation=90)\n",
        "plt.tight_layout(pad=3.0)"
      ],
      "metadata": {
        "colab": {
          "base_uri": "https://localhost:8080/",
          "height": 840
        },
        "id": "EfcyMb5btP2l",
        "outputId": "a5feac85-4000-462f-a438-1ae5db67d949"
      },
      "execution_count": 73,
      "outputs": [
        {
          "output_type": "display_data",
          "data": {
            "text/plain": [
              "<Figure size 1800x1080 with 1 Axes>"
            ],
            "image/png": "[encoded data removed]"
          },
          "metadata": {}
        }
      ]
    },
    {
      "cell_type": "code",
      "source": [
        "segmented = cluster[['Collector', 'Local', 'Major Arterial', 'Minor Arterial', 'Other', 'Cluster', 'Case']]\n",
        "segmented.groupby(['Cluster'])[['Collector', 'Local', 'Major Arterial', 'Minor Arterial', 'Other', 'Case']].median()"
      ],
      "metadata": {
        "colab": {
          "base_uri": "https://localhost:8080/",
          "height": 206
        },
        "id": "VaK05GXGmJbb",
        "outputId": "ae51415b-364d-4c96-9103-1c511e2072c7"
      },
      "execution_count": 76,
      "outputs": [
        {
          "output_type": "execute_result",
          "data": {
            "text/plain": [
              "         Collector  Local  Major Arterial  Minor Arterial  Other   Case\n",
              "Cluster                                                                \n",
              "0              8.5    3.0            72.0            17.5    0.5  119.0\n",
              "1              3.0    4.0            40.0             6.0    0.0   52.0\n",
              "2              9.0    4.0           149.0            52.0    8.0  222.0\n",
              "3              1.0    1.0            17.0             3.0    0.0   24.0"
            ],
            "text/html": [
              "\n",
              "  <div id=\"df-c271f5a4-06a5-4202-b231-c07a740849c2\">\n",
              "    <div class=\"colab-df-container\">\n",
              "      <div>\n",
              "<style scoped>\n",
              "    .dataframe tbody tr th:only-of-type {\n",
              "        vertical-align: middle;\n",
              "    }\n",
              "\n",
              "    .dataframe tbody tr th {\n",
              "        vertical-align: top;\n",
              "    }\n",
              "\n",
              "    .dataframe thead th {\n",
              "        text-align: right;\n",
              "    }\n",
              "</style>\n",
              "<table border=\"1\" class=\"dataframe\">\n",
              "  <thead>\n",
              "    <tr style=\"text-align: right;\">\n",
              "      <th></th>\n",
              "      <th>Collector</th>\n",
              "      <th>Local</th>\n",
              "      <th>Major Arterial</th>\n",
              "      <th>Minor Arterial</th>\n",
              "      <th>Other</th>\n",
              "      <th>Case</th>\n",
              "    </tr>\n",
              "    <tr>\n",
              "      <th>Cluster</th>\n",
              "      <th></th>\n",
              "      <th></th>\n",
              "      <th></th>\n",
              "      <th></th>\n",
              "      <th></th>\n",
              "      <th></th>\n",
              "    </tr>\n",
              "  </thead>\n",
              "  <tbody>\n",
              "    <tr>\n",
              "      <th>0</th>\n",
              "      <td>8.5</td>\n",
              "      <td>3.0</td>\n",
              "      <td>72.0</td>\n",
              "      <td>17.5</td>\n",
              "      <td>0.5</td>\n",
              "      <td>119.0</td>\n",
              "    </tr>\n",
              "    <tr>\n",
              "      <th>1</th>\n",
              "      <td>3.0</td>\n",
              "      <td>4.0</td>\n",
              "      <td>40.0</td>\n",
              "      <td>6.0</td>\n",
              "      <td>0.0</td>\n",
              "      <td>52.0</td>\n",
              "    </tr>\n",
              "    <tr>\n",
              "      <th>2</th>\n",
              "      <td>9.0</td>\n",
              "      <td>4.0</td>\n",
              "      <td>149.0</td>\n",
              "      <td>52.0</td>\n",
              "      <td>8.0</td>\n",
              "      <td>222.0</td>\n",
              "    </tr>\n",
              "    <tr>\n",
              "      <th>3</th>\n",
              "      <td>1.0</td>\n",
              "      <td>1.0</td>\n",
              "      <td>17.0</td>\n",
              "      <td>3.0</td>\n",
              "      <td>0.0</td>\n",
              "      <td>24.0</td>\n",
              "    </tr>\n",
              "  </tbody>\n",
              "</table>\n",
              "</div>\n",
              "      <button class=\"colab-df-convert\" onclick=\"convertToInteractive('df-c271f5a4-06a5-4202-b231-c07a740849c2')\"\n",
              "              title=\"Convert this dataframe to an interactive table.\"\n",
              "              style=\"display:none;\">\n",
              "        \n",
              "  <svg xmlns=\"http://www.w3.org/2000/svg\" height=\"24px\"viewBox=\"0 0 24 24\"\n",
              "       width=\"24px\">\n",
              "    <path d=\"M0 0h24v24H0V0z\" fill=\"none\"/>\n",
              "    <path d=\"M18.56 5.44l.94 2.06.94-2.06 2.06-.94-2.06-.94-.94-2.06-.94 2.06-2.06.94zm-11 1L8.5 8.5l.94-2.06 2.06-.94-2.06-.94L8.5 2.5l-.94 2.06-2.06.94zm10 10l.94 2.06.94-2.06 2.06-.94-2.06-.94-.94-2.06-.94 2.06-2.06.94z\"/><path d=\"M17.41 7.96l-1.37-1.37c-.4-.4-.92-.59-1.43-.59-.52 0-1.04.2-1.43.59L10.3 9.45l-7.72 7.72c-.78.78-.78 2.05 0 2.83L4 21.41c.39.39.9.59 1.41.59.51 0 1.02-.2 1.41-.59l7.78-7.78 2.81-2.81c.8-.78.8-2.07 0-2.86zM5.41 20L4 18.59l7.72-7.72 1.47 1.35L5.41 20z\"/>\n",
              "  </svg>\n",
              "      </button>\n",
              "      \n",
              "  <style>\n",
              "    .colab-df-container {\n",
              "      display:flex;\n",
              "      flex-wrap:wrap;\n",
              "      gap: 12px;\n",
              "    }\n",
              "\n",
              "    .colab-df-convert {\n",
              "      background-color: #E8F0FE;\n",
              "      border: none;\n",
              "      border-radius: 50%;\n",
              "      cursor: pointer;\n",
              "      display: none;\n",
              "      fill: #1967D2;\n",
              "      height: 32px;\n",
              "      padding: 0 0 0 0;\n",
              "      width: 32px;\n",
              "    }\n",
              "\n",
              "    .colab-df-convert:hover {\n",
              "      background-color: #E2EBFA;\n",
              "      box-shadow: 0px 1px 2px rgba(60, 64, 67, 0.3), 0px 1px 3px 1px rgba(60, 64, 67, 0.15);\n",
              "      fill: #174EA6;\n",
              "    }\n",
              "\n",
              "    [theme=dark] .colab-df-convert {\n",
              "      background-color: #3B4455;\n",
              "      fill: #D2E3FC;\n",
              "    }\n",
              "\n",
              "    [theme=dark] .colab-df-convert:hover {\n",
              "      background-color: #434B5C;\n",
              "      box-shadow: 0px 1px 3px 1px rgba(0, 0, 0, 0.15);\n",
              "      filter: drop-shadow(0px 1px 2px rgba(0, 0, 0, 0.3));\n",
              "      fill: #FFFFFF;\n",
              "    }\n",
              "  </style>\n",
              "\n",
              "      <script>\n",
              "        const buttonEl =\n",
              "          document.querySelector('#df-c271f5a4-06a5-4202-b231-c07a740849c2 button.colab-df-convert');\n",
              "        buttonEl.style.display =\n",
              "          google.colab.kernel.accessAllowed ? 'block' : 'none';\n",
              "\n",
              "        async function convertToInteractive(key) {\n",
              "          const element = document.querySelector('#df-c271f5a4-06a5-4202-b231-c07a740849c2');\n",
              "          const dataTable =\n",
              "            await google.colab.kernel.invokeFunction('convertToInteractive',\n",
              "                                                     [key], {});\n",
              "          if (!dataTable) return;\n",
              "\n",
              "          const docLinkHtml = 'Like what you see? Visit the ' +\n",
              "            '<a target=\"_blank\" href=https://colab.research.google.com/notebooks/data_table.ipynb>data table notebook</a>'\n",
              "            + ' to learn more about interactive tables.';\n",
              "          element.innerHTML = '';\n",
              "          dataTable['output_type'] = 'display_data';\n",
              "          await google.colab.output.renderOutput(dataTable, element);\n",
              "          const docLink = document.createElement('div');\n",
              "          docLink.innerHTML = docLinkHtml;\n",
              "          element.appendChild(docLink);\n",
              "        }\n",
              "      </script>\n",
              "    </div>\n",
              "  </div>\n",
              "  "
            ]
          },
          "metadata": {},
          "execution_count": 76
        }
      ]
    },
    {
      "cell_type": "code",
      "source": [
        "# Initialise TSNE\n",
        "model = TSNE(random_state=1)\n",
        "transformed = model.fit_transform(X)"
      ],
      "metadata": {
        "id": "URcZXjDYdAB4",
        "colab": {
          "base_uri": "https://localhost:8080/"
        },
        "outputId": "46b2e590-5058-4b5f-9dd3-5249a8035f0a"
      },
      "execution_count": 61,
      "outputs": [
        {
          "output_type": "stream",
          "name": "stderr",
          "text": [
            "/usr/local/lib/python3.7/dist-packages/sklearn/manifold/_t_sne.py:783: FutureWarning: The default initialization in TSNE will change from 'random' to 'pca' in 1.2.\n",
            "  FutureWarning,\n",
            "/usr/local/lib/python3.7/dist-packages/sklearn/manifold/_t_sne.py:793: FutureWarning: The default learning rate in TSNE will change from 200.0 to 'auto' in 1.2.\n",
            "  FutureWarning,\n"
          ]
        }
      ]
    },
    {
      "cell_type": "code",
      "source": [
        "sns.scatterplot(x=transformed[:,0], y=transformed[:,1], hue=kmeans.labels_, style=kmeans.labels_, palette=\"Set1\")"
      ],
      "metadata": {
        "colab": {
          "base_uri": "https://localhost:8080/",
          "height": 283
        },
        "id": "b7WBRet3dLyG",
        "outputId": "715cf80f-fefd-42f9-e1f8-79d6bfdd87da"
      },
      "execution_count": 77,
      "outputs": [
        {
          "output_type": "execute_result",
          "data": {
            "text/plain": [
              "<matplotlib.axes._subplots.AxesSubplot at 0x7f9a430dc850>"
            ]
          },
          "metadata": {},
          "execution_count": 77
        },
        {
          "output_type": "display_data",
          "data": {
            "text/plain": [
              "<Figure size 432x288 with 1 Axes>"
            ],
            "image/png": "[encoded data removed]"
          },
          "metadata": {}
        }
      ]
    },
    {
      "cell_type": "markdown",
      "source": [
        "Based on the graph, we can conclude that:\n",
        "*   Cluster 2 is the highest cluster based on accident cases but only has a the lowest neighborhoods in count\n",
        "*   Cluster 0 is the second cluster based on accident cases and has more population than cluster 2\n",
        "*   Cluster 1 has more population than cluster 2 and cluster 0 and has more accident cases than cluster 3\n",
        "*   Cluster 3 is the lowest cluster based on accident cases but has the highest population"
      ],
      "metadata": {
        "id": "qs_xhV_Prp05"
      }
    },
    {
      "cell_type": "markdown",
      "source": [
        "### Evaluation Model\n",
        "Davies Bouldin Score is a metric for evaluating clustering algorithms. The smaller Davies Bouldin Score is The more optimal the cluster."
      ],
      "metadata": {
        "id": "AbnD73uD5hHo"
      }
    },
    {
      "cell_type": "markdown",
      "source": [
        "CLUSTERING = 2"
      ],
      "metadata": {
        "id": "85CHd2ug5qzt"
      }
    },
    {
      "cell_type": "code",
      "source": [
        "kmeans = KMeans(n_clusters=2)\n",
        "kmeans.fit(X)"
      ],
      "metadata": {
        "colab": {
          "base_uri": "https://localhost:8080/"
        },
        "id": "zCoOXbgX5jKt",
        "outputId": "934a6717-49b7-4a43-c076-b703589cb1d0"
      },
      "execution_count": 63,
      "outputs": [
        {
          "output_type": "execute_result",
          "data": {
            "text/plain": [
              "KMeans(n_clusters=2)"
            ]
          },
          "metadata": {},
          "execution_count": 63
        }
      ]
    },
    {
      "cell_type": "code",
      "source": [
        "print(davies_bouldin_score(X, kmeans.labels_))"
      ],
      "metadata": {
        "colab": {
          "base_uri": "https://localhost:8080/"
        },
        "id": "nGW3SDse5m7V",
        "outputId": "258e16d8-b926-46cb-faba-baf6dd8ebbcc"
      },
      "execution_count": 64,
      "outputs": [
        {
          "output_type": "stream",
          "name": "stdout",
          "text": [
            "1.336334407813786\n"
          ]
        }
      ]
    },
    {
      "cell_type": "markdown",
      "source": [
        "CLUSTERING = 3"
      ],
      "metadata": {
        "id": "Tc8w6_qO5xg1"
      }
    },
    {
      "cell_type": "code",
      "source": [
        "kmeans = KMeans(n_clusters=3)\n",
        "kmeans.fit(X)"
      ],
      "metadata": {
        "colab": {
          "base_uri": "https://localhost:8080/"
        },
        "id": "cJL1LIj75zX1",
        "outputId": "8a771437-9c37-4e23-afad-fd3d3934e49e"
      },
      "execution_count": 65,
      "outputs": [
        {
          "output_type": "execute_result",
          "data": {
            "text/plain": [
              "KMeans(n_clusters=3)"
            ]
          },
          "metadata": {},
          "execution_count": 65
        }
      ]
    },
    {
      "cell_type": "code",
      "source": [
        "print(davies_bouldin_score(X, kmeans.labels_))"
      ],
      "metadata": {
        "colab": {
          "base_uri": "https://localhost:8080/"
        },
        "id": "Q9HAAteE517F",
        "outputId": "8a25701c-0643-4380-87c7-9d26457e8ee1"
      },
      "execution_count": 66,
      "outputs": [
        {
          "output_type": "stream",
          "name": "stdout",
          "text": [
            "1.2523476811008407\n"
          ]
        }
      ]
    },
    {
      "cell_type": "markdown",
      "source": [
        "CLUSTERING = 4"
      ],
      "metadata": {
        "id": "gxS3SqEL5459"
      }
    },
    {
      "cell_type": "code",
      "source": [
        "kmeans = KMeans(n_clusters=4)\n",
        "kmeans.fit(X)"
      ],
      "metadata": {
        "colab": {
          "base_uri": "https://localhost:8080/"
        },
        "id": "K8Ul8Caw54jg",
        "outputId": "7de6fce0-525c-43b0-f5f7-8c4677131d32"
      },
      "execution_count": 67,
      "outputs": [
        {
          "output_type": "execute_result",
          "data": {
            "text/plain": [
              "KMeans(n_clusters=4)"
            ]
          },
          "metadata": {},
          "execution_count": 67
        }
      ]
    },
    {
      "cell_type": "code",
      "source": [
        "print(davies_bouldin_score(X, kmeans.labels_))"
      ],
      "metadata": {
        "colab": {
          "base_uri": "https://localhost:8080/"
        },
        "id": "g18_DQlJ58in",
        "outputId": "9d840184-8c6d-4651-81a1-6c27b3b15503"
      },
      "execution_count": 68,
      "outputs": [
        {
          "output_type": "stream",
          "name": "stdout",
          "text": [
            "1.1456564455678686\n"
          ]
        }
      ]
    },
    {
      "cell_type": "markdown",
      "source": [
        "K-Means 2 clusters has lowest davies bouldin score than other cluster. Therefore the optimum cluster is 4."
      ],
      "metadata": {
        "id": "gyhNiwIi5Uin"
      }
    },
    {
      "cell_type": "markdown",
      "source": [
        "#Conclusion"
      ],
      "metadata": {
        "id": "vAYJeOMXreBb"
      }
    },
    {
      "cell_type": "markdown",
      "source": [
        "*   Cluster 2 is the neighborhood cluster that has the highest accident cases, so it is necessary to focus more on reducing cases in this area. \n",
        "*   The majority of collisions occur in the Major Artery which is the main road in Toronto.\n",
        "*   Toronto and East York are the districts with the highest number of collisions than any other district. So it is necessary to pay attention in this area too.\n",
        "*   The environment is not a significant factor that contributes to collision cases. Most crash cases occur on dry roads, in daylight and in clear visibility.\n",
        "*   Traffic signs are not enough to reduce collision cases because the dataset says there are even traffic signs or not, still many collision cases."
      ],
      "metadata": {
        "id": "K90oWil5rokf"
      }
    },
    {
      "cell_type": "markdown",
      "source": [
        "#Recomendation"
      ],
      "metadata": {
        "id": "wp3QQDix_15D"
      }
    },
    {
      "cell_type": "markdown",
      "source": [
        "*   This project will be more complete if most Null values ​​can be filled with correct data. In this study, we can only look at the factors and areas where many accidents occur, but not the factors why accidents can occur because of the large number of Null values ​​in the dataset."
      ],
      "metadata": {
        "id": "exqjfdzu_6ge"
      }
    }
  ],
  "metadata": {
    "colab": {
      "name": "Clustering in KSI Dataset.ipynb",
      "provenance": [],
      "collapsed_sections": []
    },
    "kernelspec": {
      "display_name": "Python 3",
      "name": "python3"
    },
    "language_info": {
      "name": "python"
    }
  },
  "nbformat": 4,
  "nbformat_minor": 0
}